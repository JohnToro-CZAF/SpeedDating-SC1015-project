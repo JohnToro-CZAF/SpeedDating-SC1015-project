{
 "cells": [
  {
   "cell_type": "markdown",
   "id": "aa043715",
   "metadata": {},
   "source": [
    "# Problem formulation: \n",
    ">### * Differences between male and female in how they choose their mate\n",
    ">### * Which variable has biggest impact on getting a date"
   ]
  },
  {
   "cell_type": "markdown",
   "id": "9da6cbfe",
   "metadata": {},
   "source": [
    "# 1. Importing all the neccessary library\n"
   ]
  },
  {
   "cell_type": "code",
   "execution_count": 1,
   "id": "f6c11c17",
   "metadata": {
    "scrolled": false
   },
   "outputs": [],
   "source": [
    "# Basic Libraries\n",
    "import numpy as np\n",
    "import pandas as pd\n",
    "import seaborn as sb\n",
    "import matplotlib.pyplot as plt # we only need pyplot\n",
    "sb.set() # set the default Seaborn style for graphics"
   ]
  },
  {
   "cell_type": "code",
   "execution_count": 15,
   "id": "6ac0fce2",
   "metadata": {
    "scrolled": false
   },
   "outputs": [
    {
     "name": "stdout",
     "output_type": "stream",
     "text": [
      "/Users/johntoro/Documents/Study Document/NTU/Sem 2 AN 2021-2022/SC1015/Project/SpeedDating-SC1015-project-/Developers/John\r\n"
     ]
    }
   ],
   "source": [
    "!PWD\n",
    "pd.options.display.max_rows = 400"
   ]
  },
  {
   "cell_type": "markdown",
   "id": "fe0cd5f7",
   "metadata": {},
   "source": [
    "First we have to read the data using csv reading function\n"
   ]
  },
  {
   "cell_type": "code",
   "execution_count": 3,
   "id": "8b1ec432",
   "metadata": {
    "scrolled": true
   },
   "outputs": [
    {
     "data": {
      "text/html": [
       "<div>\n",
       "<style scoped>\n",
       "    .dataframe tbody tr th:only-of-type {\n",
       "        vertical-align: middle;\n",
       "    }\n",
       "\n",
       "    .dataframe tbody tr th {\n",
       "        vertical-align: top;\n",
       "    }\n",
       "\n",
       "    .dataframe thead th {\n",
       "        text-align: right;\n",
       "    }\n",
       "</style>\n",
       "<table border=\"1\" class=\"dataframe\">\n",
       "  <thead>\n",
       "    <tr style=\"text-align: right;\">\n",
       "      <th></th>\n",
       "      <th>iid</th>\n",
       "      <th>id</th>\n",
       "      <th>gender</th>\n",
       "      <th>idg</th>\n",
       "      <th>condtn</th>\n",
       "      <th>wave</th>\n",
       "      <th>round</th>\n",
       "      <th>position</th>\n",
       "      <th>positin1</th>\n",
       "      <th>order</th>\n",
       "      <th>...</th>\n",
       "      <th>attr3_3</th>\n",
       "      <th>sinc3_3</th>\n",
       "      <th>intel3_3</th>\n",
       "      <th>fun3_3</th>\n",
       "      <th>amb3_3</th>\n",
       "      <th>attr5_3</th>\n",
       "      <th>sinc5_3</th>\n",
       "      <th>intel5_3</th>\n",
       "      <th>fun5_3</th>\n",
       "      <th>amb5_3</th>\n",
       "    </tr>\n",
       "  </thead>\n",
       "  <tbody>\n",
       "    <tr>\n",
       "      <th>0</th>\n",
       "      <td>1</td>\n",
       "      <td>1.0</td>\n",
       "      <td>0</td>\n",
       "      <td>1</td>\n",
       "      <td>1</td>\n",
       "      <td>1</td>\n",
       "      <td>10</td>\n",
       "      <td>7</td>\n",
       "      <td>NaN</td>\n",
       "      <td>4</td>\n",
       "      <td>...</td>\n",
       "      <td>5.0</td>\n",
       "      <td>7.0</td>\n",
       "      <td>7.0</td>\n",
       "      <td>7.0</td>\n",
       "      <td>7.0</td>\n",
       "      <td>NaN</td>\n",
       "      <td>NaN</td>\n",
       "      <td>NaN</td>\n",
       "      <td>NaN</td>\n",
       "      <td>NaN</td>\n",
       "    </tr>\n",
       "    <tr>\n",
       "      <th>1</th>\n",
       "      <td>1</td>\n",
       "      <td>1.0</td>\n",
       "      <td>0</td>\n",
       "      <td>1</td>\n",
       "      <td>1</td>\n",
       "      <td>1</td>\n",
       "      <td>10</td>\n",
       "      <td>7</td>\n",
       "      <td>NaN</td>\n",
       "      <td>3</td>\n",
       "      <td>...</td>\n",
       "      <td>5.0</td>\n",
       "      <td>7.0</td>\n",
       "      <td>7.0</td>\n",
       "      <td>7.0</td>\n",
       "      <td>7.0</td>\n",
       "      <td>NaN</td>\n",
       "      <td>NaN</td>\n",
       "      <td>NaN</td>\n",
       "      <td>NaN</td>\n",
       "      <td>NaN</td>\n",
       "    </tr>\n",
       "    <tr>\n",
       "      <th>2</th>\n",
       "      <td>1</td>\n",
       "      <td>1.0</td>\n",
       "      <td>0</td>\n",
       "      <td>1</td>\n",
       "      <td>1</td>\n",
       "      <td>1</td>\n",
       "      <td>10</td>\n",
       "      <td>7</td>\n",
       "      <td>NaN</td>\n",
       "      <td>10</td>\n",
       "      <td>...</td>\n",
       "      <td>5.0</td>\n",
       "      <td>7.0</td>\n",
       "      <td>7.0</td>\n",
       "      <td>7.0</td>\n",
       "      <td>7.0</td>\n",
       "      <td>NaN</td>\n",
       "      <td>NaN</td>\n",
       "      <td>NaN</td>\n",
       "      <td>NaN</td>\n",
       "      <td>NaN</td>\n",
       "    </tr>\n",
       "    <tr>\n",
       "      <th>3</th>\n",
       "      <td>1</td>\n",
       "      <td>1.0</td>\n",
       "      <td>0</td>\n",
       "      <td>1</td>\n",
       "      <td>1</td>\n",
       "      <td>1</td>\n",
       "      <td>10</td>\n",
       "      <td>7</td>\n",
       "      <td>NaN</td>\n",
       "      <td>5</td>\n",
       "      <td>...</td>\n",
       "      <td>5.0</td>\n",
       "      <td>7.0</td>\n",
       "      <td>7.0</td>\n",
       "      <td>7.0</td>\n",
       "      <td>7.0</td>\n",
       "      <td>NaN</td>\n",
       "      <td>NaN</td>\n",
       "      <td>NaN</td>\n",
       "      <td>NaN</td>\n",
       "      <td>NaN</td>\n",
       "    </tr>\n",
       "    <tr>\n",
       "      <th>4</th>\n",
       "      <td>1</td>\n",
       "      <td>1.0</td>\n",
       "      <td>0</td>\n",
       "      <td>1</td>\n",
       "      <td>1</td>\n",
       "      <td>1</td>\n",
       "      <td>10</td>\n",
       "      <td>7</td>\n",
       "      <td>NaN</td>\n",
       "      <td>7</td>\n",
       "      <td>...</td>\n",
       "      <td>5.0</td>\n",
       "      <td>7.0</td>\n",
       "      <td>7.0</td>\n",
       "      <td>7.0</td>\n",
       "      <td>7.0</td>\n",
       "      <td>NaN</td>\n",
       "      <td>NaN</td>\n",
       "      <td>NaN</td>\n",
       "      <td>NaN</td>\n",
       "      <td>NaN</td>\n",
       "    </tr>\n",
       "    <tr>\n",
       "      <th>5</th>\n",
       "      <td>1</td>\n",
       "      <td>1.0</td>\n",
       "      <td>0</td>\n",
       "      <td>1</td>\n",
       "      <td>1</td>\n",
       "      <td>1</td>\n",
       "      <td>10</td>\n",
       "      <td>7</td>\n",
       "      <td>NaN</td>\n",
       "      <td>6</td>\n",
       "      <td>...</td>\n",
       "      <td>5.0</td>\n",
       "      <td>7.0</td>\n",
       "      <td>7.0</td>\n",
       "      <td>7.0</td>\n",
       "      <td>7.0</td>\n",
       "      <td>NaN</td>\n",
       "      <td>NaN</td>\n",
       "      <td>NaN</td>\n",
       "      <td>NaN</td>\n",
       "      <td>NaN</td>\n",
       "    </tr>\n",
       "    <tr>\n",
       "      <th>6</th>\n",
       "      <td>1</td>\n",
       "      <td>1.0</td>\n",
       "      <td>0</td>\n",
       "      <td>1</td>\n",
       "      <td>1</td>\n",
       "      <td>1</td>\n",
       "      <td>10</td>\n",
       "      <td>7</td>\n",
       "      <td>NaN</td>\n",
       "      <td>1</td>\n",
       "      <td>...</td>\n",
       "      <td>5.0</td>\n",
       "      <td>7.0</td>\n",
       "      <td>7.0</td>\n",
       "      <td>7.0</td>\n",
       "      <td>7.0</td>\n",
       "      <td>NaN</td>\n",
       "      <td>NaN</td>\n",
       "      <td>NaN</td>\n",
       "      <td>NaN</td>\n",
       "      <td>NaN</td>\n",
       "    </tr>\n",
       "    <tr>\n",
       "      <th>7</th>\n",
       "      <td>1</td>\n",
       "      <td>1.0</td>\n",
       "      <td>0</td>\n",
       "      <td>1</td>\n",
       "      <td>1</td>\n",
       "      <td>1</td>\n",
       "      <td>10</td>\n",
       "      <td>7</td>\n",
       "      <td>NaN</td>\n",
       "      <td>2</td>\n",
       "      <td>...</td>\n",
       "      <td>5.0</td>\n",
       "      <td>7.0</td>\n",
       "      <td>7.0</td>\n",
       "      <td>7.0</td>\n",
       "      <td>7.0</td>\n",
       "      <td>NaN</td>\n",
       "      <td>NaN</td>\n",
       "      <td>NaN</td>\n",
       "      <td>NaN</td>\n",
       "      <td>NaN</td>\n",
       "    </tr>\n",
       "    <tr>\n",
       "      <th>8</th>\n",
       "      <td>1</td>\n",
       "      <td>1.0</td>\n",
       "      <td>0</td>\n",
       "      <td>1</td>\n",
       "      <td>1</td>\n",
       "      <td>1</td>\n",
       "      <td>10</td>\n",
       "      <td>7</td>\n",
       "      <td>NaN</td>\n",
       "      <td>8</td>\n",
       "      <td>...</td>\n",
       "      <td>5.0</td>\n",
       "      <td>7.0</td>\n",
       "      <td>7.0</td>\n",
       "      <td>7.0</td>\n",
       "      <td>7.0</td>\n",
       "      <td>NaN</td>\n",
       "      <td>NaN</td>\n",
       "      <td>NaN</td>\n",
       "      <td>NaN</td>\n",
       "      <td>NaN</td>\n",
       "    </tr>\n",
       "    <tr>\n",
       "      <th>9</th>\n",
       "      <td>1</td>\n",
       "      <td>1.0</td>\n",
       "      <td>0</td>\n",
       "      <td>1</td>\n",
       "      <td>1</td>\n",
       "      <td>1</td>\n",
       "      <td>10</td>\n",
       "      <td>7</td>\n",
       "      <td>NaN</td>\n",
       "      <td>9</td>\n",
       "      <td>...</td>\n",
       "      <td>5.0</td>\n",
       "      <td>7.0</td>\n",
       "      <td>7.0</td>\n",
       "      <td>7.0</td>\n",
       "      <td>7.0</td>\n",
       "      <td>NaN</td>\n",
       "      <td>NaN</td>\n",
       "      <td>NaN</td>\n",
       "      <td>NaN</td>\n",
       "      <td>NaN</td>\n",
       "    </tr>\n",
       "  </tbody>\n",
       "</table>\n",
       "<p>10 rows × 195 columns</p>\n",
       "</div>"
      ],
      "text/plain": [
       "   iid   id  gender  idg  condtn  wave  round  position  positin1  order  ...  \\\n",
       "0    1  1.0       0    1       1     1     10         7       NaN      4  ...   \n",
       "1    1  1.0       0    1       1     1     10         7       NaN      3  ...   \n",
       "2    1  1.0       0    1       1     1     10         7       NaN     10  ...   \n",
       "3    1  1.0       0    1       1     1     10         7       NaN      5  ...   \n",
       "4    1  1.0       0    1       1     1     10         7       NaN      7  ...   \n",
       "5    1  1.0       0    1       1     1     10         7       NaN      6  ...   \n",
       "6    1  1.0       0    1       1     1     10         7       NaN      1  ...   \n",
       "7    1  1.0       0    1       1     1     10         7       NaN      2  ...   \n",
       "8    1  1.0       0    1       1     1     10         7       NaN      8  ...   \n",
       "9    1  1.0       0    1       1     1     10         7       NaN      9  ...   \n",
       "\n",
       "   attr3_3  sinc3_3  intel3_3  fun3_3  amb3_3  attr5_3  sinc5_3  intel5_3  \\\n",
       "0      5.0      7.0       7.0     7.0     7.0      NaN      NaN       NaN   \n",
       "1      5.0      7.0       7.0     7.0     7.0      NaN      NaN       NaN   \n",
       "2      5.0      7.0       7.0     7.0     7.0      NaN      NaN       NaN   \n",
       "3      5.0      7.0       7.0     7.0     7.0      NaN      NaN       NaN   \n",
       "4      5.0      7.0       7.0     7.0     7.0      NaN      NaN       NaN   \n",
       "5      5.0      7.0       7.0     7.0     7.0      NaN      NaN       NaN   \n",
       "6      5.0      7.0       7.0     7.0     7.0      NaN      NaN       NaN   \n",
       "7      5.0      7.0       7.0     7.0     7.0      NaN      NaN       NaN   \n",
       "8      5.0      7.0       7.0     7.0     7.0      NaN      NaN       NaN   \n",
       "9      5.0      7.0       7.0     7.0     7.0      NaN      NaN       NaN   \n",
       "\n",
       "   fun5_3  amb5_3  \n",
       "0     NaN     NaN  \n",
       "1     NaN     NaN  \n",
       "2     NaN     NaN  \n",
       "3     NaN     NaN  \n",
       "4     NaN     NaN  \n",
       "5     NaN     NaN  \n",
       "6     NaN     NaN  \n",
       "7     NaN     NaN  \n",
       "8     NaN     NaN  \n",
       "9     NaN     NaN  \n",
       "\n",
       "[10 rows x 195 columns]"
      ]
     },
     "execution_count": 3,
     "metadata": {},
     "output_type": "execute_result"
    }
   ],
   "source": [
    "data = pd.read_csv(\"data/data.csv\", encoding= 'ISO-8859-1')\n",
    "data.head(10)\n",
    "# data.shape"
   ]
  },
  {
   "cell_type": "code",
   "execution_count": 4,
   "id": "5b6b234f",
   "metadata": {},
   "outputs": [
    {
     "name": "stdout",
     "output_type": "stream",
     "text": [
      "(8378, 195)\n"
     ]
    },
    {
     "data": {
      "text/plain": [
       "iid           int64\n",
       "id          float64\n",
       "gender        int64\n",
       "idg           int64\n",
       "condtn        int64\n",
       "wave          int64\n",
       "round         int64\n",
       "position      int64\n",
       "positin1    float64\n",
       "order         int64\n",
       "partner       int64\n",
       "pid         float64\n",
       "match         int64\n",
       "int_corr    float64\n",
       "samerace      int64\n",
       "age_o       float64\n",
       "race_o      float64\n",
       "pf_o_att    float64\n",
       "pf_o_sin    float64\n",
       "pf_o_int    float64\n",
       "pf_o_fun    float64\n",
       "pf_o_amb    float64\n",
       "pf_o_sha    float64\n",
       "dec_o         int64\n",
       "attr_o      float64\n",
       "sinc_o      float64\n",
       "intel_o     float64\n",
       "fun_o       float64\n",
       "amb_o       float64\n",
       "shar_o      float64\n",
       "like_o      float64\n",
       "prob_o      float64\n",
       "met_o       float64\n",
       "age         float64\n",
       "field        object\n",
       "field_cd    float64\n",
       "undergra     object\n",
       "mn_sat       object\n",
       "tuition      object\n",
       "race        float64\n",
       "imprace     float64\n",
       "imprelig    float64\n",
       "from         object\n",
       "zipcode      object\n",
       "income       object\n",
       "goal        float64\n",
       "date        float64\n",
       "go_out      float64\n",
       "career       object\n",
       "career_c    float64\n",
       "sports      float64\n",
       "tvsports    float64\n",
       "exercise    float64\n",
       "dining      float64\n",
       "museums     float64\n",
       "art         float64\n",
       "hiking      float64\n",
       "gaming      float64\n",
       "clubbing    float64\n",
       "reading     float64\n",
       "tv          float64\n",
       "theater     float64\n",
       "movies      float64\n",
       "concerts    float64\n",
       "music       float64\n",
       "shopping    float64\n",
       "yoga        float64\n",
       "exphappy    float64\n",
       "expnum      float64\n",
       "attr1_1     float64\n",
       "sinc1_1     float64\n",
       "intel1_1    float64\n",
       "fun1_1      float64\n",
       "amb1_1      float64\n",
       "shar1_1     float64\n",
       "attr4_1     float64\n",
       "sinc4_1     float64\n",
       "intel4_1    float64\n",
       "fun4_1      float64\n",
       "amb4_1      float64\n",
       "shar4_1     float64\n",
       "attr2_1     float64\n",
       "sinc2_1     float64\n",
       "intel2_1    float64\n",
       "fun2_1      float64\n",
       "amb2_1      float64\n",
       "shar2_1     float64\n",
       "attr3_1     float64\n",
       "sinc3_1     float64\n",
       "fun3_1      float64\n",
       "intel3_1    float64\n",
       "amb3_1      float64\n",
       "attr5_1     float64\n",
       "sinc5_1     float64\n",
       "intel5_1    float64\n",
       "fun5_1      float64\n",
       "amb5_1      float64\n",
       "dec           int64\n",
       "attr        float64\n",
       "sinc        float64\n",
       "intel       float64\n",
       "fun         float64\n",
       "amb         float64\n",
       "shar        float64\n",
       "like        float64\n",
       "prob        float64\n",
       "met         float64\n",
       "match_es    float64\n",
       "attr1_s     float64\n",
       "sinc1_s     float64\n",
       "intel1_s    float64\n",
       "fun1_s      float64\n",
       "amb1_s      float64\n",
       "shar1_s     float64\n",
       "attr3_s     float64\n",
       "sinc3_s     float64\n",
       "intel3_s    float64\n",
       "fun3_s      float64\n",
       "amb3_s      float64\n",
       "satis_2     float64\n",
       "length      float64\n",
       "numdat_2    float64\n",
       "attr7_2     float64\n",
       "sinc7_2     float64\n",
       "intel7_2    float64\n",
       "fun7_2      float64\n",
       "amb7_2      float64\n",
       "shar7_2     float64\n",
       "attr1_2     float64\n",
       "sinc1_2     float64\n",
       "intel1_2    float64\n",
       "fun1_2      float64\n",
       "amb1_2      float64\n",
       "shar1_2     float64\n",
       "attr4_2     float64\n",
       "sinc4_2     float64\n",
       "intel4_2    float64\n",
       "fun4_2      float64\n",
       "amb4_2      float64\n",
       "shar4_2     float64\n",
       "attr2_2     float64\n",
       "sinc2_2     float64\n",
       "intel2_2    float64\n",
       "fun2_2      float64\n",
       "amb2_2      float64\n",
       "shar2_2     float64\n",
       "attr3_2     float64\n",
       "sinc3_2     float64\n",
       "intel3_2    float64\n",
       "fun3_2      float64\n",
       "amb3_2      float64\n",
       "attr5_2     float64\n",
       "sinc5_2     float64\n",
       "intel5_2    float64\n",
       "fun5_2      float64\n",
       "amb5_2      float64\n",
       "you_call    float64\n",
       "them_cal    float64\n",
       "date_3      float64\n",
       "numdat_3    float64\n",
       "num_in_3    float64\n",
       "attr1_3     float64\n",
       "sinc1_3     float64\n",
       "intel1_3    float64\n",
       "fun1_3      float64\n",
       "amb1_3      float64\n",
       "shar1_3     float64\n",
       "attr7_3     float64\n",
       "sinc7_3     float64\n",
       "intel7_3    float64\n",
       "fun7_3      float64\n",
       "amb7_3      float64\n",
       "shar7_3     float64\n",
       "attr4_3     float64\n",
       "sinc4_3     float64\n",
       "intel4_3    float64\n",
       "fun4_3      float64\n",
       "amb4_3      float64\n",
       "shar4_3     float64\n",
       "attr2_3     float64\n",
       "sinc2_3     float64\n",
       "intel2_3    float64\n",
       "fun2_3      float64\n",
       "amb2_3      float64\n",
       "shar2_3     float64\n",
       "attr3_3     float64\n",
       "sinc3_3     float64\n",
       "intel3_3    float64\n",
       "fun3_3      float64\n",
       "amb3_3      float64\n",
       "attr5_3     float64\n",
       "sinc5_3     float64\n",
       "intel5_3    float64\n",
       "fun5_3      float64\n",
       "amb5_3      float64\n",
       "dtype: object"
      ]
     },
     "execution_count": 4,
     "metadata": {},
     "output_type": "execute_result"
    }
   ],
   "source": [
    "print(data.shape)\n",
    "data.dtypes"
   ]
  },
  {
   "cell_type": "code",
   "execution_count": 5,
   "id": "c80df5cf",
   "metadata": {},
   "outputs": [],
   "source": [
    "def countFreq(arr, n):\n",
    "    mp = dict()\n",
    "    for i in range(n):\n",
    "        if arr[i] in mp.keys():\n",
    "            mp[arr[i]] += 1\n",
    "        else:\n",
    "            mp[arr[i]] = 1\n",
    "    for x in mp:\n",
    "        print(x, \" \", mp[x])\n",
    "def splitGender(df):\n",
    "    mask_male = (df[\"gender\"] == 1)\n",
    "    mask_female = (df[\"gender\"] == 0)\n",
    "    return [df[mask_male].drop([\"gender\"], axis = 1), df[mask_female].drop([\"gender\"], axis = 1)]"
   ]
  },
  {
   "cell_type": "code",
   "execution_count": 6,
   "id": "abd126c0",
   "metadata": {
    "scrolled": true
   },
   "outputs": [
    {
     "name": "stdout",
     "output_type": "stream",
     "text": [
      "iid            0\n",
      "id             1\n",
      "gender         0\n",
      "idg            0\n",
      "condtn         0\n",
      "wave           0\n",
      "round          0\n",
      "position       0\n",
      "positin1    1846\n",
      "order          0\n",
      "partner        0\n",
      "pid           10\n",
      "match          0\n",
      "int_corr     158\n",
      "samerace       0\n",
      "age_o        104\n",
      "race_o        73\n",
      "pf_o_att      89\n",
      "pf_o_sin      89\n",
      "pf_o_int      89\n",
      "pf_o_fun      98\n",
      "pf_o_amb     107\n",
      "pf_o_sha     129\n",
      "dec_o          0\n",
      "attr_o       212\n",
      "sinc_o       287\n",
      "intel_o      306\n",
      "fun_o        360\n",
      "amb_o        722\n",
      "shar_o      1076\n",
      "like_o       250\n",
      "prob_o       318\n",
      "met_o        385\n",
      "age           95\n",
      "field         63\n",
      "field_cd      82\n",
      "undergra    3464\n",
      "mn_sat      5245\n",
      "tuition     4795\n",
      "race          63\n",
      "imprace       79\n",
      "imprelig      79\n",
      "from          79\n",
      "zipcode     1064\n",
      "income      4099\n",
      "goal          79\n",
      "date          97\n",
      "go_out        79\n",
      "career        89\n",
      "career_c     138\n",
      "sports        79\n",
      "tvsports      79\n",
      "exercise      79\n",
      "dining        79\n",
      "museums       79\n",
      "art           79\n",
      "hiking        79\n",
      "gaming        79\n",
      "clubbing      79\n",
      "reading       79\n",
      "tv            79\n",
      "theater       79\n",
      "movies        79\n",
      "concerts      79\n",
      "music         79\n",
      "shopping      79\n",
      "yoga          79\n",
      "exphappy     101\n",
      "expnum      6578\n",
      "attr1_1       79\n",
      "sinc1_1       79\n",
      "intel1_1      79\n",
      "fun1_1        89\n",
      "amb1_1        99\n",
      "shar1_1      121\n",
      "attr4_1     1889\n",
      "sinc4_1     1889\n",
      "intel4_1    1889\n",
      "fun4_1      1889\n",
      "amb4_1      1889\n",
      "shar4_1     1911\n",
      "attr2_1       79\n",
      "sinc2_1       79\n",
      "intel2_1      79\n",
      "fun2_1        79\n",
      "amb2_1        89\n",
      "shar2_1       89\n",
      "attr3_1      105\n",
      "sinc3_1      105\n",
      "fun3_1       105\n",
      "intel3_1     105\n",
      "amb3_1       105\n",
      "attr5_1     3472\n",
      "sinc5_1     3472\n",
      "intel5_1    3472\n",
      "fun5_1      3472\n",
      "amb5_1      3472\n",
      "dec            0\n",
      "attr         202\n",
      "sinc         277\n",
      "intel        296\n",
      "fun          350\n",
      "amb          712\n",
      "shar        1067\n",
      "like         240\n",
      "prob         309\n",
      "met          375\n",
      "match_es    1173\n",
      "attr1_s     4282\n",
      "sinc1_s     4282\n",
      "intel1_s    4282\n",
      "fun1_s      4282\n",
      "amb1_s      4282\n",
      "shar1_s     4282\n",
      "attr3_s     4378\n",
      "sinc3_s     4378\n",
      "intel3_s    4378\n",
      "fun3_s      4378\n",
      "amb3_s      4378\n",
      "satis_2      915\n",
      "length       915\n",
      "numdat_2     945\n",
      "attr7_2     6394\n",
      "sinc7_2     6423\n",
      "intel7_2    6394\n",
      "fun7_2      6394\n",
      "amb7_2      6423\n",
      "shar7_2     6404\n",
      "attr1_2      933\n",
      "sinc1_2      915\n",
      "intel1_2     915\n",
      "fun1_2       915\n",
      "amb1_2       915\n",
      "shar1_2      915\n",
      "attr4_2     2603\n",
      "sinc4_2     2603\n",
      "intel4_2    2603\n",
      "fun4_2      2603\n",
      "amb4_2      2603\n",
      "shar4_2     2603\n",
      "attr2_2     2603\n",
      "sinc2_2     2603\n",
      "intel2_2    2603\n",
      "fun2_2      2603\n",
      "amb2_2      2603\n",
      "shar2_2     2603\n",
      "attr3_2      915\n",
      "sinc3_2      915\n",
      "intel3_2     915\n",
      "fun3_2       915\n",
      "amb3_2       915\n",
      "attr5_2     4001\n",
      "sinc5_2     4001\n",
      "intel5_2    4001\n",
      "fun5_2      4001\n",
      "amb5_2      4001\n",
      "you_call    4404\n",
      "them_cal    4404\n",
      "date_3      4404\n",
      "numdat_3    6882\n",
      "num_in_3    7710\n",
      "attr1_3     4404\n",
      "sinc1_3     4404\n",
      "intel1_3    4404\n",
      "fun1_3      4404\n",
      "amb1_3      4404\n",
      "shar1_3     4404\n",
      "attr7_3     6362\n",
      "sinc7_3     6362\n",
      "intel7_3    6362\n",
      "fun7_3      6362\n",
      "amb7_3      6362\n",
      "shar7_3     6362\n",
      "attr4_3     5419\n",
      "sinc4_3     5419\n",
      "intel4_3    5419\n",
      "fun4_3      5419\n",
      "amb4_3      5419\n",
      "shar4_3     5419\n",
      "attr2_3     5419\n",
      "sinc2_3     5419\n",
      "intel2_3    5419\n",
      "fun2_3      5419\n",
      "amb2_3      5419\n",
      "shar2_3     6362\n",
      "attr3_3     4404\n",
      "sinc3_3     4404\n",
      "intel3_3    4404\n",
      "fun3_3      4404\n",
      "amb3_3      4404\n",
      "attr5_3     6362\n",
      "sinc5_3     6362\n",
      "intel5_3    6362\n",
      "fun5_3      6362\n",
      "amb5_3      6362\n",
      "dtype: int64\n"
     ]
    }
   ],
   "source": [
    "print(data.isnull().sum())"
   ]
  },
  {
   "cell_type": "markdown",
   "id": "105887e6",
   "metadata": {},
   "source": [
    "# 2. Similarity variables\n",
    "            - Does similarity of subject and partner decide anything\n",
    "   "
   ]
  },
  {
   "cell_type": "markdown",
   "id": "1169d3f0",
   "metadata": {},
   "source": [
    "### Here i am looking for how important variables such as similarsites(Shared interest, race, same field, same region) are\n",
    "> We already have the subject's hobby preference: 17 variables ranged: 1-10 scale on how subject interested in activities. Sports, tvsports, exercise,... So to see whether subject and partner like each other or not we create SharedInterest variable which is the correlation coefficient among 2 people interest. This variable range from 0->1\n"
   ]
  },
  {
   "cell_type": "markdown",
   "id": "07f98f42",
   "metadata": {},
   "source": [
    "### Mapping partner position inside the similar dataset"
   ]
  },
  {
   "cell_type": "code",
   "execution_count": 7,
   "id": "624804eb",
   "metadata": {
    "scrolled": true
   },
   "outputs": [
    {
     "data": {
      "text/plain": [
       "sports      79\n",
       "tvsports    79\n",
       "exercise    79\n",
       "dining      79\n",
       "museums     79\n",
       "art         79\n",
       "hiking      79\n",
       "gaming      79\n",
       "clubbing    79\n",
       "reading     79\n",
       "tv          79\n",
       "theater     79\n",
       "movies      79\n",
       "concerts    79\n",
       "music       79\n",
       "shopping    79\n",
       "yoga        79\n",
       "dtype: int64"
      ]
     },
     "execution_count": 7,
     "metadata": {},
     "output_type": "execute_result"
    }
   ],
   "source": [
    "interests = [\"sports\", \"tvsports\", \"exercise\", \"dining\", \"museums\", \n",
    "             \"art\", \"hiking\", \"gaming\", \"clubbing\", \"reading\", \"tv\", \"theater\", \n",
    "             \"movies\", \"concerts\", \"music\", \"shopping\", \"yoga\"]\n",
    "data[interests].isnull().sum()\n",
    "# print(data[\"match\"].isnull().sum())"
   ]
  },
  {
   "cell_type": "markdown",
   "id": "26fed591",
   "metadata": {},
   "source": [
    "#### Here we can see a systematically missing 79 values in ```interests``` category,  (This is due to all of 79 missing values come from exactly 79 rows, 79 people did not fill this part of survey) we just remove these rows"
   ]
  },
  {
   "cell_type": "code",
   "execution_count": 8,
   "id": "dff7a8f4",
   "metadata": {},
   "outputs": [
    {
     "data": {
      "text/plain": [
       "(8299, 195)"
      ]
     },
     "execution_count": 8,
     "metadata": {},
     "output_type": "execute_result"
    }
   ],
   "source": [
    "data_sim = data.copy()\n",
    "data_sim = data_sim[data_sim[\"sports\"].notna()]\n",
    "data_sim.shape"
   ]
  },
  {
   "cell_type": "code",
   "execution_count": 9,
   "id": "5c85fc50",
   "metadata": {},
   "outputs": [
    {
     "data": {
      "text/html": [
       "<div>\n",
       "<style scoped>\n",
       "    .dataframe tbody tr th:only-of-type {\n",
       "        vertical-align: middle;\n",
       "    }\n",
       "\n",
       "    .dataframe tbody tr th {\n",
       "        vertical-align: top;\n",
       "    }\n",
       "\n",
       "    .dataframe thead th {\n",
       "        text-align: right;\n",
       "    }\n",
       "</style>\n",
       "<table border=\"1\" class=\"dataframe\">\n",
       "  <thead>\n",
       "    <tr style=\"text-align: right;\">\n",
       "      <th></th>\n",
       "      <th>match</th>\n",
       "      <th>gender</th>\n",
       "    </tr>\n",
       "  </thead>\n",
       "  <tbody>\n",
       "    <tr>\n",
       "      <th>0</th>\n",
       "      <td>0</td>\n",
       "      <td>0</td>\n",
       "    </tr>\n",
       "    <tr>\n",
       "      <th>1</th>\n",
       "      <td>0</td>\n",
       "      <td>0</td>\n",
       "    </tr>\n",
       "    <tr>\n",
       "      <th>2</th>\n",
       "      <td>1</td>\n",
       "      <td>0</td>\n",
       "    </tr>\n",
       "    <tr>\n",
       "      <th>3</th>\n",
       "      <td>1</td>\n",
       "      <td>0</td>\n",
       "    </tr>\n",
       "    <tr>\n",
       "      <th>4</th>\n",
       "      <td>1</td>\n",
       "      <td>0</td>\n",
       "    </tr>\n",
       "    <tr>\n",
       "      <th>...</th>\n",
       "      <td>...</td>\n",
       "      <td>...</td>\n",
       "    </tr>\n",
       "    <tr>\n",
       "      <th>8373</th>\n",
       "      <td>0</td>\n",
       "      <td>1</td>\n",
       "    </tr>\n",
       "    <tr>\n",
       "      <th>8374</th>\n",
       "      <td>0</td>\n",
       "      <td>1</td>\n",
       "    </tr>\n",
       "    <tr>\n",
       "      <th>8375</th>\n",
       "      <td>0</td>\n",
       "      <td>1</td>\n",
       "    </tr>\n",
       "    <tr>\n",
       "      <th>8376</th>\n",
       "      <td>0</td>\n",
       "      <td>1</td>\n",
       "    </tr>\n",
       "    <tr>\n",
       "      <th>8377</th>\n",
       "      <td>0</td>\n",
       "      <td>1</td>\n",
       "    </tr>\n",
       "  </tbody>\n",
       "</table>\n",
       "<p>8299 rows × 2 columns</p>\n",
       "</div>"
      ],
      "text/plain": [
       "      match  gender\n",
       "0         0       0\n",
       "1         0       0\n",
       "2         1       0\n",
       "3         1       0\n",
       "4         1       0\n",
       "...     ...     ...\n",
       "8373      0       1\n",
       "8374      0       1\n",
       "8375      0       1\n",
       "8376      0       1\n",
       "8377      0       1\n",
       "\n",
       "[8299 rows x 2 columns]"
      ]
     },
     "execution_count": 9,
     "metadata": {},
     "output_type": "execute_result"
    }
   ],
   "source": [
    "similar = pd.DataFrame(data_sim[[\"match\", \"gender\"]])\n",
    "similar"
   ]
  },
  {
   "cell_type": "code",
   "execution_count": 10,
   "id": "71abddf3",
   "metadata": {
    "scrolled": false
   },
   "outputs": [
    {
     "name": "stdout",
     "output_type": "stream",
     "text": [
      "Number of missing partner entry:  89\n",
      "Missing Values after mereged and the shape of desired similar dataset\n",
      "(8299, 3)\n",
      "match             0\n",
      "gender            0\n",
      "SharedInterest    0\n",
      "dtype: int64\n"
     ]
    }
   ],
   "source": [
    "id_table = {}\n",
    "cnt_missing_partner = 0\n",
    "for i in range(data_sim.shape[0]):\n",
    "    id_table[(data_sim.iloc[i][\"iid\"], data_sim.iloc[i][\"id\"])] = i\n",
    "\n",
    "partner = []\n",
    "temp = pd.Series(np.array([0.0 for i in range(data_sim.shape[0])]), index = data_sim.index)\n",
    "\n",
    "for i in range(data_sim.shape[0]):\n",
    "    own_in = data_sim[interests].iloc[i]\n",
    "    partner_in = []\n",
    "    partner_iid = data_sim.iloc[i][\"pid\"]\n",
    "    partner_id = data_sim.iloc[i][\"partner\"]\n",
    "    partner_index = 0\n",
    "    if(id_table.get((partner_iid, partner_id))):\n",
    "        partner_index = id_table.get((partner_iid, partner_id))\n",
    "        partner.append(partner_index)\n",
    "        partner_in = data_sim.iloc[partner_index][interests].astype(float)\n",
    "    else:\n",
    "        cnt_missing_partner += 1\n",
    "    if(len(partner_in) == len(own_in)):\n",
    "        temp.iloc[i] = (np.corrcoef(own_in, partner_in)[0, 1] + 1) / 2\n",
    "\n",
    "print(\"Number of missing partner entry: \", cnt_missing_partner)\n",
    "similar = pd.concat([similar, temp.rename(\"SharedInterest\")], axis=1)\n",
    "# Checking for the null value after concatenate: error might be \n",
    "# happen during the merge: missing index, missing value.\n",
    "print(\"Missing Values after mereged and the shape of desired similar dataset\")\n",
    "print(similar.shape)\n",
    "print(similar.isnull().sum())"
   ]
  },
  {
   "cell_type": "code",
   "execution_count": 11,
   "id": "fafba7df",
   "metadata": {
    "scrolled": false
   },
   "outputs": [
    {
     "data": {
      "text/plain": [
       "<AxesSubplot:>"
      ]
     },
     "execution_count": 11,
     "metadata": {},
     "output_type": "execute_result"
    },
    {
     "data": {
      "image/png": "[encoded data removed]",
      "text/plain": [
       "<Figure size 1296x576 with 2 Axes>"
      ]
     },
     "metadata": {},
     "output_type": "display_data"
    }
   ],
   "source": [
    "f, axes = plt.subplots(1, 2, figsize=(18, 8))\n",
    "sb.histplot(data = similar[\"SharedInterest\"], ax = axes[0])\n",
    "sb.violinplot(data = similar[\"SharedInterest\"], orient = \"h\", ax = axes[1])"
   ]
  },
  {
   "cell_type": "code",
   "execution_count": 47,
   "id": "442b0b77",
   "metadata": {
    "scrolled": false
   },
   "outputs": [
    {
     "data": {
      "text/plain": [
       "<seaborn.axisgrid.FacetGrid at 0x7f9dc785f0f0>"
      ]
     },
     "execution_count": 47,
     "metadata": {},
     "output_type": "execute_result"
    },
    {
     "data": {
      "image/png": "[encoded data removed]",
      "text/plain": [
       "<Figure size 360x360 with 1 Axes>"
      ]
     },
     "metadata": {},
     "output_type": "display_data"
    }
   ],
   "source": [
    "sb.catplot(x=\"match\", y=\"SharedInterest\", kind=\"box\", data=similar).set_xlabels(\"Match\")"
   ]
  },
  {
   "cell_type": "code",
   "execution_count": 21,
   "id": "4160bebd",
   "metadata": {},
   "outputs": [
    {
     "data": {
      "image/png": "[encoded data removed]",
      "text/plain": [
       "<Figure size 360x360 with 1 Axes>"
      ]
     },
     "metadata": {},
     "output_type": "display_data"
    }
   ],
   "source": [
    "with plt.style.context('ggplot'):\n",
    "    sb.catplot(x=\"match\", y=\"SharedInterest\", kind=\"box\", data=similar).set_xlabels(\"Match\")"
   ]
  },
  {
   "cell_type": "markdown",
   "id": "3fbd902d",
   "metadata": {},
   "source": [
    "### This code will combine 4 variables : SharedInterest, Samerace, Same Region(```from``` variable), same field (aggregated to Business, Law, Service, and Academic from field variable)"
   ]
  },
  {
   "cell_type": "markdown",
   "id": "d2512e87",
   "metadata": {},
   "source": [
    "Secondly, we go with ```race``` variable"
   ]
  },
  {
   "cell_type": "code",
   "execution_count": null,
   "id": "3a126efc",
   "metadata": {
    "scrolled": true
   },
   "outputs": [],
   "source": [
    "data_sim[\"race_o\"] = data_sim[\"race_o\"].map({2.0 : \"Europe\", 4.0 : \"Asian\", 3.0 : \"Latin\", 6.0 : \"Other\", 1.0: \"Black\"})"
   ]
  },
  {
   "cell_type": "code",
   "execution_count": null,
   "id": "33899d70",
   "metadata": {
    "scrolled": false
   },
   "outputs": [],
   "source": [
    "sb.catplot(y = \"race_o\", data = data_sim, kind = \"count\")"
   ]
  },
  {
   "cell_type": "markdown",
   "id": "9c5aa0ab",
   "metadata": {},
   "source": [
    "Here we can extend our analysis further: to racial preference but due to the limit of the research scope, we place the problem in future analysis\n"
   ]
  },
  {
   "cell_type": "code",
   "execution_count": null,
   "id": "f1a173a2",
   "metadata": {
    "scrolled": true
   },
   "outputs": [],
   "source": [
    "similar[\"SameRace\"] = data_sim[\"samerace\"]\n",
    "print(similar[\"SameRace\"].value_counts())\n",
    "sb.catplot(y = \"SameRace\", data = similar, kind = \"count\")"
   ]
  },
  {
   "cell_type": "markdown",
   "id": "ebce8e4e",
   "metadata": {},
   "source": [
    "Next we will head into the ```from``` variable"
   ]
  },
  {
   "cell_type": "code",
   "execution_count": null,
   "id": "4c763803",
   "metadata": {
    "scrolled": true
   },
   "outputs": [],
   "source": [
    "print(\"Missing values in 'from' variable: \", data_sim[\"from\"].isnull().sum())\n",
    "data_sim[\"from\"].value_counts()"
   ]
  },
  {
   "cell_type": "markdown",
   "id": "d20e90b8",
   "metadata": {},
   "source": [
    "So ```from``` does not have any missing value, that is safe. Continue on.\n",
    "\n",
    "Here we can see the ```from``` variable consists of city's name where subject live, but we only care about whether two people in a date is come from one region or not, it is natural if we aggregate ```from``` values into categories: [North America, Western Europe, Eastern Europe, Central Asia, Middle East, South Asia, East Asia, Latin America,\n",
    "or Africa]\n",
    "\n",
    "We can use a library to classify these cities into above categories"
   ]
  },
  {
   "cell_type": "code",
   "execution_count": null,
   "id": "3a963435",
   "metadata": {},
   "outputs": [],
   "source": [
    "# Checkpoint during running code\n",
    "similar.shape\n",
    "similar.head(5)"
   ]
  },
  {
   "cell_type": "code",
   "execution_count": null,
   "id": "0c018432",
   "metadata": {
    "scrolled": true
   },
   "outputs": [],
   "source": [
    "city_name = data_sim[\"from\"].unique()\n",
    "print(len(city_name))\n",
    "print(city_name)"
   ]
  },
  {
   "cell_type": "markdown",
   "id": "a70b2f14",
   "metadata": {},
   "source": [
    "We can see here, there is a lot of ancronym and flaw format answer ( most of them come from USA ), so we just mapping some flaw answer city name into already defined map and the rest go with USA\n"
   ]
  },
  {
   "cell_type": "code",
   "execution_count": null,
   "id": "05cb1883",
   "metadata": {},
   "outputs": [],
   "source": [
    "import re\n",
    "flaw_address = [\"94115\", \"Wash DC (4 yrs)\", \"I am from NYC\", \"San Francisco(home)/Los Angeles(undergrad)\", \n",
    " \"nyc\", \"way too little space here. world citizen.\"\n",
    ", \"NYC-6 yrs. Grew up in Nebraska\", \"Born in Montana, raised in South Jersey (nr. Philadelphia)\", \n",
    " \"raised in South Jersey (nr. Philadelphia)\",  \"J.P. Morgan\", \"CT, FL, TN\", \"Katonah, NY (more recently, Boston)\"]\n",
    "\n",
    "US = ['Brooklyn', 'Florida', 'Tuscaloosa, Alabama', 'Albuquerque, NM'\n",
    " 'Palo Alto, California','Boston, MA', 'Mexico', 'Torrance, CA',\n",
    " 'St. Louis, MO','South Orange, New Jersey',\n",
    " 'Boston, Ma' , 'Kansas City, Missouri', 'Upstate New York']\n",
    "\n",
    "usRegex = re.compile(r\"New York|NY|N.Y|NYC|PA|[C-c]alifornia|CA|Los Angeles|DC|D.C|USA|TX|MA|GA|NJ|nyc|San Francisco\")\n",
    "country_mapping = {}\n",
    "for i in city_name:\n",
    "    res = usRegex.search(i)\n",
    "    if(res is not None):\n",
    "        US.append(i)\n",
    "for i in flaw_address:\n",
    "    country_mapping[i] = \"United States\"\n",
    "for i in US:\n",
    "    country_mapping[i] = \"United States\""
   ]
  },
  {
   "cell_type": "code",
   "execution_count": null,
   "id": "1e7048af",
   "metadata": {
    "scrolled": true
   },
   "outputs": [],
   "source": [
    "print(country_mapping)\n",
    "print(len(country_mapping))"
   ]
  },
  {
   "cell_type": "code",
   "execution_count": null,
   "id": "e1725f7a",
   "metadata": {},
   "outputs": [],
   "source": [
    "import geopy as gp\n",
    "from geopy import geocoders\n",
    "from geopy.geocoders import Nominatim\n",
    "from geopy.exc import GeocoderTimedOut\n",
    "\n",
    "# A recursive function used to continue request the data even it is bad request\n",
    "def do_geocode(address, attempt=1, max_attempts=5):\n",
    "    try:\n",
    "        return geolocator.geocode(address, exactly_one = False, language=\"en\")\n",
    "    except GeocoderTimedOut:\n",
    "        if attempt <= max_attempts:\n",
    "            return do_geocode(address, attempt=attempt+1)\n",
    "        raise\n",
    "\n",
    "gp.geocoders.options.default_user_agent = \"Phan Nhat Hoang\"\n",
    "geolocator = Nominatim(timeout=5, scheme='http', user_agent = gp.geocoders.options.default_user_agent)\n",
    "\n",
    "city_name = data_sim[\"from\"].unique()\n",
    "len_city = len(city_name)\n",
    "\n",
    "for i in city_name:\n",
    "    if(i in flaw_address or i in US):\n",
    "        continue\n",
    "    res = do_geocode(i)\n",
    "    if(res is not None):\n",
    "        location = geolocator.reverse(str(res[0].latitude) + \",\" + str(res[0].longitude), language=\"en\")\n",
    "        country = location.raw['address'][\"country\"]\n",
    "        country_mapping[i] = country\n",
    "    elif not (country_mapping.get(i)):\n",
    "        country_mapping[i] = \"United States\"\n"
   ]
  },
  {
   "cell_type": "code",
   "execution_count": null,
   "id": "b3921842",
   "metadata": {
    "scrolled": true
   },
   "outputs": [],
   "source": [
    "data_sim[\"Region\"] = pd.Series([\"\" for i in range(data_sim.shape[0])]).astype(\"string\")\n",
    "for i in range(data_sim.shape[0]):\n",
    "    data_sim.loc[:,\"Region\"].iloc[i] = country_mapping[data_sim.iloc[i][\"from\"]]\n",
    "data_sim[\"Region\"].value_counts()"
   ]
  },
  {
   "cell_type": "code",
   "execution_count": null,
   "id": "0b998ba1",
   "metadata": {},
   "outputs": [],
   "source": [
    "region_data = pd.read_csv(\"data/necessary/continents2.csv\")\n",
    "# print(region_data.head(5))\n",
    "region_mapping = {}\n",
    "\n",
    "# print(region_data.loc[:,\"name\"].iloc[1])\n",
    "for i in range(region_data.shape[0]):\n",
    "    region_mapping[str(region_data.loc[:,\"name\"].iloc[i])] = region_data.loc[:,\"sub-region\"].iloc[i]\n",
    "\n",
    "for i in range(similar.shape[0]):\n",
    "    if(region_mapping.get(data_sim.iloc[i][\"Region\"]) is not None):\n",
    "        data_sim.loc[:,\"Region\"].iloc[i] = region_mapping.get(data_sim.loc[:, \"Region\"].iloc[i])\n",
    "#     else:       \n",
    "#         print(data_sim.iloc[i][\"Region\"])\n",
    "print(\"Missing value: \", data_sim[\"Region\"].isnull().sum())\n",
    "data_sim[\"Region\"].value_counts()"
   ]
  },
  {
   "cell_type": "code",
   "execution_count": null,
   "id": "ccbb6239",
   "metadata": {},
   "outputs": [],
   "source": [
    "# id_table = {(iid, id) : position (reference to rows) in data_sim}\n",
    "\n",
    "similar[\"SameRegion\"] = pd.Series([0 for i in range(data_sim.shape[0])], index = data_sim.index).astype(\"int\")\n",
    "for i in range(data_sim.shape[0]):\n",
    "    partner_iid = data_sim.iloc[i][\"pid\"]\n",
    "    partner_id = data_sim.iloc[i][\"partner\"]\n",
    "    partner_index = 0\n",
    "    if(id_table.get((partner_iid, partner_id))):\n",
    "        partner_index = id_table.get((partner_iid, partner_id))\n",
    "        if (data_sim.iloc[i][\"Region\"] == data_sim.iloc[partner_index][\"Region\"]):\n",
    "            similar.at[similar.index[i], \"SameRegion\"] = 1\n",
    "        else:\n",
    "            similar.at[similar.index[i], \"SameRegion\"] = 0\n",
    "    else:\n",
    "        similar.at[similar.index[i], \"SameRegion\"] = 0"
   ]
  },
  {
   "cell_type": "code",
   "execution_count": null,
   "id": "e4b7d66f",
   "metadata": {},
   "outputs": [],
   "source": [
    "# Checking for the null value after concatenate: error might be \n",
    "# happen during the merge: missing index, missing value.\n",
    "print(\"Missing Values after mereged and the shape of desired similar dataset\")\n",
    "print(similar.shape)\n",
    "print(similar.isnull().sum())"
   ]
  },
  {
   "cell_type": "code",
   "execution_count": null,
   "id": "8a17f3f7",
   "metadata": {},
   "outputs": [],
   "source": [
    "similar[\"SameRegion\"]\n",
    "sb.catplot(y = \"SameRegion\", data = similar, kind = \"count\")"
   ]
  },
  {
   "cell_type": "markdown",
   "id": "92f1553e",
   "metadata": {},
   "source": [
    "### ```SameField``` variable,  \n",
    "Same Field is an indicator variable denoting that the subject and partner are in the same area of\n",
    "study (aggregated to Business, Law, Service, and Academic) "
   ]
  },
  {
   "cell_type": "code",
   "execution_count": 31,
   "id": "d5fdf9c4",
   "metadata": {
    "scrolled": false
   },
   "outputs": [
    {
     "data": {
      "text/plain": [
       "Econ         1925\n",
       "Bio. Sc.      993\n",
       "Eng.          864\n",
       "Pol. Sci.     709\n",
       "Soc. Sc.      680\n",
       "Law           665\n",
       "Educ.         626\n",
       "Soc. Wrk.     468\n",
       "Journ.        325\n",
       "Hist.         241\n",
       "Math          207\n",
       "Arts          187\n",
       "Med Sci       143\n",
       "Film          126\n",
       "Oth.           52\n",
       "Lang.          40\n",
       "NaN            19\n",
       "Undergrad      19\n",
       "Arch.          10\n",
       "Name: field_cd, dtype: int64"
      ]
     },
     "execution_count": 31,
     "metadata": {},
     "output_type": "execute_result"
    }
   ],
   "source": [
    "# This series is solely serve the data visualization purpose\n",
    "temp_field = pd.DataFrame()\n",
    "temp_field[\"field_cd\"] = data_sim.field_cd.map({1: 'Law', 2: 'Math', 3: 'Soc. Sc.', 4: 'Med Sci',\n",
    "                                 5: 'Eng.', 6: 'Journ.', 7: 'Hist.', 8: 'Econ', 9: 'Educ.',\n",
    "                                 10: 'Bio. Sc.', 11: 'Soc. Wrk.', 12: 'Undergrad', 13: 'Pol. Sci.',\n",
    "                                 14: 'Film', 15: 'Arts', 16:'Lang.', 17: 'Arch.', 18: 'Oth.'}).fillna(data_sim.field_cd)\n",
    "temp_field[\"gender\"] = data_sim.gender\n",
    "temp_field[\"field_cd\"].value_counts(dropna=False)"
   ]
  },
  {
   "cell_type": "code",
   "execution_count": 45,
   "id": "9e6a584c",
   "metadata": {},
   "outputs": [
    {
     "data": {
      "text/plain": [
       "<seaborn.axisgrid.FacetGrid at 0x7f9dc78f7ac8>"
      ]
     },
     "execution_count": 45,
     "metadata": {},
     "output_type": "execute_result"
    },
    {
     "data": {
      "image/png": "[encoded data removed]",
      "text/plain": [
       "<Figure size 360x360 with 1 Axes>"
      ]
     },
     "metadata": {},
     "output_type": "display_data"
    }
   ],
   "source": [
    "\n",
    "# msk_gender = (similar[\"match\"] == 1)\n",
    "sb.catplot(y = \"field_cd\", data = temp_field, kind = \"count\").set_xlabels(\"Count\").set_ylabels(\"Field\")"
   ]
  },
  {
   "cell_type": "code",
   "execution_count": 35,
   "id": "cdfcdb45",
   "metadata": {
    "scrolled": false
   },
   "outputs": [
    {
     "name": "stdout",
     "output_type": "stream",
     "text": [
      "The number of people who does not have job yet:  19\n"
     ]
    }
   ],
   "source": [
    "print(\"The number of people who does not have job yet: \" , temp_field[\"field_cd\"].isna().sum())"
   ]
  },
  {
   "cell_type": "code",
   "execution_count": 36,
   "id": "030a8dcf",
   "metadata": {},
   "outputs": [
    {
     "data": {
      "text/plain": [
       "Text(0.5, 0, '')"
      ]
     },
     "execution_count": 36,
     "metadata": {},
     "output_type": "execute_result"
    },
    {
     "data": {
      "image/png": "[encoded data removed]",
      "text/plain": [
       "<Figure size 1080x576 with 1 Axes>"
      ]
     },
     "metadata": {},
     "output_type": "display_data"
    }
   ],
   "source": [
    "studies = temp_field[['gender', 'field_cd']].groupby(['field_cd', 'gender']).size().unstack().fillna(0)\n",
    "ax = studies.plot(kind='bar', figsize=(15,8), stacked=True)\n",
    "ax.set_xticklabels(ax.get_xticklabels(), fontsize=12, rotation=45)\n",
    "\n",
    "ax.set_title('Field of study by gender', fontsize=18)\n",
    "ax.set_xlabel('',fontsize=1)"
   ]
  },
  {
   "cell_type": "code",
   "execution_count": 37,
   "id": "942beacf",
   "metadata": {},
   "outputs": [],
   "source": [
    "#Since the data is generated in Columbia business school, where most of students major in Business and Law. So \n",
    "#it is natural to see: people surround you are all same interest in study with you, \"what is your tendency to date\n",
    "#someone is not in your circle\"\n",
    "from random import randint\n",
    "Business = [8]\n",
    "Law = [1, 13]\n",
    "Engineering = [5, 17]\n",
    "Service = [6, 11, 14, 15, 18, 4, 12]\n",
    "Academic = [2, 3, 7, 9, 10, 16]\n",
    "\n",
    "array_field = [Business, Law, Engineering, Service, Academic]\n",
    "temp_string_field = [\"Business\", \"Law\", \"Engineering\", \"Service\", \"Academic\"]\n",
    "\n",
    "for i in range(data_sim.shape[0]):\n",
    "    found = False\n",
    "    for j in range(5):\n",
    "        if(data_sim.at[data_sim.index[i], \"field_cd\"] in array_field[j]):\n",
    "            data_sim.at[data_sim.index[i],\"field_cd\"] = j\n",
    "            found = True\n",
    "            break\n",
    "    if not found:\n",
    "        data_sim.at[data_sim.index[i],\"field_cd\"] = randint(0,4)\n",
    "data_sim.astype({\"field_cd\": str})\n",
    "# print(data_sim.shape[0], count)\n",
    "def decode_num(x):\n",
    "    return temp_string_field[int(x)]\n",
    "data_sim[\"field_cd\"] = data_sim[\"field_cd\"].apply(decode_num)"
   ]
  },
  {
   "cell_type": "code",
   "execution_count": 48,
   "id": "3e7c8835",
   "metadata": {
    "scrolled": true
   },
   "outputs": [
    {
     "data": {
      "text/plain": [
       "<seaborn.axisgrid.FacetGrid at 0x7f9dc9509400>"
      ]
     },
     "execution_count": 48,
     "metadata": {},
     "output_type": "execute_result"
    },
    {
     "data": {
      "image/png": "[encoded data removed]",
      "text/plain": [
       "<Figure size 360x360 with 1 Axes>"
      ]
     },
     "metadata": {},
     "output_type": "display_data"
    }
   ],
   "source": [
    "sb.catplot(y = \"field_cd\", data = data_sim, kind = \"count\").set_xlabels(\"Count\").set_ylabels(\"Field\")"
   ]
  },
  {
   "cell_type": "code",
   "execution_count": 39,
   "id": "6a56733c",
   "metadata": {
    "scrolled": true
   },
   "outputs": [
    {
     "name": "stdout",
     "output_type": "stream",
     "text": [
      "Missing Values after mereged and the shape of desired similar dataset\n",
      "(8299, 4)\n",
      "match             0\n",
      "gender            0\n",
      "SharedInterest    0\n",
      "SameField         0\n",
      "dtype: int64\n"
     ]
    }
   ],
   "source": [
    "temp = pd.Series(np.array([0 for i in range(data_sim.shape[0])]), index = data_sim.index)\n",
    "cnt = 0\n",
    "for i in range(data_sim.shape[0]):\n",
    "    own_field = data_sim[\"field_cd\"].iloc[i]\n",
    "    partner_in = []\n",
    "    partner_iid = data_sim.iloc[i][\"pid\"]\n",
    "    partner_id = data_sim.iloc[i][\"partner\"]\n",
    "    partner_index = 0\n",
    "    if(id_table.get((partner_iid, partner_id))):\n",
    "        partner_index = id_table.get((partner_iid, partner_id))\n",
    "        partner_field = data_sim.iloc[partner_index][\"field_cd\"]\n",
    "        if(partner_field == own_field):\n",
    "            temp.iloc[i] = 1\n",
    "similar = pd.concat([similar, temp.rename(\"SameField\")], axis=1)\n",
    "# Checking for the null value after concatenate: error might be \n",
    "# happen during the merge: missing index, missing value.\n",
    "print(\"Missing Values after mereged and the shape of desired similar dataset\")\n",
    "print(similar.shape)\n",
    "print(similar.isnull().sum())"
   ]
  },
  {
   "cell_type": "code",
   "execution_count": 43,
   "id": "0e4f702c",
   "metadata": {},
   "outputs": [
    {
     "data": {
      "text/plain": [
       "<seaborn.axisgrid.FacetGrid at 0x7f9dc303d780>"
      ]
     },
     "execution_count": 43,
     "metadata": {},
     "output_type": "execute_result"
    },
    {
     "data": {
      "image/png": "[encoded data removed]",
      "text/plain": [
       "<Figure size 360x360 with 1 Axes>"
      ]
     },
     "metadata": {},
     "output_type": "display_data"
    }
   ],
   "source": [
    "sb.catplot(y = \"SameField\", data = similar, kind = \"count\").set_xlabels(\"Count\")"
   ]
  },
  {
   "cell_type": "markdown",
   "id": "8b82ffac",
   "metadata": {},
   "source": [
    "## Extracting csv files for modeling"
   ]
  },
  {
   "cell_type": "code",
   "execution_count": null,
   "id": "93194d01",
   "metadata": {},
   "outputs": [],
   "source": [
    "similar = similar.iloc[:, ::-1]\n",
    "print(similar.head())\n",
    "similar_male, similar_female = splitGender(similar)\n",
    "similar_male.to_csv(\"data/similar_male.csv\", index=False)\n",
    "similar_female.to_csv(\"data/similar_female.csv\", index=False)\n"
   ]
  }
 ],
 "metadata": {
  "kernelspec": {
   "display_name": "Python [conda env:Module1] *",
   "language": "python",
   "name": "conda-env-Module1-py"
  },
  "language_info": {
   "codemirror_mode": {
    "name": "ipython",
    "version": 3
   },
   "file_extension": ".py",
   "mimetype": "text/x-python",
   "name": "python",
   "nbconvert_exporter": "python",
   "pygments_lexer": "ipython3",
   "version": "3.7.0"
  }
 },
 "nbformat": 4,
 "nbformat_minor": 5
}
