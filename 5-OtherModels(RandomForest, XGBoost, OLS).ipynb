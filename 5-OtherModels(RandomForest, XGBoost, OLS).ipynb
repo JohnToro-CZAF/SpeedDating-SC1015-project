{
 "cells": [
  {
   "cell_type": "markdown",
   "id": "af320b35",
   "metadata": {},
   "source": [
    "# 1. Necessary functions and libraries"
   ]
  },
  {
   "cell_type": "code",
   "execution_count": 1,
   "id": "42e462bf",
   "metadata": {
    "scrolled": false
   },
   "outputs": [],
   "source": [
    "import pandas as pd\n",
    "import numpy as np\n",
    "import seaborn as sb\n",
    "import matplotlib.pyplot as plt\n",
    "import plotly"
   ]
  },
  {
   "cell_type": "markdown",
   "id": "686ccc6a",
   "metadata": {},
   "source": [
    "## Importing helper function for Random Forest Feature Importance"
   ]
  },
  {
   "cell_type": "code",
   "execution_count": 289,
   "id": "a7ce688a",
   "metadata": {},
   "outputs": [],
   "source": [
    "from sklearn.datasets import fetch_openml\n",
    "from sklearn.ensemble import RandomForestClassifier\n",
    "from sklearn.impute import SimpleImputer\n",
    "from sklearn.inspection import permutation_importance\n",
    "from sklearn.compose import ColumnTransformer\n",
    "from sklearn.model_selection import train_test_split\n",
    "from sklearn.pipeline import Pipeline\n",
    "from sklearn.preprocessing import OneHotEncoder\n",
    "from sklearn import metrics\n",
    "from sklearn.metrics import mean_squared_error\n",
    "from sklearn.model_selection import cross_val_score"
   ]
  },
  {
   "cell_type": "markdown",
   "id": "d5280c7b",
   "metadata": {},
   "source": [
    "## Importing OLS API for modeling"
   ]
  },
  {
   "cell_type": "code",
   "execution_count": 290,
   "id": "b7a60c0c",
   "metadata": {},
   "outputs": [],
   "source": [
    "import statsmodels.api as ols"
   ]
  },
  {
   "cell_type": "markdown",
   "id": "af124a86",
   "metadata": {},
   "source": [
    "## Importing XGBoost API and Logistic Regression for comparing accuracy"
   ]
  },
  {
   "cell_type": "code",
   "execution_count": 296,
   "id": "ffb1f9a1",
   "metadata": {},
   "outputs": [],
   "source": [
    "from sklearn.ensemble import GradientBoostingClassifier\n",
    "from sklearn.linear_model import LogisticRegression"
   ]
  },
  {
   "cell_type": "markdown",
   "id": "b01e9e30",
   "metadata": {},
   "source": [
    "## Utility Functions"
   ]
  },
  {
   "cell_type": "code",
   "execution_count": 135,
   "id": "f4836194",
   "metadata": {},
   "outputs": [],
   "source": [
    "from sklearn.preprocessing import StandardScaler\n",
    "scaler = StandardScaler()\n",
    "from itertools import chain,cycle\n",
    "import plotly.graph_objects as go\n",
    "pd.set_option('display.max_rows', None)\n",
    "np.set_printoptions(precision = 3)\n",
    "def drawline():\n",
    "    print('-'*117)\n",
    "def verticleCanvas(size):\n",
    "    f, ax = plt.subplots(1, 2, figsize=size)\n",
    "    return [f, ax]\n",
    "\n",
    "def plotRadar(coef_male, coef_female, range_value, title):\n",
    "    categories = coef_male.index.to_numpy()\n",
    "    fig = go.Figure()\n",
    "\n",
    "    fig.add_trace(go.Scatterpolar(\n",
    "          r=coef_male.to_numpy(),\n",
    "          theta=categories,\n",
    "          fill='toself',\n",
    "          name='Before'\n",
    "    ))\n",
    "    fig.add_trace(go.Scatterpolar(\n",
    "          r=coef_female.to_numpy(),\n",
    "          theta=categories,\n",
    "          fill='toself',\n",
    "          name='After'\n",
    "    ))\n",
    "\n",
    "    fig.update_layout(\n",
    "      title=title,\n",
    "      polar=dict(\n",
    "        radialaxis=dict(\n",
    "          visible=True,\n",
    "          range=range_value\n",
    "        )),\n",
    "      showlegend=True\n",
    "    )\n",
    "\n",
    "    fig.show()\n",
    "def normalizeAtt(df):\n",
    "    result = df.copy()\n",
    "    for feature_name in df.columns:\n",
    "        max_value = df[feature_name].max()\n",
    "        min_value = df[feature_name].min()\n",
    "        result[feature_name] = (df[feature_name] - min_value) / (max_value - min_value)\n",
    "    return result\n",
    "def normalize(df):\n",
    "    result = df.copy()\n",
    "    result.iloc[:,0:-1] = scaler.fit_transform(result.iloc[:,0:-1].to_numpy())\n",
    "    return result"
   ]
  },
  {
   "cell_type": "code",
   "execution_count": 82,
   "id": "1140bf6d",
   "metadata": {},
   "outputs": [
    {
     "data": {
      "text/html": [
       "<style>.container { width:65% !important; }</style>"
      ],
      "text/plain": [
       "<IPython.core.display.HTML object>"
      ]
     },
     "metadata": {},
     "output_type": "display_data"
    },
    {
     "data": {
      "text/html": [
       "<style>div.output_area pre {white-space: pre;}</style>"
      ],
      "text/plain": [
       "<IPython.core.display.HTML object>"
      ]
     },
     "metadata": {},
     "output_type": "display_data"
    },
    {
     "data": {
      "text/html": [
       "<style>td{white-space: nowrap !important;}</style>"
      ],
      "text/plain": [
       "<IPython.core.display.HTML object>"
      ]
     },
     "metadata": {},
     "output_type": "display_data"
    }
   ],
   "source": [
    "from IPython.display import display, HTML\n",
    "display(HTML(\"<style>.container { width:65% !important; }</style>\"))\n",
    "display(HTML(\"<style>div.output_area pre {white-space: pre;}</style>\"))\n",
    "display(HTML(\"<style>td{white-space: nowrap !important;}</style>\"))\n",
    "pd.set_option('display.expand_frame_repr', False)\n",
    "from IPython.display import display_html\n",
    "from itertools import chain,cycle\n",
    "def display_side_by_side(*args,titles=cycle([''])):\n",
    "    html_str=''\n",
    "    for df,title in zip(args, chain(titles,cycle(['</br>'])) ):\n",
    "        html_str+='<th style=\"text-align:center\"><td style=\"vertical-align:top\">'\n",
    "        html_str+=f'<h2>{title}</h2>'\n",
    "        html_str+=df.to_html().replace('table','table style=\"display:inline\"')\n",
    "        html_str+='</td></th>'\n",
    "    display_html(html_str,raw=True)"
   ]
  },
  {
   "cell_type": "code",
   "execution_count": 5,
   "id": "55c03d4c",
   "metadata": {},
   "outputs": [],
   "source": [
    "def featureImportancePlot(categorical, numerical, rf, title):\n",
    "    feature_names = np.r_[categorical, numerical]\n",
    "    fig, ax = verticleCanvas((24, 12))\n",
    "    gender = [\"Male\", \"Female\"]  \n",
    "    color = [\"blue\", \"red\"]\n",
    "    for i in range(2):\n",
    "        tree_feature_importances = rf[i].named_steps[\"classifier\"].feature_importances_\n",
    "        sorted_idx = tree_feature_importances.argsort()\n",
    "        y_ticks = np.arange(0, len(feature_names))\n",
    "        ax[i].barh(y_ticks, tree_feature_importances[sorted_idx], color=color[i])\n",
    "        ax[i].set_yticks(y_ticks)\n",
    "        ax[i].set_yticklabels(feature_names[sorted_idx])\n",
    "        ax[i].set_title(title.format(gender[i]))\n",
    "        fig.tight_layout()\n",
    "    plt.show()\n",
    "# Plot the tree with max depth 2\n",
    "def pltTree(X_train,y_train, estimator):\n",
    "    # Fit the tree with max depth 2\n",
    "    estimator.fit(X_train, y_train)\n",
    "    from sklearn.tree import plot_tree\n",
    "\n",
    "    f = plt.figure(figsize=(12,12))\n",
    "    plot_tree(estimator, filled=True, rounded=True, \n",
    "              feature_names=X_train.columns, \n",
    "              class_names=[\"N\",\"Y\"])"
   ]
  },
  {
   "cell_type": "code",
   "execution_count": 6,
   "id": "f8eecacf",
   "metadata": {},
   "outputs": [],
   "source": [
    "# preparing the data for train and test\n",
    "def split(train, response):\n",
    "    X=train.drop([response], axis = 1)\n",
    "    y=train[response]\n",
    "    X_train, X_test, y_train, y_test = train_test_split(X, y, test_size=0.2)\n",
    "    return [X_train, X_test, y_train, y_test]"
   ]
  },
  {
   "cell_type": "code",
   "execution_count": 281,
   "id": "acd7630d",
   "metadata": {},
   "outputs": [],
   "source": [
    "categories = {\n",
    "    \"similarities\": [], \n",
    "    \"attrBefore\":['attr1_1', 'sinc1_1', 'intel1_1', 'fun1_1', 'amb1_1', 'shar1_1', 'match'], \n",
    "    \"attrAfter\":['attr', 'sinc', 'intel', 'fun', 'amb', 'shar', 'match'], \n",
    "    \"satIncome\": ['log_mn_sat','log_income','match']\n",
    "}\n"
   ]
  },
  {
   "cell_type": "markdown",
   "id": "4c497ad3",
   "metadata": {},
   "source": [
    "# 2. Random Forest Model "
   ]
  },
  {
   "cell_type": "markdown",
   "id": "bbe94820",
   "metadata": {},
   "source": [
    "### Prepare random forest"
   ]
  },
  {
   "cell_type": "code",
   "execution_count": 7,
   "id": "25eb3584",
   "metadata": {},
   "outputs": [],
   "source": [
    "def randomForestMDI(categorical_columns, numerical_columns, max_depth=20):\n",
    "    categorical_encoder = OneHotEncoder(handle_unknown=\"ignore\")\n",
    "    numerical_pipe = Pipeline([(\"imputer\", SimpleImputer(strategy=\"mean\"))])\n",
    "    preprocessing = ColumnTransformer(\n",
    "        [\n",
    "            (\"cat\", categorical_encoder, categorical_columns),\n",
    "            (\"num\", numerical_pipe, numerical_columns),\n",
    "        ]\n",
    "    )\n",
    "    rf = Pipeline(\n",
    "        [\n",
    "            (\"preprocess\", preprocessing),\n",
    "            (\"classifier\", RandomForestClassifier(random_state=42, max_depth=max_depth)),\n",
    "        ]\n",
    "    )\n",
    "    return rf"
   ]
  },
  {
   "cell_type": "markdown",
   "id": "c3b5bc70",
   "metadata": {},
   "source": [
    "## 2.1 Before the date variables: attribute scores that male and female want "
   ]
  },
  {
   "cell_type": "code",
   "execution_count": 197,
   "id": "1082fabe",
   "metadata": {},
   "outputs": [],
   "source": [
    "before_male = pd.read_csv(\"data/attrBefore_male.csv\")\n",
    "before_female = pd.read_csv(\"data/attrBefore_female.csv\")\n",
    "before_male = before_male.drop([\"gender\", \"Unnamed: 0\"], axis = 1).dropna()\n",
    "before_female = before_female.drop([\"gender\", \"Unnamed: 0\"], axis = 1).dropna()\n",
    "before_male = normalize(before_male)\n",
    "before_female = normalize(before_female)"
   ]
  },
  {
   "cell_type": "code",
   "execution_count": 137,
   "id": "fd0f97bd",
   "metadata": {
    "scrolled": false
   },
   "outputs": [
    {
     "name": "stdout",
     "output_type": "stream",
     "text": [
      "----------------------Sneak peak into male data----------------------\n",
      "    attr1_1   sinc1_1  intel1_1   fun1_1    amb1_1   shar1_1  match\n",
      "0  0.639151  0.472015  0.036682  0.36458 -1.472285 -0.908524      0\n",
      "1  0.639151  0.472015  0.036682  0.36458 -1.472285 -0.908524      0\n",
      "2  0.639151  0.472015  0.036682  0.36458 -1.472285 -0.908524      0\n",
      "3  0.639151  0.472015  0.036682  0.36458 -1.472285 -0.908524      0\n",
      "4  0.639151  0.472015  0.036682  0.36458 -1.472285 -0.908524      0\n",
      "----------------------Sneak peak into female data----------------------\n",
      "    attr1_1   sinc1_1  intel1_1    fun1_1    amb1_1   shar1_1  match\n",
      "0 -0.317312  0.258586 -0.135311 -0.431555  0.379801  0.440235      0\n",
      "1 -0.317312  0.258586 -0.135311 -0.431555  0.379801  0.440235      0\n",
      "2 -0.317312  0.258586 -0.135311 -0.431555  0.379801  0.440235      1\n",
      "3 -0.317312  0.258586 -0.135311 -0.431555  0.379801  0.440235      1\n",
      "4 -0.317312  0.258586 -0.135311 -0.431555  0.379801  0.440235      1\n"
     ]
    }
   ],
   "source": [
    "print(\"----------------------Sneak peak into male data----------------------\")\n",
    "print(before_male.head(5))\n",
    "print(\"----------------------Sneak peak into female data----------------------\")\n",
    "print(before_female.head(5))"
   ]
  },
  {
   "cell_type": "code",
   "execution_count": 138,
   "id": "2eb2c6c1",
   "metadata": {},
   "outputs": [],
   "source": [
    "before_male = before_male.rename(columns={\"attr1_1\" : \"Attractive\", \"sinc1_1\":\"Sincere\", \n",
    "                            \"intel1_1\":\"Intelligent\", \"fun1_1\":\"Humorous\",\n",
    "                           \"amb1_1\":\"Ambition\", \"shar1_1\": \"SharedInterest\"})\n",
    "before_female = before_female.rename(columns={\"attr1_1\" : \"Attractive\", \"sinc1_1\":\"Sincere\", \n",
    "                            \"intel1_1\":\"Intelligent\", \"fun1_1\":\"Humorous\",\n",
    "                           \"amb1_1\":\"Ambition\", \"shar1_1\": \"SharedInterest\"})"
   ]
  },
  {
   "cell_type": "code",
   "execution_count": 139,
   "id": "d822315a",
   "metadata": {},
   "outputs": [],
   "source": [
    "numerical_columns  = np.array(['Attractive', 'Sincere', 'Intelligent', 'Humorous', 'Ambition','SharedInterest'])\n",
    "categorical_columns = []"
   ]
  },
  {
   "cell_type": "code",
   "execution_count": 140,
   "id": "988ea456",
   "metadata": {},
   "outputs": [],
   "source": [
    "# Train and test split on male \n",
    "X_train_m, X_test_m, y_train_m, y_test_m = split(before_male, \"match\")\n",
    "# Train and test split on female\n",
    "X_train_f, X_test_f, y_train_f, y_test_f = split(before_female, \"match\")\n",
    "rf_before = [randomForestMDI(categorical_columns, numerical_columns), randomForestMDI(categorical_columns, numerical_columns)]"
   ]
  },
  {
   "cell_type": "code",
   "execution_count": 141,
   "id": "c269e0e2",
   "metadata": {},
   "outputs": [
    {
     "name": "stdout",
     "output_type": "stream",
     "text": [
      "RF train accuracy: 0.843\n",
      "RF test accuracy: 0.800\n"
     ]
    }
   ],
   "source": [
    "rf_before[0].fit(X_train_m, y_train_m)\n",
    "print(\"RF train accuracy: %0.3f\" % rf_before[0].score(X_train_m, y_train_m))\n",
    "print(\"RF test accuracy: %0.3f\" % rf_before[0].score(X_test_m, y_test_m))"
   ]
  },
  {
   "cell_type": "code",
   "execution_count": 142,
   "id": "a84879b8",
   "metadata": {
    "scrolled": false
   },
   "outputs": [
    {
     "name": "stdout",
     "output_type": "stream",
     "text": [
      "RF train accuracy: 0.837\n",
      "RF test accuracy: 0.835\n"
     ]
    }
   ],
   "source": [
    "rf_before[1].fit(X_train_f, y_train_f)\n",
    "print(\"RF train accuracy: %0.3f\" % rf_before[1].score(X_train_f, y_train_f))\n",
    "print(\"RF test accuracy: %0.3f\" % rf_before[1].score(X_test_f, y_test_f))"
   ]
  },
  {
   "cell_type": "code",
   "execution_count": 143,
   "id": "e120d549",
   "metadata": {
    "scrolled": false
   },
   "outputs": [
    {
     "data": {
      "image/png": "[encoded data removed]",
      "text/plain": [
       "<Figure size 1728x864 with 2 Axes>"
      ]
     },
     "metadata": {
      "needs_background": "light"
     },
     "output_type": "display_data"
    }
   ],
   "source": [
    "featureImportancePlot(categorical_columns, numerical_columns, rf_before, \"Random Forest Feature Importances (MDI): Before the date attributes {} want\")"
   ]
  },
  {
   "cell_type": "markdown",
   "id": "3a17515c",
   "metadata": {},
   "source": [
    "## 2.2 After the date variables: attribute scores that male and female rated on partner "
   ]
  },
  {
   "cell_type": "code",
   "execution_count": 198,
   "id": "43a71709",
   "metadata": {},
   "outputs": [],
   "source": [
    "after_male = pd.read_csv(\"data/attrAfter_male.csv\")\n",
    "after_female = pd.read_csv(\"data/attrAfter_female.csv\")\n",
    "after_male = after_male.drop([\"gender\", \"Unnamed: 0\"], axis = 1).dropna()\n",
    "after_female = after_female.drop([\"gender\", \"Unnamed: 0\"], axis = 1).dropna()\n",
    "after_male = normalize(after_male)\n",
    "after_female = normalize(after_female)"
   ]
  },
  {
   "cell_type": "code",
   "execution_count": 145,
   "id": "0dae7a4b",
   "metadata": {},
   "outputs": [
    {
     "name": "stdout",
     "output_type": "stream",
     "text": [
      "----------------------Sneak peak into male data----------------------\n",
      "       attr      sinc     intel       fun       amb      shar  match\n",
      "0 -0.241041  0.474153  0.486403  0.810546  0.819620  0.224778      0\n",
      "1  0.839902 -0.148167 -0.849464  1.355622  0.236666 -0.732924      0\n",
      "2  0.299431  0.474153 -0.849464 -0.824684  0.819620 -0.732924      0\n",
      "3 -0.241041 -0.148167  0.486403  0.265469  0.236666 -0.254073      0\n",
      "4 -0.241041  0.474153  0.486403  0.810546  0.236666  0.224778      0\n",
      "----------------------Sneak peak into female data----------------------\n",
      "       attr      sinc     intel       fun       amb      shar  match\n",
      "0  0.017626  1.023735 -0.301747  0.338632 -0.532651 -0.194969      0\n",
      "1  0.521132  0.478955 -0.301747  0.828492 -1.082019  0.264140      0\n",
      "2 -0.485879  0.478955  0.970646  0.828492 -1.082019  0.723250      1\n",
      "3  0.521132 -0.610603  0.334450  0.338632 -0.532651  1.182359      1\n",
      "4 -0.485879 -0.610603 -0.301747  0.338632 -0.532651  0.264140      1\n"
     ]
    }
   ],
   "source": [
    "print(\"----------------------Sneak peak into male data----------------------\")\n",
    "print(after_male.head(5))\n",
    "print(\"----------------------Sneak peak into female data----------------------\")\n",
    "print(after_female.head(5))"
   ]
  },
  {
   "cell_type": "code",
   "execution_count": 146,
   "id": "9ad83d59",
   "metadata": {},
   "outputs": [],
   "source": [
    "after_male = after_male.rename(columns={\"attr\" : \"Attractive\", \"sinc\":\"Sincere\", \n",
    "                            \"intel\":\"Intelligent\", \"fun\":\"Humorous\",\n",
    "                           \"amb\":\"Ambition\", \"shar\": \"SharedInterest\"})\n",
    "after_female = after_female.rename(columns={\"attr\" : \"Attractive\", \"sinc\":\"Sincere\", \n",
    "                            \"intel\":\"Intelligent\", \"fun\":\"Humorous\",\n",
    "                           \"amb\":\"Ambition\", \"shar\": \"SharedInterest\"})"
   ]
  },
  {
   "cell_type": "code",
   "execution_count": 147,
   "id": "42d6c427",
   "metadata": {},
   "outputs": [],
   "source": [
    "numerical_columns  = np.array(['Attractive', 'Sincere', 'Intelligent', 'Humorous', 'Ambition','SharedInterest'])\n",
    "categorical_columns = []"
   ]
  },
  {
   "cell_type": "code",
   "execution_count": 148,
   "id": "e90cadde",
   "metadata": {},
   "outputs": [],
   "source": [
    "# Train and test split on male \n",
    "X_train_m, X_test_m, y_train_m, y_test_m = split(after_male, \"match\")\n",
    "# Train and test split on female\n",
    "X_train_f, X_test_f, y_train_f, y_test_f = split(after_female, \"match\")\n",
    "rf_after = [randomForestMDI(categorical_columns, numerical_columns), randomForestMDI(categorical_columns, numerical_columns)]"
   ]
  },
  {
   "cell_type": "code",
   "execution_count": 149,
   "id": "d049f16c",
   "metadata": {},
   "outputs": [
    {
     "name": "stdout",
     "output_type": "stream",
     "text": [
      "RF train accuracy: 0.824\n",
      "RF test accuracy: 0.837\n"
     ]
    }
   ],
   "source": [
    "rf_after[0].fit(X_train_m, y_train_m)\n",
    "print(\"RF train accuracy: %0.3f\" % rf_before[0].score(X_train_m, y_train_m))\n",
    "print(\"RF test accuracy: %0.3f\" % rf_before[0].score(X_test_m, y_test_m))"
   ]
  },
  {
   "cell_type": "code",
   "execution_count": 150,
   "id": "86fb5ada",
   "metadata": {
    "scrolled": true
   },
   "outputs": [
    {
     "name": "stdout",
     "output_type": "stream",
     "text": [
      "RF train accuracy: 0.958\n",
      "RF test accuracy: 0.799\n"
     ]
    }
   ],
   "source": [
    "rf_after[1].fit(X_train_f, y_train_f)\n",
    "print(\"RF train accuracy: %0.3f\" % rf_after[1].score(X_train_f, y_train_f))\n",
    "print(\"RF test accuracy: %0.3f\" % rf_after[1].score(X_test_f, y_test_f))"
   ]
  },
  {
   "cell_type": "markdown",
   "id": "acb86dfa",
   "metadata": {},
   "source": [
    "## Result"
   ]
  },
  {
   "cell_type": "code",
   "execution_count": 151,
   "id": "09014d22",
   "metadata": {
    "scrolled": false
   },
   "outputs": [
    {
     "data": {
      "image/png": "[encoded data removed]",
      "text/plain": [
       "<Figure size 1728x864 with 2 Axes>"
      ]
     },
     "metadata": {
      "needs_background": "light"
     },
     "output_type": "display_data"
    }
   ],
   "source": [
    "featureImportancePlot(categorical_columns, numerical_columns, rf_after,\"Random Forest Feature Importances (MDI): After the date attributes {} want\")"
   ]
  },
  {
   "cell_type": "markdown",
   "id": "2300300f",
   "metadata": {},
   "source": [
    "# Comparing before and after the date"
   ]
  },
  {
   "cell_type": "code",
   "execution_count": 152,
   "id": "8431af39",
   "metadata": {},
   "outputs": [],
   "source": [
    "Feature_Coef_Before_Male = pd.Series(rf_before[0].named_steps[\"classifier\"].feature_importances_, index = numerical_columns)\n",
    "Feature_Coef_Before_Female = pd.Series(rf_before[1].named_steps[\"classifier\"].feature_importances_, index = numerical_columns)\n",
    "Feature_Coef_After_Male = pd.Series(rf_after[0].named_steps[\"classifier\"].feature_importances_, index = numerical_columns)\n",
    "Feature_Coef_After_Female = pd.Series(rf_after[1].named_steps[\"classifier\"].feature_importances_, index = numerical_columns)"
   ]
  },
  {
   "cell_type": "code",
   "execution_count": 153,
   "id": "92b41974",
   "metadata": {},
   "outputs": [
    {
     "data": {
      "application/vnd.plotly.v1+json": {
       "config": {
        "plotlyServerURL": "https://plot.ly"
       },
       "data": [
        {
         "fill": "toself",
         "name": "Before",
         "r": [
          0.18967440450616155,
          0.18480255964637385,
          0.13908914912120793,
          0.15568790311571298,
          0.14379261927845294,
          0.18695336433209064
         ],
         "theta": [
          "Attractive",
          "Sincere",
          "Intelligent",
          "Humorous",
          "Ambition",
          "SharedInterest"
         ],
         "type": "scatterpolar"
        },
        {
         "fill": "toself",
         "name": "After",
         "r": [
          0.17351784875175152,
          0.1592332901083018,
          0.1366712643075208,
          0.15633562978990714,
          0.18026081964391896,
          0.19398114739859984
         ],
         "theta": [
          "Attractive",
          "Sincere",
          "Intelligent",
          "Humorous",
          "Ambition",
          "SharedInterest"
         ],
         "type": "scatterpolar"
        }
       ],
       "layout": {
        "polar": {
         "radialaxis": {
          "range": [
           0,
           0.2
          ],
          "visible": true
         }
        },
        "showlegend": true,
        "template": {
         "data": {
          "bar": [
           {
            "error_x": {
             "color": "#2a3f5f"
            },
            "error_y": {
             "color": "#2a3f5f"
            },
            "marker": {
             "line": {
              "color": "#E5ECF6",
              "width": 0.5
             },
             "pattern": {
              "fillmode": "overlay",
              "size": 10,
              "solidity": 0.2
             }
            },
            "type": "bar"
           }
          ],
          "barpolar": [
           {
            "marker": {
             "line": {
              "color": "#E5ECF6",
              "width": 0.5
             },
             "pattern": {
              "fillmode": "overlay",
              "size": 10,
              "solidity": 0.2
             }
            },
            "type": "barpolar"
           }
          ],
          "carpet": [
           {
            "aaxis": {
             "endlinecolor": "#2a3f5f",
             "gridcolor": "white",
             "linecolor": "white",
             "minorgridcolor": "white",
             "startlinecolor": "#2a3f5f"
            },
            "baxis": {
             "endlinecolor": "#2a3f5f",
             "gridcolor": "white",
             "linecolor": "white",
             "minorgridcolor": "white",
             "startlinecolor": "#2a3f5f"
            },
            "type": "carpet"
           }
          ],
          "choropleth": [
           {
            "colorbar": {
             "outlinewidth": 0,
             "ticks": ""
            },
            "type": "choropleth"
           }
          ],
          "contour": [
           {
            "colorbar": {
             "outlinewidth": 0,
             "ticks": ""
            },
            "colorscale": [
             [
              0,
              "#0d0887"
             ],
             [
              0.1111111111111111,
              "#46039f"
             ],
             [
              0.2222222222222222,
              "#7201a8"
             ],
             [
              0.3333333333333333,
              "#9c179e"
             ],
             [
              0.4444444444444444,
              "#bd3786"
             ],
             [
              0.5555555555555556,
              "#d8576b"
             ],
             [
              0.6666666666666666,
              "#ed7953"
             ],
             [
              0.7777777777777778,
              "#fb9f3a"
             ],
             [
              0.8888888888888888,
              "#fdca26"
             ],
             [
              1,
              "#f0f921"
             ]
            ],
            "type": "contour"
           }
          ],
          "contourcarpet": [
           {
            "colorbar": {
             "outlinewidth": 0,
             "ticks": ""
            },
            "type": "contourcarpet"
           }
          ],
          "heatmap": [
           {
            "colorbar": {
             "outlinewidth": 0,
             "ticks": ""
            },
            "colorscale": [
             [
              0,
              "#0d0887"
             ],
             [
              0.1111111111111111,
              "#46039f"
             ],
             [
              0.2222222222222222,
              "#7201a8"
             ],
             [
              0.3333333333333333,
              "#9c179e"
             ],
             [
              0.4444444444444444,
              "#bd3786"
             ],
             [
              0.5555555555555556,
              "#d8576b"
             ],
             [
              0.6666666666666666,
              "#ed7953"
             ],
             [
              0.7777777777777778,
              "#fb9f3a"
             ],
             [
              0.8888888888888888,
              "#fdca26"
             ],
             [
              1,
              "#f0f921"
             ]
            ],
            "type": "heatmap"
           }
          ],
          "heatmapgl": [
           {
            "colorbar": {
             "outlinewidth": 0,
             "ticks": ""
            },
            "colorscale": [
             [
              0,
              "#0d0887"
             ],
             [
              0.1111111111111111,
              "#46039f"
             ],
             [
              0.2222222222222222,
              "#7201a8"
             ],
             [
              0.3333333333333333,
              "#9c179e"
             ],
             [
              0.4444444444444444,
              "#bd3786"
             ],
             [
              0.5555555555555556,
              "#d8576b"
             ],
             [
              0.6666666666666666,
              "#ed7953"
             ],
             [
              0.7777777777777778,
              "#fb9f3a"
             ],
             [
              0.8888888888888888,
              "#fdca26"
             ],
             [
              1,
              "#f0f921"
             ]
            ],
            "type": "heatmapgl"
           }
          ],
          "histogram": [
           {
            "marker": {
             "pattern": {
              "fillmode": "overlay",
              "size": 10,
              "solidity": 0.2
             }
            },
            "type": "histogram"
           }
          ],
          "histogram2d": [
           {
            "colorbar": {
             "outlinewidth": 0,
             "ticks": ""
            },
            "colorscale": [
             [
              0,
              "#0d0887"
             ],
             [
              0.1111111111111111,
              "#46039f"
             ],
             [
              0.2222222222222222,
              "#7201a8"
             ],
             [
              0.3333333333333333,
              "#9c179e"
             ],
             [
              0.4444444444444444,
              "#bd3786"
             ],
             [
              0.5555555555555556,
              "#d8576b"
             ],
             [
              0.6666666666666666,
              "#ed7953"
             ],
             [
              0.7777777777777778,
              "#fb9f3a"
             ],
             [
              0.8888888888888888,
              "#fdca26"
             ],
             [
              1,
              "#f0f921"
             ]
            ],
            "type": "histogram2d"
           }
          ],
          "histogram2dcontour": [
           {
            "colorbar": {
             "outlinewidth": 0,
             "ticks": ""
            },
            "colorscale": [
             [
              0,
              "#0d0887"
             ],
             [
              0.1111111111111111,
              "#46039f"
             ],
             [
              0.2222222222222222,
              "#7201a8"
             ],
             [
              0.3333333333333333,
              "#9c179e"
             ],
             [
              0.4444444444444444,
              "#bd3786"
             ],
             [
              0.5555555555555556,
              "#d8576b"
             ],
             [
              0.6666666666666666,
              "#ed7953"
             ],
             [
              0.7777777777777778,
              "#fb9f3a"
             ],
             [
              0.8888888888888888,
              "#fdca26"
             ],
             [
              1,
              "#f0f921"
             ]
            ],
            "type": "histogram2dcontour"
           }
          ],
          "mesh3d": [
           {
            "colorbar": {
             "outlinewidth": 0,
             "ticks": ""
            },
            "type": "mesh3d"
           }
          ],
          "parcoords": [
           {
            "line": {
             "colorbar": {
              "outlinewidth": 0,
              "ticks": ""
             }
            },
            "type": "parcoords"
           }
          ],
          "pie": [
           {
            "automargin": true,
            "type": "pie"
           }
          ],
          "scatter": [
           {
            "marker": {
             "colorbar": {
              "outlinewidth": 0,
              "ticks": ""
             }
            },
            "type": "scatter"
           }
          ],
          "scatter3d": [
           {
            "line": {
             "colorbar": {
              "outlinewidth": 0,
              "ticks": ""
             }
            },
            "marker": {
             "colorbar": {
              "outlinewidth": 0,
              "ticks": ""
             }
            },
            "type": "scatter3d"
           }
          ],
          "scattercarpet": [
           {
            "marker": {
             "colorbar": {
              "outlinewidth": 0,
              "ticks": ""
             }
            },
            "type": "scattercarpet"
           }
          ],
          "scattergeo": [
           {
            "marker": {
             "colorbar": {
              "outlinewidth": 0,
              "ticks": ""
             }
            },
            "type": "scattergeo"
           }
          ],
          "scattergl": [
           {
            "marker": {
             "colorbar": {
              "outlinewidth": 0,
              "ticks": ""
             }
            },
            "type": "scattergl"
           }
          ],
          "scattermapbox": [
           {
            "marker": {
             "colorbar": {
              "outlinewidth": 0,
              "ticks": ""
             }
            },
            "type": "scattermapbox"
           }
          ],
          "scatterpolar": [
           {
            "marker": {
             "colorbar": {
              "outlinewidth": 0,
              "ticks": ""
             }
            },
            "type": "scatterpolar"
           }
          ],
          "scatterpolargl": [
           {
            "marker": {
             "colorbar": {
              "outlinewidth": 0,
              "ticks": ""
             }
            },
            "type": "scatterpolargl"
           }
          ],
          "scatterternary": [
           {
            "marker": {
             "colorbar": {
              "outlinewidth": 0,
              "ticks": ""
             }
            },
            "type": "scatterternary"
           }
          ],
          "surface": [
           {
            "colorbar": {
             "outlinewidth": 0,
             "ticks": ""
            },
            "colorscale": [
             [
              0,
              "#0d0887"
             ],
             [
              0.1111111111111111,
              "#46039f"
             ],
             [
              0.2222222222222222,
              "#7201a8"
             ],
             [
              0.3333333333333333,
              "#9c179e"
             ],
             [
              0.4444444444444444,
              "#bd3786"
             ],
             [
              0.5555555555555556,
              "#d8576b"
             ],
             [
              0.6666666666666666,
              "#ed7953"
             ],
             [
              0.7777777777777778,
              "#fb9f3a"
             ],
             [
              0.8888888888888888,
              "#fdca26"
             ],
             [
              1,
              "#f0f921"
             ]
            ],
            "type": "surface"
           }
          ],
          "table": [
           {
            "cells": {
             "fill": {
              "color": "#EBF0F8"
             },
             "line": {
              "color": "white"
             }
            },
            "header": {
             "fill": {
              "color": "#C8D4E3"
             },
             "line": {
              "color": "white"
             }
            },
            "type": "table"
           }
          ]
         },
         "layout": {
          "annotationdefaults": {
           "arrowcolor": "#2a3f5f",
           "arrowhead": 0,
           "arrowwidth": 1
          },
          "autotypenumbers": "strict",
          "coloraxis": {
           "colorbar": {
            "outlinewidth": 0,
            "ticks": ""
           }
          },
          "colorscale": {
           "diverging": [
            [
             0,
             "#8e0152"
            ],
            [
             0.1,
             "#c51b7d"
            ],
            [
             0.2,
             "#de77ae"
            ],
            [
             0.3,
             "#f1b6da"
            ],
            [
             0.4,
             "#fde0ef"
            ],
            [
             0.5,
             "#f7f7f7"
            ],
            [
             0.6,
             "#e6f5d0"
            ],
            [
             0.7,
             "#b8e186"
            ],
            [
             0.8,
             "#7fbc41"
            ],
            [
             0.9,
             "#4d9221"
            ],
            [
             1,
             "#276419"
            ]
           ],
           "sequential": [
            [
             0,
             "#0d0887"
            ],
            [
             0.1111111111111111,
             "#46039f"
            ],
            [
             0.2222222222222222,
             "#7201a8"
            ],
            [
             0.3333333333333333,
             "#9c179e"
            ],
            [
             0.4444444444444444,
             "#bd3786"
            ],
            [
             0.5555555555555556,
             "#d8576b"
            ],
            [
             0.6666666666666666,
             "#ed7953"
            ],
            [
             0.7777777777777778,
             "#fb9f3a"
            ],
            [
             0.8888888888888888,
             "#fdca26"
            ],
            [
             1,
             "#f0f921"
            ]
           ],
           "sequentialminus": [
            [
             0,
             "#0d0887"
            ],
            [
             0.1111111111111111,
             "#46039f"
            ],
            [
             0.2222222222222222,
             "#7201a8"
            ],
            [
             0.3333333333333333,
             "#9c179e"
            ],
            [
             0.4444444444444444,
             "#bd3786"
            ],
            [
             0.5555555555555556,
             "#d8576b"
            ],
            [
             0.6666666666666666,
             "#ed7953"
            ],
            [
             0.7777777777777778,
             "#fb9f3a"
            ],
            [
             0.8888888888888888,
             "#fdca26"
            ],
            [
             1,
             "#f0f921"
            ]
           ]
          },
          "colorway": [
           "#636efa",
           "#EF553B",
           "#00cc96",
           "#ab63fa",
           "#FFA15A",
           "#19d3f3",
           "#FF6692",
           "#B6E880",
           "#FF97FF",
           "#FECB52"
          ],
          "font": {
           "color": "#2a3f5f"
          },
          "geo": {
           "bgcolor": "white",
           "lakecolor": "white",
           "landcolor": "#E5ECF6",
           "showlakes": true,
           "showland": true,
           "subunitcolor": "white"
          },
          "hoverlabel": {
           "align": "left"
          },
          "hovermode": "closest",
          "mapbox": {
           "style": "light"
          },
          "paper_bgcolor": "white",
          "plot_bgcolor": "#E5ECF6",
          "polar": {
           "angularaxis": {
            "gridcolor": "white",
            "linecolor": "white",
            "ticks": ""
           },
           "bgcolor": "#E5ECF6",
           "radialaxis": {
            "gridcolor": "white",
            "linecolor": "white",
            "ticks": ""
           }
          },
          "scene": {
           "xaxis": {
            "backgroundcolor": "#E5ECF6",
            "gridcolor": "white",
            "gridwidth": 2,
            "linecolor": "white",
            "showbackground": true,
            "ticks": "",
            "zerolinecolor": "white"
           },
           "yaxis": {
            "backgroundcolor": "#E5ECF6",
            "gridcolor": "white",
            "gridwidth": 2,
            "linecolor": "white",
            "showbackground": true,
            "ticks": "",
            "zerolinecolor": "white"
           },
           "zaxis": {
            "backgroundcolor": "#E5ECF6",
            "gridcolor": "white",
            "gridwidth": 2,
            "linecolor": "white",
            "showbackground": true,
            "ticks": "",
            "zerolinecolor": "white"
           }
          },
          "shapedefaults": {
           "line": {
            "color": "#2a3f5f"
           }
          },
          "ternary": {
           "aaxis": {
            "gridcolor": "white",
            "linecolor": "white",
            "ticks": ""
           },
           "baxis": {
            "gridcolor": "white",
            "linecolor": "white",
            "ticks": ""
           },
           "bgcolor": "#E5ECF6",
           "caxis": {
            "gridcolor": "white",
            "linecolor": "white",
            "ticks": ""
           }
          },
          "title": {
           "x": 0.05
          },
          "xaxis": {
           "automargin": true,
           "gridcolor": "white",
           "linecolor": "white",
           "ticks": "",
           "title": {
            "standoff": 15
           },
           "zerolinecolor": "white",
           "zerolinewidth": 2
          },
          "yaxis": {
           "automargin": true,
           "gridcolor": "white",
           "linecolor": "white",
           "ticks": "",
           "title": {
            "standoff": 15
           },
           "zerolinecolor": "white",
           "zerolinewidth": 2
          }
         }
        },
        "title": {
         "text": "Importance of attribute variables: before and after. Partner's  that male want "
        }
       }
      },
      "text/html": [
       "<div>                            <div id=\"3438adf4-0764-460d-a978-48a9ea4e9669\" class=\"plotly-graph-div\" style=\"height:525px; width:100%;\"></div>            <script type=\"text/javascript\">                require([\"plotly\"], function(Plotly) {                    window.PLOTLYENV=window.PLOTLYENV || {};                                    if (document.getElementById(\"3438adf4-0764-460d-a978-48a9ea4e9669\")) {                    Plotly.newPlot(                        \"3438adf4-0764-460d-a978-48a9ea4e9669\",                        [{\"fill\":\"toself\",\"name\":\"Before\",\"r\":[0.18967440450616155,0.18480255964637385,0.13908914912120793,0.15568790311571298,0.14379261927845294,0.18695336433209064],\"theta\":[\"Attractive\",\"Sincere\",\"Intelligent\",\"Humorous\",\"Ambition\",\"SharedInterest\"],\"type\":\"scatterpolar\"},{\"fill\":\"toself\",\"name\":\"After\",\"r\":[0.17351784875175152,0.1592332901083018,0.1366712643075208,0.15633562978990714,0.18026081964391896,0.19398114739859984],\"theta\":[\"Attractive\",\"Sincere\",\"Intelligent\",\"Humorous\",\"Ambition\",\"SharedInterest\"],\"type\":\"scatterpolar\"}],                        {\"template\":{\"data\":{\"bar\":[{\"error_x\":{\"color\":\"#2a3f5f\"},\"error_y\":{\"color\":\"#2a3f5f\"},\"marker\":{\"line\":{\"color\":\"#E5ECF6\",\"width\":0.5},\"pattern\":{\"fillmode\":\"overlay\",\"size\":10,\"solidity\":0.2}},\"type\":\"bar\"}],\"barpolar\":[{\"marker\":{\"line\":{\"color\":\"#E5ECF6\",\"width\":0.5},\"pattern\":{\"fillmode\":\"overlay\",\"size\":10,\"solidity\":0.2}},\"type\":\"barpolar\"}],\"carpet\":[{\"aaxis\":{\"endlinecolor\":\"#2a3f5f\",\"gridcolor\":\"white\",\"linecolor\":\"white\",\"minorgridcolor\":\"white\",\"startlinecolor\":\"#2a3f5f\"},\"baxis\":{\"endlinecolor\":\"#2a3f5f\",\"gridcolor\":\"white\",\"linecolor\":\"white\",\"minorgridcolor\":\"white\",\"startlinecolor\":\"#2a3f5f\"},\"type\":\"carpet\"}],\"choropleth\":[{\"colorbar\":{\"outlinewidth\":0,\"ticks\":\"\"},\"type\":\"choropleth\"}],\"contour\":[{\"colorbar\":{\"outlinewidth\":0,\"ticks\":\"\"},\"colorscale\":[[0.0,\"#0d0887\"],[0.1111111111111111,\"#46039f\"],[0.2222222222222222,\"#7201a8\"],[0.3333333333333333,\"#9c179e\"],[0.4444444444444444,\"#bd3786\"],[0.5555555555555556,\"#d8576b\"],[0.6666666666666666,\"#ed7953\"],[0.7777777777777778,\"#fb9f3a\"],[0.8888888888888888,\"#fdca26\"],[1.0,\"#f0f921\"]],\"type\":\"contour\"}],\"contourcarpet\":[{\"colorbar\":{\"outlinewidth\":0,\"ticks\":\"\"},\"type\":\"contourcarpet\"}],\"heatmap\":[{\"colorbar\":{\"outlinewidth\":0,\"ticks\":\"\"},\"colorscale\":[[0.0,\"#0d0887\"],[0.1111111111111111,\"#46039f\"],[0.2222222222222222,\"#7201a8\"],[0.3333333333333333,\"#9c179e\"],[0.4444444444444444,\"#bd3786\"],[0.5555555555555556,\"#d8576b\"],[0.6666666666666666,\"#ed7953\"],[0.7777777777777778,\"#fb9f3a\"],[0.8888888888888888,\"#fdca26\"],[1.0,\"#f0f921\"]],\"type\":\"heatmap\"}],\"heatmapgl\":[{\"colorbar\":{\"outlinewidth\":0,\"ticks\":\"\"},\"colorscale\":[[0.0,\"#0d0887\"],[0.1111111111111111,\"#46039f\"],[0.2222222222222222,\"#7201a8\"],[0.3333333333333333,\"#9c179e\"],[0.4444444444444444,\"#bd3786\"],[0.5555555555555556,\"#d8576b\"],[0.6666666666666666,\"#ed7953\"],[0.7777777777777778,\"#fb9f3a\"],[0.8888888888888888,\"#fdca26\"],[1.0,\"#f0f921\"]],\"type\":\"heatmapgl\"}],\"histogram\":[{\"marker\":{\"pattern\":{\"fillmode\":\"overlay\",\"size\":10,\"solidity\":0.2}},\"type\":\"histogram\"}],\"histogram2d\":[{\"colorbar\":{\"outlinewidth\":0,\"ticks\":\"\"},\"colorscale\":[[0.0,\"#0d0887\"],[0.1111111111111111,\"#46039f\"],[0.2222222222222222,\"#7201a8\"],[0.3333333333333333,\"#9c179e\"],[0.4444444444444444,\"#bd3786\"],[0.5555555555555556,\"#d8576b\"],[0.6666666666666666,\"#ed7953\"],[0.7777777777777778,\"#fb9f3a\"],[0.8888888888888888,\"#fdca26\"],[1.0,\"#f0f921\"]],\"type\":\"histogram2d\"}],\"histogram2dcontour\":[{\"colorbar\":{\"outlinewidth\":0,\"ticks\":\"\"},\"colorscale\":[[0.0,\"#0d0887\"],[0.1111111111111111,\"#46039f\"],[0.2222222222222222,\"#7201a8\"],[0.3333333333333333,\"#9c179e\"],[0.4444444444444444,\"#bd3786\"],[0.5555555555555556,\"#d8576b\"],[0.6666666666666666,\"#ed7953\"],[0.7777777777777778,\"#fb9f3a\"],[0.8888888888888888,\"#fdca26\"],[1.0,\"#f0f921\"]],\"type\":\"histogram2dcontour\"}],\"mesh3d\":[{\"colorbar\":{\"outlinewidth\":0,\"ticks\":\"\"},\"type\":\"mesh3d\"}],\"parcoords\":[{\"line\":{\"colorbar\":{\"outlinewidth\":0,\"ticks\":\"\"}},\"type\":\"parcoords\"}],\"pie\":[{\"automargin\":true,\"type\":\"pie\"}],\"scatter\":[{\"marker\":{\"colorbar\":{\"outlinewidth\":0,\"ticks\":\"\"}},\"type\":\"scatter\"}],\"scatter3d\":[{\"line\":{\"colorbar\":{\"outlinewidth\":0,\"ticks\":\"\"}},\"marker\":{\"colorbar\":{\"outlinewidth\":0,\"ticks\":\"\"}},\"type\":\"scatter3d\"}],\"scattercarpet\":[{\"marker\":{\"colorbar\":{\"outlinewidth\":0,\"ticks\":\"\"}},\"type\":\"scattercarpet\"}],\"scattergeo\":[{\"marker\":{\"colorbar\":{\"outlinewidth\":0,\"ticks\":\"\"}},\"type\":\"scattergeo\"}],\"scattergl\":[{\"marker\":{\"colorbar\":{\"outlinewidth\":0,\"ticks\":\"\"}},\"type\":\"scattergl\"}],\"scattermapbox\":[{\"marker\":{\"colorbar\":{\"outlinewidth\":0,\"ticks\":\"\"}},\"type\":\"scattermapbox\"}],\"scatterpolar\":[{\"marker\":{\"colorbar\":{\"outlinewidth\":0,\"ticks\":\"\"}},\"type\":\"scatterpolar\"}],\"scatterpolargl\":[{\"marker\":{\"colorbar\":{\"outlinewidth\":0,\"ticks\":\"\"}},\"type\":\"scatterpolargl\"}],\"scatterternary\":[{\"marker\":{\"colorbar\":{\"outlinewidth\":0,\"ticks\":\"\"}},\"type\":\"scatterternary\"}],\"surface\":[{\"colorbar\":{\"outlinewidth\":0,\"ticks\":\"\"},\"colorscale\":[[0.0,\"#0d0887\"],[0.1111111111111111,\"#46039f\"],[0.2222222222222222,\"#7201a8\"],[0.3333333333333333,\"#9c179e\"],[0.4444444444444444,\"#bd3786\"],[0.5555555555555556,\"#d8576b\"],[0.6666666666666666,\"#ed7953\"],[0.7777777777777778,\"#fb9f3a\"],[0.8888888888888888,\"#fdca26\"],[1.0,\"#f0f921\"]],\"type\":\"surface\"}],\"table\":[{\"cells\":{\"fill\":{\"color\":\"#EBF0F8\"},\"line\":{\"color\":\"white\"}},\"header\":{\"fill\":{\"color\":\"#C8D4E3\"},\"line\":{\"color\":\"white\"}},\"type\":\"table\"}]},\"layout\":{\"annotationdefaults\":{\"arrowcolor\":\"#2a3f5f\",\"arrowhead\":0,\"arrowwidth\":1},\"autotypenumbers\":\"strict\",\"coloraxis\":{\"colorbar\":{\"outlinewidth\":0,\"ticks\":\"\"}},\"colorscale\":{\"diverging\":[[0,\"#8e0152\"],[0.1,\"#c51b7d\"],[0.2,\"#de77ae\"],[0.3,\"#f1b6da\"],[0.4,\"#fde0ef\"],[0.5,\"#f7f7f7\"],[0.6,\"#e6f5d0\"],[0.7,\"#b8e186\"],[0.8,\"#7fbc41\"],[0.9,\"#4d9221\"],[1,\"#276419\"]],\"sequential\":[[0.0,\"#0d0887\"],[0.1111111111111111,\"#46039f\"],[0.2222222222222222,\"#7201a8\"],[0.3333333333333333,\"#9c179e\"],[0.4444444444444444,\"#bd3786\"],[0.5555555555555556,\"#d8576b\"],[0.6666666666666666,\"#ed7953\"],[0.7777777777777778,\"#fb9f3a\"],[0.8888888888888888,\"#fdca26\"],[1.0,\"#f0f921\"]],\"sequentialminus\":[[0.0,\"#0d0887\"],[0.1111111111111111,\"#46039f\"],[0.2222222222222222,\"#7201a8\"],[0.3333333333333333,\"#9c179e\"],[0.4444444444444444,\"#bd3786\"],[0.5555555555555556,\"#d8576b\"],[0.6666666666666666,\"#ed7953\"],[0.7777777777777778,\"#fb9f3a\"],[0.8888888888888888,\"#fdca26\"],[1.0,\"#f0f921\"]]},\"colorway\":[\"#636efa\",\"#EF553B\",\"#00cc96\",\"#ab63fa\",\"#FFA15A\",\"#19d3f3\",\"#FF6692\",\"#B6E880\",\"#FF97FF\",\"#FECB52\"],\"font\":{\"color\":\"#2a3f5f\"},\"geo\":{\"bgcolor\":\"white\",\"lakecolor\":\"white\",\"landcolor\":\"#E5ECF6\",\"showlakes\":true,\"showland\":true,\"subunitcolor\":\"white\"},\"hoverlabel\":{\"align\":\"left\"},\"hovermode\":\"closest\",\"mapbox\":{\"style\":\"light\"},\"paper_bgcolor\":\"white\",\"plot_bgcolor\":\"#E5ECF6\",\"polar\":{\"angularaxis\":{\"gridcolor\":\"white\",\"linecolor\":\"white\",\"ticks\":\"\"},\"bgcolor\":\"#E5ECF6\",\"radialaxis\":{\"gridcolor\":\"white\",\"linecolor\":\"white\",\"ticks\":\"\"}},\"scene\":{\"xaxis\":{\"backgroundcolor\":\"#E5ECF6\",\"gridcolor\":\"white\",\"gridwidth\":2,\"linecolor\":\"white\",\"showbackground\":true,\"ticks\":\"\",\"zerolinecolor\":\"white\"},\"yaxis\":{\"backgroundcolor\":\"#E5ECF6\",\"gridcolor\":\"white\",\"gridwidth\":2,\"linecolor\":\"white\",\"showbackground\":true,\"ticks\":\"\",\"zerolinecolor\":\"white\"},\"zaxis\":{\"backgroundcolor\":\"#E5ECF6\",\"gridcolor\":\"white\",\"gridwidth\":2,\"linecolor\":\"white\",\"showbackground\":true,\"ticks\":\"\",\"zerolinecolor\":\"white\"}},\"shapedefaults\":{\"line\":{\"color\":\"#2a3f5f\"}},\"ternary\":{\"aaxis\":{\"gridcolor\":\"white\",\"linecolor\":\"white\",\"ticks\":\"\"},\"baxis\":{\"gridcolor\":\"white\",\"linecolor\":\"white\",\"ticks\":\"\"},\"bgcolor\":\"#E5ECF6\",\"caxis\":{\"gridcolor\":\"white\",\"linecolor\":\"white\",\"ticks\":\"\"}},\"title\":{\"x\":0.05},\"xaxis\":{\"automargin\":true,\"gridcolor\":\"white\",\"linecolor\":\"white\",\"ticks\":\"\",\"title\":{\"standoff\":15},\"zerolinecolor\":\"white\",\"zerolinewidth\":2},\"yaxis\":{\"automargin\":true,\"gridcolor\":\"white\",\"linecolor\":\"white\",\"ticks\":\"\",\"title\":{\"standoff\":15},\"zerolinecolor\":\"white\",\"zerolinewidth\":2}}},\"polar\":{\"radialaxis\":{\"visible\":true,\"range\":[0,0.2]}},\"title\":{\"text\":\"Importance of attribute variables: before and after. Partner's  that male want \"},\"showlegend\":true},                        {\"responsive\": true}                    ).then(function(){\n",
       "                            \n",
       "var gd = document.getElementById('3438adf4-0764-460d-a978-48a9ea4e9669');\n",
       "var x = new MutationObserver(function (mutations, observer) {{\n",
       "        var display = window.getComputedStyle(gd).display;\n",
       "        if (!display || display === 'none') {{\n",
       "            console.log([gd, 'removed!']);\n",
       "            Plotly.purge(gd);\n",
       "            observer.disconnect();\n",
       "        }}\n",
       "}});\n",
       "\n",
       "// Listen for the removal of the full notebook cells\n",
       "var notebookContainer = gd.closest('#notebook-container');\n",
       "if (notebookContainer) {{\n",
       "    x.observe(notebookContainer, {childList: true});\n",
       "}}\n",
       "\n",
       "// Listen for the clearing of the current output cell\n",
       "var outputEl = gd.closest('.output');\n",
       "if (outputEl) {{\n",
       "    x.observe(outputEl, {childList: true});\n",
       "}}\n",
       "\n",
       "                        })                };                });            </script>        </div>"
      ]
     },
     "metadata": {},
     "output_type": "display_data"
    }
   ],
   "source": [
    "plotRadar(Feature_Coef_Before_Male, Feature_Coef_After_Male,[0,0.2], \"Importance of attribute variables: before and after. Partner's  that male want \")"
   ]
  },
  {
   "cell_type": "code",
   "execution_count": 154,
   "id": "2e9ceba2",
   "metadata": {
    "scrolled": false
   },
   "outputs": [
    {
     "data": {
      "application/vnd.plotly.v1+json": {
       "config": {
        "plotlyServerURL": "https://plot.ly"
       },
       "data": [
        {
         "fill": "toself",
         "name": "Before",
         "r": [
          0.1675547146093988,
          0.16186574234117806,
          0.1737943724176577,
          0.1751468847436124,
          0.18013371261656871,
          0.14150457327158436
         ],
         "theta": [
          "Attractive",
          "Sincere",
          "Intelligent",
          "Humorous",
          "Ambition",
          "SharedInterest"
         ],
         "type": "scatterpolar"
        },
        {
         "fill": "toself",
         "name": "After",
         "r": [
          0.17954338987072369,
          0.1613555222424164,
          0.12661613171432323,
          0.17395428219386072,
          0.1668512687975292,
          0.19167940518114676
         ],
         "theta": [
          "Attractive",
          "Sincere",
          "Intelligent",
          "Humorous",
          "Ambition",
          "SharedInterest"
         ],
         "type": "scatterpolar"
        }
       ],
       "layout": {
        "polar": {
         "radialaxis": {
          "range": [
           0,
           0.2
          ],
          "visible": true
         }
        },
        "showlegend": true,
        "template": {
         "data": {
          "bar": [
           {
            "error_x": {
             "color": "#2a3f5f"
            },
            "error_y": {
             "color": "#2a3f5f"
            },
            "marker": {
             "line": {
              "color": "#E5ECF6",
              "width": 0.5
             },
             "pattern": {
              "fillmode": "overlay",
              "size": 10,
              "solidity": 0.2
             }
            },
            "type": "bar"
           }
          ],
          "barpolar": [
           {
            "marker": {
             "line": {
              "color": "#E5ECF6",
              "width": 0.5
             },
             "pattern": {
              "fillmode": "overlay",
              "size": 10,
              "solidity": 0.2
             }
            },
            "type": "barpolar"
           }
          ],
          "carpet": [
           {
            "aaxis": {
             "endlinecolor": "#2a3f5f",
             "gridcolor": "white",
             "linecolor": "white",
             "minorgridcolor": "white",
             "startlinecolor": "#2a3f5f"
            },
            "baxis": {
             "endlinecolor": "#2a3f5f",
             "gridcolor": "white",
             "linecolor": "white",
             "minorgridcolor": "white",
             "startlinecolor": "#2a3f5f"
            },
            "type": "carpet"
           }
          ],
          "choropleth": [
           {
            "colorbar": {
             "outlinewidth": 0,
             "ticks": ""
            },
            "type": "choropleth"
           }
          ],
          "contour": [
           {
            "colorbar": {
             "outlinewidth": 0,
             "ticks": ""
            },
            "colorscale": [
             [
              0,
              "#0d0887"
             ],
             [
              0.1111111111111111,
              "#46039f"
             ],
             [
              0.2222222222222222,
              "#7201a8"
             ],
             [
              0.3333333333333333,
              "#9c179e"
             ],
             [
              0.4444444444444444,
              "#bd3786"
             ],
             [
              0.5555555555555556,
              "#d8576b"
             ],
             [
              0.6666666666666666,
              "#ed7953"
             ],
             [
              0.7777777777777778,
              "#fb9f3a"
             ],
             [
              0.8888888888888888,
              "#fdca26"
             ],
             [
              1,
              "#f0f921"
             ]
            ],
            "type": "contour"
           }
          ],
          "contourcarpet": [
           {
            "colorbar": {
             "outlinewidth": 0,
             "ticks": ""
            },
            "type": "contourcarpet"
           }
          ],
          "heatmap": [
           {
            "colorbar": {
             "outlinewidth": 0,
             "ticks": ""
            },
            "colorscale": [
             [
              0,
              "#0d0887"
             ],
             [
              0.1111111111111111,
              "#46039f"
             ],
             [
              0.2222222222222222,
              "#7201a8"
             ],
             [
              0.3333333333333333,
              "#9c179e"
             ],
             [
              0.4444444444444444,
              "#bd3786"
             ],
             [
              0.5555555555555556,
              "#d8576b"
             ],
             [
              0.6666666666666666,
              "#ed7953"
             ],
             [
              0.7777777777777778,
              "#fb9f3a"
             ],
             [
              0.8888888888888888,
              "#fdca26"
             ],
             [
              1,
              "#f0f921"
             ]
            ],
            "type": "heatmap"
           }
          ],
          "heatmapgl": [
           {
            "colorbar": {
             "outlinewidth": 0,
             "ticks": ""
            },
            "colorscale": [
             [
              0,
              "#0d0887"
             ],
             [
              0.1111111111111111,
              "#46039f"
             ],
             [
              0.2222222222222222,
              "#7201a8"
             ],
             [
              0.3333333333333333,
              "#9c179e"
             ],
             [
              0.4444444444444444,
              "#bd3786"
             ],
             [
              0.5555555555555556,
              "#d8576b"
             ],
             [
              0.6666666666666666,
              "#ed7953"
             ],
             [
              0.7777777777777778,
              "#fb9f3a"
             ],
             [
              0.8888888888888888,
              "#fdca26"
             ],
             [
              1,
              "#f0f921"
             ]
            ],
            "type": "heatmapgl"
           }
          ],
          "histogram": [
           {
            "marker": {
             "pattern": {
              "fillmode": "overlay",
              "size": 10,
              "solidity": 0.2
             }
            },
            "type": "histogram"
           }
          ],
          "histogram2d": [
           {
            "colorbar": {
             "outlinewidth": 0,
             "ticks": ""
            },
            "colorscale": [
             [
              0,
              "#0d0887"
             ],
             [
              0.1111111111111111,
              "#46039f"
             ],
             [
              0.2222222222222222,
              "#7201a8"
             ],
             [
              0.3333333333333333,
              "#9c179e"
             ],
             [
              0.4444444444444444,
              "#bd3786"
             ],
             [
              0.5555555555555556,
              "#d8576b"
             ],
             [
              0.6666666666666666,
              "#ed7953"
             ],
             [
              0.7777777777777778,
              "#fb9f3a"
             ],
             [
              0.8888888888888888,
              "#fdca26"
             ],
             [
              1,
              "#f0f921"
             ]
            ],
            "type": "histogram2d"
           }
          ],
          "histogram2dcontour": [
           {
            "colorbar": {
             "outlinewidth": 0,
             "ticks": ""
            },
            "colorscale": [
             [
              0,
              "#0d0887"
             ],
             [
              0.1111111111111111,
              "#46039f"
             ],
             [
              0.2222222222222222,
              "#7201a8"
             ],
             [
              0.3333333333333333,
              "#9c179e"
             ],
             [
              0.4444444444444444,
              "#bd3786"
             ],
             [
              0.5555555555555556,
              "#d8576b"
             ],
             [
              0.6666666666666666,
              "#ed7953"
             ],
             [
              0.7777777777777778,
              "#fb9f3a"
             ],
             [
              0.8888888888888888,
              "#fdca26"
             ],
             [
              1,
              "#f0f921"
             ]
            ],
            "type": "histogram2dcontour"
           }
          ],
          "mesh3d": [
           {
            "colorbar": {
             "outlinewidth": 0,
             "ticks": ""
            },
            "type": "mesh3d"
           }
          ],
          "parcoords": [
           {
            "line": {
             "colorbar": {
              "outlinewidth": 0,
              "ticks": ""
             }
            },
            "type": "parcoords"
           }
          ],
          "pie": [
           {
            "automargin": true,
            "type": "pie"
           }
          ],
          "scatter": [
           {
            "marker": {
             "colorbar": {
              "outlinewidth": 0,
              "ticks": ""
             }
            },
            "type": "scatter"
           }
          ],
          "scatter3d": [
           {
            "line": {
             "colorbar": {
              "outlinewidth": 0,
              "ticks": ""
             }
            },
            "marker": {
             "colorbar": {
              "outlinewidth": 0,
              "ticks": ""
             }
            },
            "type": "scatter3d"
           }
          ],
          "scattercarpet": [
           {
            "marker": {
             "colorbar": {
              "outlinewidth": 0,
              "ticks": ""
             }
            },
            "type": "scattercarpet"
           }
          ],
          "scattergeo": [
           {
            "marker": {
             "colorbar": {
              "outlinewidth": 0,
              "ticks": ""
             }
            },
            "type": "scattergeo"
           }
          ],
          "scattergl": [
           {
            "marker": {
             "colorbar": {
              "outlinewidth": 0,
              "ticks": ""
             }
            },
            "type": "scattergl"
           }
          ],
          "scattermapbox": [
           {
            "marker": {
             "colorbar": {
              "outlinewidth": 0,
              "ticks": ""
             }
            },
            "type": "scattermapbox"
           }
          ],
          "scatterpolar": [
           {
            "marker": {
             "colorbar": {
              "outlinewidth": 0,
              "ticks": ""
             }
            },
            "type": "scatterpolar"
           }
          ],
          "scatterpolargl": [
           {
            "marker": {
             "colorbar": {
              "outlinewidth": 0,
              "ticks": ""
             }
            },
            "type": "scatterpolargl"
           }
          ],
          "scatterternary": [
           {
            "marker": {
             "colorbar": {
              "outlinewidth": 0,
              "ticks": ""
             }
            },
            "type": "scatterternary"
           }
          ],
          "surface": [
           {
            "colorbar": {
             "outlinewidth": 0,
             "ticks": ""
            },
            "colorscale": [
             [
              0,
              "#0d0887"
             ],
             [
              0.1111111111111111,
              "#46039f"
             ],
             [
              0.2222222222222222,
              "#7201a8"
             ],
             [
              0.3333333333333333,
              "#9c179e"
             ],
             [
              0.4444444444444444,
              "#bd3786"
             ],
             [
              0.5555555555555556,
              "#d8576b"
             ],
             [
              0.6666666666666666,
              "#ed7953"
             ],
             [
              0.7777777777777778,
              "#fb9f3a"
             ],
             [
              0.8888888888888888,
              "#fdca26"
             ],
             [
              1,
              "#f0f921"
             ]
            ],
            "type": "surface"
           }
          ],
          "table": [
           {
            "cells": {
             "fill": {
              "color": "#EBF0F8"
             },
             "line": {
              "color": "white"
             }
            },
            "header": {
             "fill": {
              "color": "#C8D4E3"
             },
             "line": {
              "color": "white"
             }
            },
            "type": "table"
           }
          ]
         },
         "layout": {
          "annotationdefaults": {
           "arrowcolor": "#2a3f5f",
           "arrowhead": 0,
           "arrowwidth": 1
          },
          "autotypenumbers": "strict",
          "coloraxis": {
           "colorbar": {
            "outlinewidth": 0,
            "ticks": ""
           }
          },
          "colorscale": {
           "diverging": [
            [
             0,
             "#8e0152"
            ],
            [
             0.1,
             "#c51b7d"
            ],
            [
             0.2,
             "#de77ae"
            ],
            [
             0.3,
             "#f1b6da"
            ],
            [
             0.4,
             "#fde0ef"
            ],
            [
             0.5,
             "#f7f7f7"
            ],
            [
             0.6,
             "#e6f5d0"
            ],
            [
             0.7,
             "#b8e186"
            ],
            [
             0.8,
             "#7fbc41"
            ],
            [
             0.9,
             "#4d9221"
            ],
            [
             1,
             "#276419"
            ]
           ],
           "sequential": [
            [
             0,
             "#0d0887"
            ],
            [
             0.1111111111111111,
             "#46039f"
            ],
            [
             0.2222222222222222,
             "#7201a8"
            ],
            [
             0.3333333333333333,
             "#9c179e"
            ],
            [
             0.4444444444444444,
             "#bd3786"
            ],
            [
             0.5555555555555556,
             "#d8576b"
            ],
            [
             0.6666666666666666,
             "#ed7953"
            ],
            [
             0.7777777777777778,
             "#fb9f3a"
            ],
            [
             0.8888888888888888,
             "#fdca26"
            ],
            [
             1,
             "#f0f921"
            ]
           ],
           "sequentialminus": [
            [
             0,
             "#0d0887"
            ],
            [
             0.1111111111111111,
             "#46039f"
            ],
            [
             0.2222222222222222,
             "#7201a8"
            ],
            [
             0.3333333333333333,
             "#9c179e"
            ],
            [
             0.4444444444444444,
             "#bd3786"
            ],
            [
             0.5555555555555556,
             "#d8576b"
            ],
            [
             0.6666666666666666,
             "#ed7953"
            ],
            [
             0.7777777777777778,
             "#fb9f3a"
            ],
            [
             0.8888888888888888,
             "#fdca26"
            ],
            [
             1,
             "#f0f921"
            ]
           ]
          },
          "colorway": [
           "#636efa",
           "#EF553B",
           "#00cc96",
           "#ab63fa",
           "#FFA15A",
           "#19d3f3",
           "#FF6692",
           "#B6E880",
           "#FF97FF",
           "#FECB52"
          ],
          "font": {
           "color": "#2a3f5f"
          },
          "geo": {
           "bgcolor": "white",
           "lakecolor": "white",
           "landcolor": "#E5ECF6",
           "showlakes": true,
           "showland": true,
           "subunitcolor": "white"
          },
          "hoverlabel": {
           "align": "left"
          },
          "hovermode": "closest",
          "mapbox": {
           "style": "light"
          },
          "paper_bgcolor": "white",
          "plot_bgcolor": "#E5ECF6",
          "polar": {
           "angularaxis": {
            "gridcolor": "white",
            "linecolor": "white",
            "ticks": ""
           },
           "bgcolor": "#E5ECF6",
           "radialaxis": {
            "gridcolor": "white",
            "linecolor": "white",
            "ticks": ""
           }
          },
          "scene": {
           "xaxis": {
            "backgroundcolor": "#E5ECF6",
            "gridcolor": "white",
            "gridwidth": 2,
            "linecolor": "white",
            "showbackground": true,
            "ticks": "",
            "zerolinecolor": "white"
           },
           "yaxis": {
            "backgroundcolor": "#E5ECF6",
            "gridcolor": "white",
            "gridwidth": 2,
            "linecolor": "white",
            "showbackground": true,
            "ticks": "",
            "zerolinecolor": "white"
           },
           "zaxis": {
            "backgroundcolor": "#E5ECF6",
            "gridcolor": "white",
            "gridwidth": 2,
            "linecolor": "white",
            "showbackground": true,
            "ticks": "",
            "zerolinecolor": "white"
           }
          },
          "shapedefaults": {
           "line": {
            "color": "#2a3f5f"
           }
          },
          "ternary": {
           "aaxis": {
            "gridcolor": "white",
            "linecolor": "white",
            "ticks": ""
           },
           "baxis": {
            "gridcolor": "white",
            "linecolor": "white",
            "ticks": ""
           },
           "bgcolor": "#E5ECF6",
           "caxis": {
            "gridcolor": "white",
            "linecolor": "white",
            "ticks": ""
           }
          },
          "title": {
           "x": 0.05
          },
          "xaxis": {
           "automargin": true,
           "gridcolor": "white",
           "linecolor": "white",
           "ticks": "",
           "title": {
            "standoff": 15
           },
           "zerolinecolor": "white",
           "zerolinewidth": 2
          },
          "yaxis": {
           "automargin": true,
           "gridcolor": "white",
           "linecolor": "white",
           "ticks": "",
           "title": {
            "standoff": 15
           },
           "zerolinecolor": "white",
           "zerolinewidth": 2
          }
         }
        },
        "title": {
         "text": "Importance of attribute variables: before and after. Partner's  that female want "
        }
       }
      },
      "text/html": [
       "<div>                            <div id=\"f20d01d4-1924-403e-b5d8-e4836a5f971f\" class=\"plotly-graph-div\" style=\"height:525px; width:100%;\"></div>            <script type=\"text/javascript\">                require([\"plotly\"], function(Plotly) {                    window.PLOTLYENV=window.PLOTLYENV || {};                                    if (document.getElementById(\"f20d01d4-1924-403e-b5d8-e4836a5f971f\")) {                    Plotly.newPlot(                        \"f20d01d4-1924-403e-b5d8-e4836a5f971f\",                        [{\"fill\":\"toself\",\"name\":\"Before\",\"r\":[0.1675547146093988,0.16186574234117806,0.1737943724176577,0.1751468847436124,0.18013371261656871,0.14150457327158436],\"theta\":[\"Attractive\",\"Sincere\",\"Intelligent\",\"Humorous\",\"Ambition\",\"SharedInterest\"],\"type\":\"scatterpolar\"},{\"fill\":\"toself\",\"name\":\"After\",\"r\":[0.17954338987072369,0.1613555222424164,0.12661613171432323,0.17395428219386072,0.1668512687975292,0.19167940518114676],\"theta\":[\"Attractive\",\"Sincere\",\"Intelligent\",\"Humorous\",\"Ambition\",\"SharedInterest\"],\"type\":\"scatterpolar\"}],                        {\"template\":{\"data\":{\"bar\":[{\"error_x\":{\"color\":\"#2a3f5f\"},\"error_y\":{\"color\":\"#2a3f5f\"},\"marker\":{\"line\":{\"color\":\"#E5ECF6\",\"width\":0.5},\"pattern\":{\"fillmode\":\"overlay\",\"size\":10,\"solidity\":0.2}},\"type\":\"bar\"}],\"barpolar\":[{\"marker\":{\"line\":{\"color\":\"#E5ECF6\",\"width\":0.5},\"pattern\":{\"fillmode\":\"overlay\",\"size\":10,\"solidity\":0.2}},\"type\":\"barpolar\"}],\"carpet\":[{\"aaxis\":{\"endlinecolor\":\"#2a3f5f\",\"gridcolor\":\"white\",\"linecolor\":\"white\",\"minorgridcolor\":\"white\",\"startlinecolor\":\"#2a3f5f\"},\"baxis\":{\"endlinecolor\":\"#2a3f5f\",\"gridcolor\":\"white\",\"linecolor\":\"white\",\"minorgridcolor\":\"white\",\"startlinecolor\":\"#2a3f5f\"},\"type\":\"carpet\"}],\"choropleth\":[{\"colorbar\":{\"outlinewidth\":0,\"ticks\":\"\"},\"type\":\"choropleth\"}],\"contour\":[{\"colorbar\":{\"outlinewidth\":0,\"ticks\":\"\"},\"colorscale\":[[0.0,\"#0d0887\"],[0.1111111111111111,\"#46039f\"],[0.2222222222222222,\"#7201a8\"],[0.3333333333333333,\"#9c179e\"],[0.4444444444444444,\"#bd3786\"],[0.5555555555555556,\"#d8576b\"],[0.6666666666666666,\"#ed7953\"],[0.7777777777777778,\"#fb9f3a\"],[0.8888888888888888,\"#fdca26\"],[1.0,\"#f0f921\"]],\"type\":\"contour\"}],\"contourcarpet\":[{\"colorbar\":{\"outlinewidth\":0,\"ticks\":\"\"},\"type\":\"contourcarpet\"}],\"heatmap\":[{\"colorbar\":{\"outlinewidth\":0,\"ticks\":\"\"},\"colorscale\":[[0.0,\"#0d0887\"],[0.1111111111111111,\"#46039f\"],[0.2222222222222222,\"#7201a8\"],[0.3333333333333333,\"#9c179e\"],[0.4444444444444444,\"#bd3786\"],[0.5555555555555556,\"#d8576b\"],[0.6666666666666666,\"#ed7953\"],[0.7777777777777778,\"#fb9f3a\"],[0.8888888888888888,\"#fdca26\"],[1.0,\"#f0f921\"]],\"type\":\"heatmap\"}],\"heatmapgl\":[{\"colorbar\":{\"outlinewidth\":0,\"ticks\":\"\"},\"colorscale\":[[0.0,\"#0d0887\"],[0.1111111111111111,\"#46039f\"],[0.2222222222222222,\"#7201a8\"],[0.3333333333333333,\"#9c179e\"],[0.4444444444444444,\"#bd3786\"],[0.5555555555555556,\"#d8576b\"],[0.6666666666666666,\"#ed7953\"],[0.7777777777777778,\"#fb9f3a\"],[0.8888888888888888,\"#fdca26\"],[1.0,\"#f0f921\"]],\"type\":\"heatmapgl\"}],\"histogram\":[{\"marker\":{\"pattern\":{\"fillmode\":\"overlay\",\"size\":10,\"solidity\":0.2}},\"type\":\"histogram\"}],\"histogram2d\":[{\"colorbar\":{\"outlinewidth\":0,\"ticks\":\"\"},\"colorscale\":[[0.0,\"#0d0887\"],[0.1111111111111111,\"#46039f\"],[0.2222222222222222,\"#7201a8\"],[0.3333333333333333,\"#9c179e\"],[0.4444444444444444,\"#bd3786\"],[0.5555555555555556,\"#d8576b\"],[0.6666666666666666,\"#ed7953\"],[0.7777777777777778,\"#fb9f3a\"],[0.8888888888888888,\"#fdca26\"],[1.0,\"#f0f921\"]],\"type\":\"histogram2d\"}],\"histogram2dcontour\":[{\"colorbar\":{\"outlinewidth\":0,\"ticks\":\"\"},\"colorscale\":[[0.0,\"#0d0887\"],[0.1111111111111111,\"#46039f\"],[0.2222222222222222,\"#7201a8\"],[0.3333333333333333,\"#9c179e\"],[0.4444444444444444,\"#bd3786\"],[0.5555555555555556,\"#d8576b\"],[0.6666666666666666,\"#ed7953\"],[0.7777777777777778,\"#fb9f3a\"],[0.8888888888888888,\"#fdca26\"],[1.0,\"#f0f921\"]],\"type\":\"histogram2dcontour\"}],\"mesh3d\":[{\"colorbar\":{\"outlinewidth\":0,\"ticks\":\"\"},\"type\":\"mesh3d\"}],\"parcoords\":[{\"line\":{\"colorbar\":{\"outlinewidth\":0,\"ticks\":\"\"}},\"type\":\"parcoords\"}],\"pie\":[{\"automargin\":true,\"type\":\"pie\"}],\"scatter\":[{\"marker\":{\"colorbar\":{\"outlinewidth\":0,\"ticks\":\"\"}},\"type\":\"scatter\"}],\"scatter3d\":[{\"line\":{\"colorbar\":{\"outlinewidth\":0,\"ticks\":\"\"}},\"marker\":{\"colorbar\":{\"outlinewidth\":0,\"ticks\":\"\"}},\"type\":\"scatter3d\"}],\"scattercarpet\":[{\"marker\":{\"colorbar\":{\"outlinewidth\":0,\"ticks\":\"\"}},\"type\":\"scattercarpet\"}],\"scattergeo\":[{\"marker\":{\"colorbar\":{\"outlinewidth\":0,\"ticks\":\"\"}},\"type\":\"scattergeo\"}],\"scattergl\":[{\"marker\":{\"colorbar\":{\"outlinewidth\":0,\"ticks\":\"\"}},\"type\":\"scattergl\"}],\"scattermapbox\":[{\"marker\":{\"colorbar\":{\"outlinewidth\":0,\"ticks\":\"\"}},\"type\":\"scattermapbox\"}],\"scatterpolar\":[{\"marker\":{\"colorbar\":{\"outlinewidth\":0,\"ticks\":\"\"}},\"type\":\"scatterpolar\"}],\"scatterpolargl\":[{\"marker\":{\"colorbar\":{\"outlinewidth\":0,\"ticks\":\"\"}},\"type\":\"scatterpolargl\"}],\"scatterternary\":[{\"marker\":{\"colorbar\":{\"outlinewidth\":0,\"ticks\":\"\"}},\"type\":\"scatterternary\"}],\"surface\":[{\"colorbar\":{\"outlinewidth\":0,\"ticks\":\"\"},\"colorscale\":[[0.0,\"#0d0887\"],[0.1111111111111111,\"#46039f\"],[0.2222222222222222,\"#7201a8\"],[0.3333333333333333,\"#9c179e\"],[0.4444444444444444,\"#bd3786\"],[0.5555555555555556,\"#d8576b\"],[0.6666666666666666,\"#ed7953\"],[0.7777777777777778,\"#fb9f3a\"],[0.8888888888888888,\"#fdca26\"],[1.0,\"#f0f921\"]],\"type\":\"surface\"}],\"table\":[{\"cells\":{\"fill\":{\"color\":\"#EBF0F8\"},\"line\":{\"color\":\"white\"}},\"header\":{\"fill\":{\"color\":\"#C8D4E3\"},\"line\":{\"color\":\"white\"}},\"type\":\"table\"}]},\"layout\":{\"annotationdefaults\":{\"arrowcolor\":\"#2a3f5f\",\"arrowhead\":0,\"arrowwidth\":1},\"autotypenumbers\":\"strict\",\"coloraxis\":{\"colorbar\":{\"outlinewidth\":0,\"ticks\":\"\"}},\"colorscale\":{\"diverging\":[[0,\"#8e0152\"],[0.1,\"#c51b7d\"],[0.2,\"#de77ae\"],[0.3,\"#f1b6da\"],[0.4,\"#fde0ef\"],[0.5,\"#f7f7f7\"],[0.6,\"#e6f5d0\"],[0.7,\"#b8e186\"],[0.8,\"#7fbc41\"],[0.9,\"#4d9221\"],[1,\"#276419\"]],\"sequential\":[[0.0,\"#0d0887\"],[0.1111111111111111,\"#46039f\"],[0.2222222222222222,\"#7201a8\"],[0.3333333333333333,\"#9c179e\"],[0.4444444444444444,\"#bd3786\"],[0.5555555555555556,\"#d8576b\"],[0.6666666666666666,\"#ed7953\"],[0.7777777777777778,\"#fb9f3a\"],[0.8888888888888888,\"#fdca26\"],[1.0,\"#f0f921\"]],\"sequentialminus\":[[0.0,\"#0d0887\"],[0.1111111111111111,\"#46039f\"],[0.2222222222222222,\"#7201a8\"],[0.3333333333333333,\"#9c179e\"],[0.4444444444444444,\"#bd3786\"],[0.5555555555555556,\"#d8576b\"],[0.6666666666666666,\"#ed7953\"],[0.7777777777777778,\"#fb9f3a\"],[0.8888888888888888,\"#fdca26\"],[1.0,\"#f0f921\"]]},\"colorway\":[\"#636efa\",\"#EF553B\",\"#00cc96\",\"#ab63fa\",\"#FFA15A\",\"#19d3f3\",\"#FF6692\",\"#B6E880\",\"#FF97FF\",\"#FECB52\"],\"font\":{\"color\":\"#2a3f5f\"},\"geo\":{\"bgcolor\":\"white\",\"lakecolor\":\"white\",\"landcolor\":\"#E5ECF6\",\"showlakes\":true,\"showland\":true,\"subunitcolor\":\"white\"},\"hoverlabel\":{\"align\":\"left\"},\"hovermode\":\"closest\",\"mapbox\":{\"style\":\"light\"},\"paper_bgcolor\":\"white\",\"plot_bgcolor\":\"#E5ECF6\",\"polar\":{\"angularaxis\":{\"gridcolor\":\"white\",\"linecolor\":\"white\",\"ticks\":\"\"},\"bgcolor\":\"#E5ECF6\",\"radialaxis\":{\"gridcolor\":\"white\",\"linecolor\":\"white\",\"ticks\":\"\"}},\"scene\":{\"xaxis\":{\"backgroundcolor\":\"#E5ECF6\",\"gridcolor\":\"white\",\"gridwidth\":2,\"linecolor\":\"white\",\"showbackground\":true,\"ticks\":\"\",\"zerolinecolor\":\"white\"},\"yaxis\":{\"backgroundcolor\":\"#E5ECF6\",\"gridcolor\":\"white\",\"gridwidth\":2,\"linecolor\":\"white\",\"showbackground\":true,\"ticks\":\"\",\"zerolinecolor\":\"white\"},\"zaxis\":{\"backgroundcolor\":\"#E5ECF6\",\"gridcolor\":\"white\",\"gridwidth\":2,\"linecolor\":\"white\",\"showbackground\":true,\"ticks\":\"\",\"zerolinecolor\":\"white\"}},\"shapedefaults\":{\"line\":{\"color\":\"#2a3f5f\"}},\"ternary\":{\"aaxis\":{\"gridcolor\":\"white\",\"linecolor\":\"white\",\"ticks\":\"\"},\"baxis\":{\"gridcolor\":\"white\",\"linecolor\":\"white\",\"ticks\":\"\"},\"bgcolor\":\"#E5ECF6\",\"caxis\":{\"gridcolor\":\"white\",\"linecolor\":\"white\",\"ticks\":\"\"}},\"title\":{\"x\":0.05},\"xaxis\":{\"automargin\":true,\"gridcolor\":\"white\",\"linecolor\":\"white\",\"ticks\":\"\",\"title\":{\"standoff\":15},\"zerolinecolor\":\"white\",\"zerolinewidth\":2},\"yaxis\":{\"automargin\":true,\"gridcolor\":\"white\",\"linecolor\":\"white\",\"ticks\":\"\",\"title\":{\"standoff\":15},\"zerolinecolor\":\"white\",\"zerolinewidth\":2}}},\"polar\":{\"radialaxis\":{\"visible\":true,\"range\":[0,0.2]}},\"title\":{\"text\":\"Importance of attribute variables: before and after. Partner's  that female want \"},\"showlegend\":true},                        {\"responsive\": true}                    ).then(function(){\n",
       "                            \n",
       "var gd = document.getElementById('f20d01d4-1924-403e-b5d8-e4836a5f971f');\n",
       "var x = new MutationObserver(function (mutations, observer) {{\n",
       "        var display = window.getComputedStyle(gd).display;\n",
       "        if (!display || display === 'none') {{\n",
       "            console.log([gd, 'removed!']);\n",
       "            Plotly.purge(gd);\n",
       "            observer.disconnect();\n",
       "        }}\n",
       "}});\n",
       "\n",
       "// Listen for the removal of the full notebook cells\n",
       "var notebookContainer = gd.closest('#notebook-container');\n",
       "if (notebookContainer) {{\n",
       "    x.observe(notebookContainer, {childList: true});\n",
       "}}\n",
       "\n",
       "// Listen for the clearing of the current output cell\n",
       "var outputEl = gd.closest('.output');\n",
       "if (outputEl) {{\n",
       "    x.observe(outputEl, {childList: true});\n",
       "}}\n",
       "\n",
       "                        })                };                });            </script>        </div>"
      ]
     },
     "metadata": {},
     "output_type": "display_data"
    }
   ],
   "source": [
    "plotRadar(Feature_Coef_Before_Female, Feature_Coef_After_Female,[0,0.2], \"Importance of attribute variables: before and after. Partner's  that female want \")"
   ]
  },
  {
   "cell_type": "markdown",
   "id": "8ada8865",
   "metadata": {},
   "source": [
    "## 2.3 In the space of presence income and intelligence, which one would determine you get a date"
   ]
  },
  {
   "cell_type": "code",
   "execution_count": 162,
   "id": "c29ddf3f",
   "metadata": {},
   "outputs": [
    {
     "data": {
      "text/plain": [
       "['log_mn_sat', 'log_income', 'match']"
      ]
     },
     "execution_count": 162,
     "metadata": {},
     "output_type": "execute_result"
    }
   ],
   "source": [
    "satIncome_male = pd.read_csv(\"data/satIncome_male.csv\")\n",
    "satIncome_female = pd.read_csv(\"data/satIncome_female.csv\")\n",
    "satIncome_male = satIncome_male.drop([\"gender\", \"Unnamed: 0\", \"mn_sat\", \"income\"], axis = 1).dropna()\n",
    "satIncome_female = satIncome_female.drop([\"gender\", \"Unnamed: 0\", \"mn_sat\", \"income\"], axis = 1).dropna()"
   ]
  },
  {
   "cell_type": "code",
   "execution_count": 163,
   "id": "4631617b",
   "metadata": {},
   "outputs": [],
   "source": [
    "# Rearrange the columns of datasets\n",
    "cols = satIncome_male.columns.tolist()\n",
    "cols = cols[1:]+cols[:1]\n",
    "satIncome_male = satIncome_male[cols]\n",
    "satIncome_female = satIncome_female[cols]"
   ]
  },
  {
   "cell_type": "code",
   "execution_count": 164,
   "id": "1fa3fe29",
   "metadata": {},
   "outputs": [
    {
     "name": "stdout",
     "output_type": "stream",
     "text": [
      "------Sneak peak into male data-------\n",
      "   log_mn_sat  log_income  match\n",
      "0    7.038784    10.63287      0\n",
      "1    7.038784    10.63287      0\n",
      "2    7.038784    10.63287      0\n",
      "3    7.038784    10.63287      0\n",
      "4    7.038784    10.63287      0\n",
      "------Sneak peak into female data-------\n",
      "   log_mn_sat  log_income  match\n",
      "0    6.975414   10.699778      0\n",
      "1    6.975414   10.699778      0\n",
      "2    6.975414   10.699778      0\n",
      "3    6.975414   10.699778      0\n",
      "4    6.975414   10.699778      0\n"
     ]
    }
   ],
   "source": [
    "print(\"------Sneak peak into male data-------\")\n",
    "print(satIncome_male.head(5))\n",
    "print(\"------Sneak peak into female data-------\")\n",
    "print(satIncome_female.head(5))"
   ]
  },
  {
   "cell_type": "code",
   "execution_count": 165,
   "id": "da52137e",
   "metadata": {},
   "outputs": [],
   "source": [
    "satIncome_female = normalize(satIncome_female)\n",
    "satIncome_male = normalize(satIncome_male)"
   ]
  },
  {
   "cell_type": "code",
   "execution_count": 166,
   "id": "05241705",
   "metadata": {},
   "outputs": [],
   "source": [
    "numerical_columns  = np.array(['log_mn_sat', 'log_income'])\n",
    "categorical_columns = []"
   ]
  },
  {
   "cell_type": "code",
   "execution_count": 167,
   "id": "68beeba3",
   "metadata": {},
   "outputs": [],
   "source": [
    "# Train and test split on male \n",
    "X_train_m, X_test_m, y_train_m, y_test_m = split(satIncome_male, \"match\")\n",
    "# Train and test split on female\n",
    "X_train_f, X_test_f, y_train_f, y_test_f = split(satIncome_female, \"match\")\n",
    "\n",
    "rf_satIncome = [randomForestMDI(categorical_columns, numerical_columns), randomForestMDI(categorical_columns, numerical_columns)]"
   ]
  },
  {
   "cell_type": "code",
   "execution_count": 168,
   "id": "41e30f1a",
   "metadata": {
    "scrolled": true
   },
   "outputs": [
    {
     "name": "stdout",
     "output_type": "stream",
     "text": [
      "RF train accuracy: 0.854\n",
      "RF test accuracy: 0.828\n"
     ]
    }
   ],
   "source": [
    "rf_satIncome[0].fit(X_train_m, y_train_m)\n",
    "print(\"RF train accuracy: %0.3f\" % rf_satIncome[0].score(X_train_m, y_train_m))\n",
    "print(\"RF test accuracy: %0.3f\" % rf_satIncome[0].score(X_test_m, y_test_m))"
   ]
  },
  {
   "cell_type": "code",
   "execution_count": 169,
   "id": "57538030",
   "metadata": {
    "scrolled": true
   },
   "outputs": [
    {
     "name": "stdout",
     "output_type": "stream",
     "text": [
      "RF train accuracy: 0.856\n",
      "RF test accuracy: 0.820\n"
     ]
    }
   ],
   "source": [
    "rf_satIncome[1].fit(X_train_f, y_train_f)\n",
    "print(\"RF train accuracy: %0.3f\" % rf_satIncome[1].score(X_train_f, y_train_f))\n",
    "print(\"RF test accuracy: %0.3f\" % rf_satIncome[1].score(X_test_f, y_test_f))"
   ]
  },
  {
   "cell_type": "code",
   "execution_count": 170,
   "id": "9bffab45",
   "metadata": {
    "scrolled": false
   },
   "outputs": [
    {
     "data": {
      "image/png": "[encoded data removed]",
      "text/plain": [
       "<Figure size 1728x864 with 2 Axes>"
      ]
     },
     "metadata": {
      "needs_background": "light"
     },
     "output_type": "display_data"
    }
   ],
   "source": [
    "featureImportancePlot(categorical_columns, numerical_columns, rf_satIncome, \"Random Forest Feature Importances (MDI): Income or education made {} 's decision difference\")"
   ]
  },
  {
   "cell_type": "markdown",
   "id": "839549ba",
   "metadata": {},
   "source": [
    "## 2.4 Which similarity will increase you chance of getting a date"
   ]
  },
  {
   "cell_type": "code",
   "execution_count": 234,
   "id": "db487be0",
   "metadata": {},
   "outputs": [],
   "source": [
    "similar_male = pd.read_csv(\"data/similar_male.csv\")\n",
    "similar_female = pd.read_csv(\"data/similar_female.csv\")"
   ]
  },
  {
   "cell_type": "code",
   "execution_count": 235,
   "id": "31899e88",
   "metadata": {
    "scrolled": false
   },
   "outputs": [
    {
     "name": "stdout",
     "output_type": "stream",
     "text": [
      "Missing Values after mereged and the shape of desired similar dataset\n",
      "SameField         0\n",
      "SameRegion        0\n",
      "SameRace          0\n",
      "SharedInterest    0\n",
      "match             0\n",
      "dtype: int64\n"
     ]
    }
   ],
   "source": [
    "# Check again if dataset is clean or not ? The shape are right not ? If they are right, \n",
    "# female and male dataframes should have 8299 rows in total and 5 columns\n",
    "print(\"Missing Values after mereged and the shape of desired similar dataset\")\n",
    "print(pd.concat([similar_male, similar_female], axis = 0).isnull().sum())"
   ]
  },
  {
   "cell_type": "code",
   "execution_count": 236,
   "id": "51b9c274",
   "metadata": {
    "scrolled": true
   },
   "outputs": [
    {
     "name": "stdout",
     "output_type": "stream",
     "text": [
      "---------------Sneak peak into male data--------------\n",
      "   SameField  SameRegion  SameRace  SharedInterest  match\n",
      "0          0           0         0        0.635034      0\n",
      "1          0           0         1        0.713003      0\n",
      "2          0           0         1        0.371470      0\n",
      "3          0           0         1        0.370042      0\n",
      "4          0           0         1        0.467749      0\n",
      "---------------Sneak peak into female data---------------\n",
      "   SameField  SameRegion  SameRace  SharedInterest  match\n",
      "0          0           0         0        0.635034      0\n",
      "1          1           0         0        0.777257      0\n",
      "2          1           1         1        0.656621      1\n",
      "3          1           1         0        0.830314      1\n",
      "4          1           1         0        0.669602      1\n"
     ]
    }
   ],
   "source": [
    "print(\"---------------Sneak peak into male data--------------\")\n",
    "print(similar_male.head(5))\n",
    "print(\"---------------Sneak peak into female data---------------\")\n",
    "print(similar_female.head(5))"
   ]
  },
  {
   "cell_type": "code",
   "execution_count": 237,
   "id": "e44ec05f",
   "metadata": {},
   "outputs": [],
   "source": [
    "# Since the random forest are biased toward the large-cardinality vairable - variable with more values(continuos)\n",
    "# So in order to be unbiased in this model, We will aggregate variable SharedInterest into 2 \n",
    "# values only - categorical variable\n",
    "similar_female.loc[similar_female.iloc[:,-2] > 0.5] = 1\n",
    "similar_female.loc[similar_female.iloc[:,-2] <= 0.5] = 0\n",
    "similar_male.loc[similar_male.iloc[:,-2] > 0.5] = 1\n",
    "similar_male.loc[similar_male.iloc[:,-2] <= 0.5] = 0"
   ]
  },
  {
   "cell_type": "code",
   "execution_count": 238,
   "id": "c7e870bd",
   "metadata": {},
   "outputs": [
    {
     "name": "stdout",
     "output_type": "stream",
     "text": [
      "---------------Sneak peak into male data--------------\n",
      "   SameField  SameRegion  SameRace  SharedInterest  match\n",
      "0          1           1         1             1.0      1\n",
      "1          1           1         1             1.0      1\n",
      "2          0           0         0             0.0      0\n",
      "3          0           0         0             0.0      0\n",
      "4          0           0         0             0.0      0\n",
      "---------------Sneak peak into female data---------------\n",
      "   SameField  SameRegion  SameRace  SharedInterest  match\n",
      "0          1           1         1             1.0      1\n",
      "1          1           1         1             1.0      1\n",
      "2          1           1         1             1.0      1\n",
      "3          1           1         1             1.0      1\n",
      "4          1           1         1             1.0      1\n"
     ]
    }
   ],
   "source": [
    "print(\"---------------Sneak peak into male data--------------\")\n",
    "print(similar_male.head(5))\n",
    "print(\"---------------Sneak peak into female data---------------\")\n",
    "print(similar_female.head(5))"
   ]
  },
  {
   "cell_type": "code",
   "execution_count": 239,
   "id": "ea235167",
   "metadata": {},
   "outputs": [],
   "source": [
    "numerical_columns  = []\n",
    "categorical_columns = [\"SameField\",\"SameRegion\",\"SameRace\",\"SharedInterest\"]"
   ]
  },
  {
   "cell_type": "code",
   "execution_count": 240,
   "id": "ccb9dd0d",
   "metadata": {},
   "outputs": [],
   "source": [
    "# Train and test split on male \n",
    "X_train_m, X_test_m, y_train_m, y_test_m = split(similar_male, \"match\")\n",
    "# Train and test split on female\n",
    "X_train_f, X_test_f, y_train_f, y_test_f = split(similar_female, \"match\")\n",
    "\n",
    "rf_similar = [randomForestMDI(categorical_columns, numerical_columns, 6), randomForestMDI(categorical_columns, numerical_columns, 6)]"
   ]
  },
  {
   "cell_type": "code",
   "execution_count": 241,
   "id": "23e741f4",
   "metadata": {},
   "outputs": [
    {
     "name": "stdout",
     "output_type": "stream",
     "text": [
      "RF train accuracy: 1.000\n",
      "RF test accuracy: 1.000\n"
     ]
    }
   ],
   "source": [
    "rf_similar[0].fit(X_train_m, y_train_m)\n",
    "print(\"RF train accuracy: %0.3f\" % rf_similar[0].score(X_train_m, y_train_m))\n",
    "print(\"RF test accuracy: %0.3f\" % rf_similar[0].score(X_test_m, y_test_m))"
   ]
  },
  {
   "cell_type": "code",
   "execution_count": 242,
   "id": "57ae77e0",
   "metadata": {
    "scrolled": true
   },
   "outputs": [
    {
     "name": "stdout",
     "output_type": "stream",
     "text": [
      "RF train accuracy: 1.000\n",
      "RF test accuracy: 1.000\n"
     ]
    }
   ],
   "source": [
    "rf_similar[1].fit(X_train_f, y_train_f)\n",
    "print(\"RF train accuracy: %0.3f\" % rf_similar[1].score(X_train_f, y_train_f))\n",
    "print(\"RF test accuracy: %0.3f\" % rf_similar[1].score(X_test_f, y_test_f))"
   ]
  },
  {
   "cell_type": "code",
   "execution_count": 243,
   "id": "23786e99",
   "metadata": {},
   "outputs": [],
   "source": [
    "def featureImportancePlotCat(categorical, numerical, rf, title):\n",
    "    fig, ax = verticleCanvas((24, 12))\n",
    "    gender = [\"Male\", \"Female\"]  \n",
    "    color = [\"blue\", \"red\"]\n",
    "    for i in range(2):\n",
    "        ohe = rf[i].named_steps[\"preprocess\"].named_transformers_[\"cat\"]\n",
    "        feature_names = ohe.get_feature_names_out(categorical_columns)\n",
    "        feature_names = np.r_[feature_names, numerical_columns]\n",
    "\n",
    "        tree_feature_importances = rf[i].named_steps[\"classifier\"].feature_importances_\n",
    "        sorted_idx = tree_feature_importances.argsort()\n",
    "        y_ticks = np.arange(0, len(feature_names))\n",
    "        ax[i].barh(y_ticks, tree_feature_importances[sorted_idx], color=color[i])\n",
    "        ax[i].set_yticks(y_ticks)\n",
    "        ax[i].set_yticklabels(feature_names[sorted_idx])\n",
    "        ax[i].set_title(title.format(gender[i]))\n",
    "        fig.tight_layout()\n",
    "    plt.show()"
   ]
  },
  {
   "cell_type": "code",
   "execution_count": 244,
   "id": "787059eb",
   "metadata": {
    "scrolled": true
   },
   "outputs": [
    {
     "data": {
      "image/png": "[encoded data removed]",
      "text/plain": [
       "<Figure size 1728x864 with 2 Axes>"
      ]
     },
     "metadata": {
      "needs_background": "light"
     },
     "output_type": "display_data"
    }
   ],
   "source": [
    "featureImportancePlotCat(categorical_columns, numerical_columns, rf_similar, \"which common point makes different in {} decision\")"
   ]
  },
  {
   "cell_type": "markdown",
   "id": "bfac6964",
   "metadata": {},
   "source": [
    "\n",
    "# 3. OLS Modelling\n",
    "\n",
    "## 3.1 Before the date variables: attribute scores that male and female want "
   ]
  },
  {
   "cell_type": "code",
   "execution_count": 247,
   "id": "d00ba4df",
   "metadata": {
    "scrolled": false
   },
   "outputs": [
    {
     "data": {
      "text/html": [
       "<table class=\"simpletable\">\n",
       "<caption>OLS Regression Results</caption>\n",
       "<tr>\n",
       "  <th>Dep. Variable:</th>          <td>match</td>      <th>  R-squared (uncentered):</th>      <td>   0.006</td>\n",
       "</tr>\n",
       "<tr>\n",
       "  <th>Model:</th>                   <td>OLS</td>       <th>  Adj. R-squared (uncentered):</th> <td>   0.004</td>\n",
       "</tr>\n",
       "<tr>\n",
       "  <th>Method:</th>             <td>Least Squares</td>  <th>  F-statistic:       </th>          <td>   3.599</td>\n",
       "</tr>\n",
       "<tr>\n",
       "  <th>Date:</th>             <td>Sun, 24 Apr 2022</td> <th>  Prob (F-statistic):</th>           <td>0.00147</td>\n",
       "</tr>\n",
       "<tr>\n",
       "  <th>Time:</th>                 <td>11:38:19</td>     <th>  Log-Likelihood:    </th>          <td> -1911.7</td>\n",
       "</tr>\n",
       "<tr>\n",
       "  <th>No. Observations:</th>      <td>  3547</td>      <th>  AIC:               </th>          <td>   3835.</td>\n",
       "</tr>\n",
       "<tr>\n",
       "  <th>Df Residuals:</th>          <td>  3541</td>      <th>  BIC:               </th>          <td>   3872.</td>\n",
       "</tr>\n",
       "<tr>\n",
       "  <th>Df Model:</th>              <td>     6</td>      <th>                     </th>              <td> </td>   \n",
       "</tr>\n",
       "<tr>\n",
       "  <th>Covariance Type:</th>      <td>nonrobust</td>    <th>                     </th>              <td> </td>   \n",
       "</tr>\n",
       "</table>\n",
       "<table class=\"simpletable\">\n",
       "<tr>\n",
       "      <td></td>        <th>coef</th>     <th>std err</th>      <th>t</th>      <th>P>|t|</th>  <th>[0.025</th>    <th>0.975]</th>  \n",
       "</tr>\n",
       "<tr>\n",
       "  <th>attr1_1</th>  <td>   -0.0478</td> <td>    0.034</td> <td>   -1.415</td> <td> 0.157</td> <td>   -0.114</td> <td>    0.018</td>\n",
       "</tr>\n",
       "<tr>\n",
       "  <th>sinc1_1</th>  <td>   -0.0509</td> <td>    0.020</td> <td>   -2.607</td> <td> 0.009</td> <td>   -0.089</td> <td>   -0.013</td>\n",
       "</tr>\n",
       "<tr>\n",
       "  <th>intel1_1</th> <td>   -0.0186</td> <td>    0.018</td> <td>   -1.012</td> <td> 0.311</td> <td>   -0.055</td> <td>    0.017</td>\n",
       "</tr>\n",
       "<tr>\n",
       "  <th>fun1_1</th>   <td>   -0.0194</td> <td>    0.018</td> <td>   -1.073</td> <td> 0.283</td> <td>   -0.055</td> <td>    0.016</td>\n",
       "</tr>\n",
       "<tr>\n",
       "  <th>amb1_1</th>   <td>   -0.0166</td> <td>    0.015</td> <td>   -1.130</td> <td> 0.258</td> <td>   -0.045</td> <td>    0.012</td>\n",
       "</tr>\n",
       "<tr>\n",
       "  <th>shar1_1</th>  <td>   -0.0391</td> <td>    0.018</td> <td>   -2.179</td> <td> 0.029</td> <td>   -0.074</td> <td>   -0.004</td>\n",
       "</tr>\n",
       "</table>\n",
       "<table class=\"simpletable\">\n",
       "<tr>\n",
       "  <th>Omnibus:</th>       <td>942.798</td> <th>  Durbin-Watson:     </th> <td>   1.523</td>\n",
       "</tr>\n",
       "<tr>\n",
       "  <th>Prob(Omnibus):</th> <td> 0.000</td>  <th>  Jarque-Bera (JB):  </th> <td>1869.317</td>\n",
       "</tr>\n",
       "<tr>\n",
       "  <th>Skew:</th>          <td> 1.710</td>  <th>  Prob(JB):          </th> <td>    0.00</td>\n",
       "</tr>\n",
       "<tr>\n",
       "  <th>Kurtosis:</th>      <td> 3.975</td>  <th>  Cond. No.          </th> <td>    10.0</td>\n",
       "</tr>\n",
       "</table><br/><br/>Notes:<br/>[1] R² is computed without centering (uncentered) since the model does not contain a constant.<br/>[2] Standard Errors assume that the covariance matrix of the errors is correctly specified."
      ],
      "text/plain": [
       "<class 'statsmodels.iolib.summary.Summary'>\n",
       "\"\"\"\n",
       "                                 OLS Regression Results                                \n",
       "=======================================================================================\n",
       "Dep. Variable:                  match   R-squared (uncentered):                   0.006\n",
       "Model:                            OLS   Adj. R-squared (uncentered):              0.004\n",
       "Method:                 Least Squares   F-statistic:                              3.599\n",
       "Date:                Sun, 24 Apr 2022   Prob (F-statistic):                     0.00147\n",
       "Time:                        11:38:19   Log-Likelihood:                         -1911.7\n",
       "No. Observations:                3547   AIC:                                      3835.\n",
       "Df Residuals:                    3541   BIC:                                      3872.\n",
       "Df Model:                           6                                                  \n",
       "Covariance Type:            nonrobust                                                  \n",
       "==============================================================================\n",
       "                 coef    std err          t      P>|t|      [0.025      0.975]\n",
       "------------------------------------------------------------------------------\n",
       "attr1_1       -0.0478      0.034     -1.415      0.157      -0.114       0.018\n",
       "sinc1_1       -0.0509      0.020     -2.607      0.009      -0.089      -0.013\n",
       "intel1_1      -0.0186      0.018     -1.012      0.311      -0.055       0.017\n",
       "fun1_1        -0.0194      0.018     -1.073      0.283      -0.055       0.016\n",
       "amb1_1        -0.0166      0.015     -1.130      0.258      -0.045       0.012\n",
       "shar1_1       -0.0391      0.018     -2.179      0.029      -0.074      -0.004\n",
       "==============================================================================\n",
       "Omnibus:                      942.798   Durbin-Watson:                   1.523\n",
       "Prob(Omnibus):                  0.000   Jarque-Bera (JB):             1869.317\n",
       "Skew:                           1.710   Prob(JB):                         0.00\n",
       "Kurtosis:                       3.975   Cond. No.                         10.0\n",
       "==============================================================================\n",
       "\n",
       "Notes:\n",
       "[1] R² is computed without centering (uncentered) since the model does not contain a constant.\n",
       "[2] Standard Errors assume that the covariance matrix of the errors is correctly specified.\n",
       "\"\"\""
      ]
     },
     "execution_count": 247,
     "metadata": {},
     "output_type": "execute_result"
    }
   ],
   "source": [
    "import statsmodels.api as ols\n",
    "#OLS MODEL\n",
    "attr = ols.OLS(before_male[\"match\"], before_male.iloc[:,0:6])\n",
    "result = attr.fit()\n",
    "result.summary()"
   ]
  },
  {
   "cell_type": "code",
   "execution_count": 248,
   "id": "4a7d759a",
   "metadata": {},
   "outputs": [
    {
     "data": {
      "text/html": [
       "<div>\n",
       "<style scoped>\n",
       "    .dataframe tbody tr th:only-of-type {\n",
       "        vertical-align: middle;\n",
       "    }\n",
       "\n",
       "    .dataframe tbody tr th {\n",
       "        vertical-align: top;\n",
       "    }\n",
       "\n",
       "    .dataframe thead th {\n",
       "        text-align: right;\n",
       "    }\n",
       "</style>\n",
       "<table border=\"1\" class=\"dataframe\">\n",
       "  <thead>\n",
       "    <tr style=\"text-align: right;\">\n",
       "      <th></th>\n",
       "      <th>attr1_1</th>\n",
       "      <th>sinc1_1</th>\n",
       "      <th>intel1_1</th>\n",
       "      <th>fun1_1</th>\n",
       "      <th>amb1_1</th>\n",
       "      <th>shar1_1</th>\n",
       "      <th>match</th>\n",
       "    </tr>\n",
       "  </thead>\n",
       "  <tbody>\n",
       "    <tr>\n",
       "      <th>count</th>\n",
       "      <td>3.547000e+03</td>\n",
       "      <td>3.547000e+03</td>\n",
       "      <td>3.547000e+03</td>\n",
       "      <td>3.547000e+03</td>\n",
       "      <td>3.547000e+03</td>\n",
       "      <td>3.547000e+03</td>\n",
       "      <td>3547.000000</td>\n",
       "    </tr>\n",
       "    <tr>\n",
       "      <th>mean</th>\n",
       "      <td>-4.807732e-17</td>\n",
       "      <td>-8.012887e-17</td>\n",
       "      <td>-8.012887e-18</td>\n",
       "      <td>1.201933e-16</td>\n",
       "      <td>-8.012887e-17</td>\n",
       "      <td>-1.121804e-16</td>\n",
       "      <td>0.173104</td>\n",
       "    </tr>\n",
       "    <tr>\n",
       "      <th>std</th>\n",
       "      <td>1.000141e+00</td>\n",
       "      <td>1.000141e+00</td>\n",
       "      <td>1.000141e+00</td>\n",
       "      <td>1.000141e+00</td>\n",
       "      <td>1.000141e+00</td>\n",
       "      <td>1.000141e+00</td>\n",
       "      <td>0.378391</td>\n",
       "    </tr>\n",
       "    <tr>\n",
       "      <th>min</th>\n",
       "      <td>-1.495737e+00</td>\n",
       "      <td>-2.255017e+00</td>\n",
       "      <td>-2.947313e+00</td>\n",
       "      <td>-2.620438e+00</td>\n",
       "      <td>-1.472285e+00</td>\n",
       "      <td>-1.657466e+00</td>\n",
       "      <td>0.000000</td>\n",
       "    </tr>\n",
       "    <tr>\n",
       "      <th>25%</th>\n",
       "      <td>-5.236204e-01</td>\n",
       "      <td>-8.192348e-01</td>\n",
       "      <td>-4.109173e-01</td>\n",
       "      <td>-3.816741e-01</td>\n",
       "      <td>-6.246184e-01</td>\n",
       "      <td>-9.085240e-01</td>\n",
       "      <td>0.000000</td>\n",
       "    </tr>\n",
       "    <tr>\n",
       "      <th>50%</th>\n",
       "      <td>-2.651430e-01</td>\n",
       "      <td>1.161372e-01</td>\n",
       "      <td>3.668202e-02</td>\n",
       "      <td>6.607855e-02</td>\n",
       "      <td>2.230478e-01</td>\n",
       "      <td>-1.595819e-01</td>\n",
       "      <td>0.000000</td>\n",
       "    </tr>\n",
       "    <tr>\n",
       "      <th>75%</th>\n",
       "      <td>2.623619e-01</td>\n",
       "      <td>4.720149e-01</td>\n",
       "      <td>5.230732e-01</td>\n",
       "      <td>3.645803e-01</td>\n",
       "      <td>6.468810e-01</td>\n",
       "      <td>6.028412e-01</td>\n",
       "      <td>0.000000</td>\n",
       "    </tr>\n",
       "    <tr>\n",
       "      <th>max</th>\n",
       "      <td>5.537411e+00</td>\n",
       "      <td>3.199047e+00</td>\n",
       "      <td>3.447389e+00</td>\n",
       "      <td>4.842107e+00</td>\n",
       "      <td>7.512978e+00</td>\n",
       "      <td>2.836186e+00</td>\n",
       "      <td>1.000000</td>\n",
       "    </tr>\n",
       "  </tbody>\n",
       "</table>\n",
       "</div>"
      ],
      "text/plain": [
       "            attr1_1       sinc1_1      intel1_1        fun1_1        amb1_1       shar1_1        match\n",
       "count  3.547000e+03  3.547000e+03  3.547000e+03  3.547000e+03  3.547000e+03  3.547000e+03  3547.000000\n",
       "mean  -4.807732e-17 -8.012887e-17 -8.012887e-18  1.201933e-16 -8.012887e-17 -1.121804e-16     0.173104\n",
       "std    1.000141e+00  1.000141e+00  1.000141e+00  1.000141e+00  1.000141e+00  1.000141e+00     0.378391\n",
       "min   -1.495737e+00 -2.255017e+00 -2.947313e+00 -2.620438e+00 -1.472285e+00 -1.657466e+00     0.000000\n",
       "25%   -5.236204e-01 -8.192348e-01 -4.109173e-01 -3.816741e-01 -6.246184e-01 -9.085240e-01     0.000000\n",
       "50%   -2.651430e-01  1.161372e-01  3.668202e-02  6.607855e-02  2.230478e-01 -1.595819e-01     0.000000\n",
       "75%    2.623619e-01  4.720149e-01  5.230732e-01  3.645803e-01  6.468810e-01  6.028412e-01     0.000000\n",
       "max    5.537411e+00  3.199047e+00  3.447389e+00  4.842107e+00  7.512978e+00  2.836186e+00     1.000000"
      ]
     },
     "execution_count": 248,
     "metadata": {},
     "output_type": "execute_result"
    }
   ],
   "source": [
    "before_male.describe()"
   ]
  },
  {
   "cell_type": "code",
   "execution_count": 249,
   "id": "21743078",
   "metadata": {
    "scrolled": true
   },
   "outputs": [
    {
     "name": "stdout",
     "output_type": "stream",
     "text": [
      "attr1_1     0.047762\n",
      "sinc1_1     0.050869\n",
      "intel1_1    0.018625\n",
      "fun1_1      0.019432\n",
      "amb1_1      0.016573\n",
      "shar1_1     0.039102\n",
      "dtype: float64\n"
     ]
    }
   ],
   "source": [
    "before_male_coef = result.params.abs()\n",
    "print(before_male_coef)"
   ]
  },
  {
   "cell_type": "code",
   "execution_count": 250,
   "id": "5bb7ec8a",
   "metadata": {},
   "outputs": [
    {
     "data": {
      "text/html": [
       "<table class=\"simpletable\">\n",
       "<caption>OLS Regression Results</caption>\n",
       "<tr>\n",
       "  <th>Dep. Variable:</th>          <td>match</td>      <th>  R-squared (uncentered):</th>      <td>   0.005</td>\n",
       "</tr>\n",
       "<tr>\n",
       "  <th>Model:</th>                   <td>OLS</td>       <th>  Adj. R-squared (uncentered):</th> <td>   0.004</td>\n",
       "</tr>\n",
       "<tr>\n",
       "  <th>Method:</th>             <td>Least Squares</td>  <th>  F-statistic:       </th>          <td>   3.089</td>\n",
       "</tr>\n",
       "<tr>\n",
       "  <th>Date:</th>             <td>Sun, 24 Apr 2022</td> <th>  Prob (F-statistic):</th>           <td>0.00511</td>\n",
       "</tr>\n",
       "<tr>\n",
       "  <th>Time:</th>                 <td>11:38:25</td>     <th>  Log-Likelihood:    </th>          <td> -1811.1</td>\n",
       "</tr>\n",
       "<tr>\n",
       "  <th>No. Observations:</th>      <td>  3385</td>      <th>  AIC:               </th>          <td>   3634.</td>\n",
       "</tr>\n",
       "<tr>\n",
       "  <th>Df Residuals:</th>          <td>  3379</td>      <th>  BIC:               </th>          <td>   3671.</td>\n",
       "</tr>\n",
       "<tr>\n",
       "  <th>Df Model:</th>              <td>     6</td>      <th>                     </th>              <td> </td>   \n",
       "</tr>\n",
       "<tr>\n",
       "  <th>Covariance Type:</th>      <td>nonrobust</td>    <th>                     </th>              <td> </td>   \n",
       "</tr>\n",
       "</table>\n",
       "<table class=\"simpletable\">\n",
       "<tr>\n",
       "      <td></td>        <th>coef</th>     <th>std err</th>      <th>t</th>      <th>P>|t|</th>  <th>[0.025</th>    <th>0.975]</th>  \n",
       "</tr>\n",
       "<tr>\n",
       "  <th>attr1_1</th>  <td>    0.1441</td> <td>    0.075</td> <td>    1.932</td> <td> 0.053</td> <td>   -0.002</td> <td>    0.290</td>\n",
       "</tr>\n",
       "<tr>\n",
       "  <th>sinc1_1</th>  <td>    0.1041</td> <td>    0.053</td> <td>    1.980</td> <td> 0.048</td> <td>    0.001</td> <td>    0.207</td>\n",
       "</tr>\n",
       "<tr>\n",
       "  <th>intel1_1</th> <td>    0.1077</td> <td>    0.054</td> <td>    1.993</td> <td> 0.046</td> <td>    0.002</td> <td>    0.214</td>\n",
       "</tr>\n",
       "<tr>\n",
       "  <th>fun1_1</th>   <td>    0.1033</td> <td>    0.044</td> <td>    2.340</td> <td> 0.019</td> <td>    0.017</td> <td>    0.190</td>\n",
       "</tr>\n",
       "<tr>\n",
       "  <th>amb1_1</th>   <td>    0.0926</td> <td>    0.044</td> <td>    2.117</td> <td> 0.034</td> <td>    0.007</td> <td>    0.178</td>\n",
       "</tr>\n",
       "<tr>\n",
       "  <th>shar1_1</th>  <td>    0.0732</td> <td>    0.046</td> <td>    1.584</td> <td> 0.113</td> <td>   -0.017</td> <td>    0.164</td>\n",
       "</tr>\n",
       "</table>\n",
       "<table class=\"simpletable\">\n",
       "<tr>\n",
       "  <th>Omnibus:</th>       <td>912.332</td> <th>  Durbin-Watson:     </th> <td>   1.525</td>\n",
       "</tr>\n",
       "<tr>\n",
       "  <th>Prob(Omnibus):</th> <td> 0.000</td>  <th>  Jarque-Bera (JB):  </th> <td>1822.957</td>\n",
       "</tr>\n",
       "<tr>\n",
       "  <th>Skew:</th>          <td> 1.724</td>  <th>  Prob(JB):          </th> <td>    0.00</td>\n",
       "</tr>\n",
       "<tr>\n",
       "  <th>Kurtosis:</th>      <td> 4.018</td>  <th>  Cond. No.          </th> <td>    24.0</td>\n",
       "</tr>\n",
       "</table><br/><br/>Notes:<br/>[1] R² is computed without centering (uncentered) since the model does not contain a constant.<br/>[2] Standard Errors assume that the covariance matrix of the errors is correctly specified."
      ],
      "text/plain": [
       "<class 'statsmodels.iolib.summary.Summary'>\n",
       "\"\"\"\n",
       "                                 OLS Regression Results                                \n",
       "=======================================================================================\n",
       "Dep. Variable:                  match   R-squared (uncentered):                   0.005\n",
       "Model:                            OLS   Adj. R-squared (uncentered):              0.004\n",
       "Method:                 Least Squares   F-statistic:                              3.089\n",
       "Date:                Sun, 24 Apr 2022   Prob (F-statistic):                     0.00511\n",
       "Time:                        11:38:25   Log-Likelihood:                         -1811.1\n",
       "No. Observations:                3385   AIC:                                      3634.\n",
       "Df Residuals:                    3379   BIC:                                      3671.\n",
       "Df Model:                           6                                                  \n",
       "Covariance Type:            nonrobust                                                  \n",
       "==============================================================================\n",
       "                 coef    std err          t      P>|t|      [0.025      0.975]\n",
       "------------------------------------------------------------------------------\n",
       "attr1_1        0.1441      0.075      1.932      0.053      -0.002       0.290\n",
       "sinc1_1        0.1041      0.053      1.980      0.048       0.001       0.207\n",
       "intel1_1       0.1077      0.054      1.993      0.046       0.002       0.214\n",
       "fun1_1         0.1033      0.044      2.340      0.019       0.017       0.190\n",
       "amb1_1         0.0926      0.044      2.117      0.034       0.007       0.178\n",
       "shar1_1        0.0732      0.046      1.584      0.113      -0.017       0.164\n",
       "==============================================================================\n",
       "Omnibus:                      912.332   Durbin-Watson:                   1.525\n",
       "Prob(Omnibus):                  0.000   Jarque-Bera (JB):             1822.957\n",
       "Skew:                           1.724   Prob(JB):                         0.00\n",
       "Kurtosis:                       4.018   Cond. No.                         24.0\n",
       "==============================================================================\n",
       "\n",
       "Notes:\n",
       "[1] R² is computed without centering (uncentered) since the model does not contain a constant.\n",
       "[2] Standard Errors assume that the covariance matrix of the errors is correctly specified.\n",
       "\"\"\""
      ]
     },
     "execution_count": 250,
     "metadata": {},
     "output_type": "execute_result"
    }
   ],
   "source": [
    "import statsmodels.api as ols\n",
    "#OLS MODEL\n",
    "attr = ols.OLS(before_female[\"match\"], before_female.iloc[:,0:6])\n",
    "result = attr.fit()\n",
    "result.summary()"
   ]
  },
  {
   "cell_type": "code",
   "execution_count": 251,
   "id": "e93c5848",
   "metadata": {
    "scrolled": false
   },
   "outputs": [
    {
     "name": "stdout",
     "output_type": "stream",
     "text": [
      "attr1_1     0.144069\n",
      "sinc1_1     0.104123\n",
      "intel1_1    0.107742\n",
      "fun1_1      0.103270\n",
      "amb1_1      0.092626\n",
      "shar1_1     0.073246\n",
      "dtype: float64\n"
     ]
    }
   ],
   "source": [
    "before_female_coef = result.params.abs()\n",
    "print(before_female_coef)"
   ]
  },
  {
   "cell_type": "markdown",
   "id": "5aaa188f",
   "metadata": {},
   "source": [
    "## Result"
   ]
  },
  {
   "cell_type": "code",
   "execution_count": 252,
   "id": "d99011a0",
   "metadata": {
    "scrolled": true
   },
   "outputs": [
    {
     "data": {
      "text/html": [
       "<th style=\"text-align:center\"><td style=\"vertical-align:top\"><h2>Male</h2><table style=\"display:inline\" border=\"1\" class=\"dataframe\">\n",
       "  <thead>\n",
       "    <tr style=\"text-align: right;\">\n",
       "      <th></th>\n",
       "      <th>0</th>\n",
       "    </tr>\n",
       "  </thead>\n",
       "  <tbody>\n",
       "    <tr>\n",
       "      <th>attr1_1</th>\n",
       "      <td>0.047762</td>\n",
       "    </tr>\n",
       "    <tr>\n",
       "      <th>sinc1_1</th>\n",
       "      <td>0.050869</td>\n",
       "    </tr>\n",
       "    <tr>\n",
       "      <th>intel1_1</th>\n",
       "      <td>0.018625</td>\n",
       "    </tr>\n",
       "    <tr>\n",
       "      <th>fun1_1</th>\n",
       "      <td>0.019432</td>\n",
       "    </tr>\n",
       "    <tr>\n",
       "      <th>amb1_1</th>\n",
       "      <td>0.016573</td>\n",
       "    </tr>\n",
       "    <tr>\n",
       "      <th>shar1_1</th>\n",
       "      <td>0.039102</td>\n",
       "    </tr>\n",
       "  </tbody>\n",
       "</table style=\"display:inline\"></td></th><th style=\"text-align:center\"><td style=\"vertical-align:top\"><h2>Female</h2><table style=\"display:inline\" border=\"1\" class=\"dataframe\">\n",
       "  <thead>\n",
       "    <tr style=\"text-align: right;\">\n",
       "      <th></th>\n",
       "      <th>0</th>\n",
       "    </tr>\n",
       "  </thead>\n",
       "  <tbody>\n",
       "    <tr>\n",
       "      <th>attr1_1</th>\n",
       "      <td>0.144069</td>\n",
       "    </tr>\n",
       "    <tr>\n",
       "      <th>sinc1_1</th>\n",
       "      <td>0.104123</td>\n",
       "    </tr>\n",
       "    <tr>\n",
       "      <th>intel1_1</th>\n",
       "      <td>0.107742</td>\n",
       "    </tr>\n",
       "    <tr>\n",
       "      <th>fun1_1</th>\n",
       "      <td>0.103270</td>\n",
       "    </tr>\n",
       "    <tr>\n",
       "      <th>amb1_1</th>\n",
       "      <td>0.092626</td>\n",
       "    </tr>\n",
       "    <tr>\n",
       "      <th>shar1_1</th>\n",
       "      <td>0.073246</td>\n",
       "    </tr>\n",
       "  </tbody>\n",
       "</table style=\"display:inline\"></td></th>"
      ]
     },
     "metadata": {},
     "output_type": "display_data"
    }
   ],
   "source": [
    "display_side_by_side(pd.DataFrame(before_male_coef),pd.DataFrame(before_female_coef), titles=['Male','Female'])"
   ]
  },
  {
   "cell_type": "code",
   "execution_count": 253,
   "id": "88b7fda0",
   "metadata": {},
   "outputs": [
    {
     "data": {
      "image/png": "[encoded data removed]",
      "text/plain": [
       "<Figure size 1440x576 with 2 Axes>"
      ]
     },
     "metadata": {
      "needs_background": "light"
     },
     "output_type": "display_data"
    }
   ],
   "source": [
    "f, ax = verticleCanvas((20, 8))\n",
    "pd.DataFrame(before_male_coef).plot(kind=\"barh\", ax = ax[0], color = \"#3B8484\")\n",
    "ax[0].set_title(\"Male\")\n",
    "pd.DataFrame(before_female_coef).plot(kind=\"barh\", ax = ax[1], color = \"#B78627\")\n",
    "ax[1].set_title(\"Female\")\n",
    "plt.show()"
   ]
  },
  {
   "cell_type": "markdown",
   "id": "6bf733bb",
   "metadata": {},
   "source": [
    "## 3.2 After the date variables: attribute scores that male and female rated on partner "
   ]
  },
  {
   "cell_type": "markdown",
   "id": "352844f6",
   "metadata": {},
   "source": [
    "## After Attr Male"
   ]
  },
  {
   "cell_type": "code",
   "execution_count": 254,
   "id": "76b01f24",
   "metadata": {
    "scrolled": true
   },
   "outputs": [
    {
     "data": {
      "text/html": [
       "<table class=\"simpletable\">\n",
       "<caption>OLS Regression Results</caption>\n",
       "<tr>\n",
       "  <th>Dep. Variable:</th>          <td>match</td>      <th>  R-squared (uncentered):</th>      <td>   0.079</td>\n",
       "</tr>\n",
       "<tr>\n",
       "  <th>Model:</th>                   <td>OLS</td>       <th>  Adj. R-squared (uncentered):</th> <td>   0.077</td>\n",
       "</tr>\n",
       "<tr>\n",
       "  <th>Method:</th>             <td>Least Squares</td>  <th>  F-statistic:       </th>          <td>   50.52</td>\n",
       "</tr>\n",
       "<tr>\n",
       "  <th>Date:</th>             <td>Sun, 24 Apr 2022</td> <th>  Prob (F-statistic):</th>          <td>6.91e-60</td>\n",
       "</tr>\n",
       "<tr>\n",
       "  <th>Time:</th>                 <td>11:38:32</td>     <th>  Log-Likelihood:    </th>          <td> -1776.8</td>\n",
       "</tr>\n",
       "<tr>\n",
       "  <th>No. Observations:</th>      <td>  3547</td>      <th>  AIC:               </th>          <td>   3566.</td>\n",
       "</tr>\n",
       "<tr>\n",
       "  <th>Df Residuals:</th>          <td>  3541</td>      <th>  BIC:               </th>          <td>   3603.</td>\n",
       "</tr>\n",
       "<tr>\n",
       "  <th>Df Model:</th>              <td>     6</td>      <th>                     </th>              <td> </td>   \n",
       "</tr>\n",
       "<tr>\n",
       "  <th>Covariance Type:</th>      <td>nonrobust</td>    <th>                     </th>              <td> </td>   \n",
       "</tr>\n",
       "</table>\n",
       "<table class=\"simpletable\">\n",
       "<tr>\n",
       "    <td></td>       <th>coef</th>     <th>std err</th>      <th>t</th>      <th>P>|t|</th>  <th>[0.025</th>    <th>0.975]</th>  \n",
       "</tr>\n",
       "<tr>\n",
       "  <th>attr</th>  <td>    0.0576</td> <td>    0.008</td> <td>    6.876</td> <td> 0.000</td> <td>    0.041</td> <td>    0.074</td>\n",
       "</tr>\n",
       "<tr>\n",
       "  <th>sinc</th>  <td>   -0.0008</td> <td>    0.009</td> <td>   -0.086</td> <td> 0.932</td> <td>   -0.019</td> <td>    0.017</td>\n",
       "</tr>\n",
       "<tr>\n",
       "  <th>intel</th> <td>    0.0114</td> <td>    0.010</td> <td>    1.114</td> <td> 0.265</td> <td>   -0.009</td> <td>    0.031</td>\n",
       "</tr>\n",
       "<tr>\n",
       "  <th>fun</th>   <td>    0.0387</td> <td>    0.010</td> <td>    3.935</td> <td> 0.000</td> <td>    0.019</td> <td>    0.058</td>\n",
       "</tr>\n",
       "<tr>\n",
       "  <th>amb</th>   <td>   -0.0145</td> <td>    0.009</td> <td>   -1.603</td> <td> 0.109</td> <td>   -0.032</td> <td>    0.003</td>\n",
       "</tr>\n",
       "<tr>\n",
       "  <th>shar</th>  <td>    0.0469</td> <td>    0.009</td> <td>    5.421</td> <td> 0.000</td> <td>    0.030</td> <td>    0.064</td>\n",
       "</tr>\n",
       "</table>\n",
       "<table class=\"simpletable\">\n",
       "<tr>\n",
       "  <th>Omnibus:</th>       <td>743.789</td> <th>  Durbin-Watson:     </th> <td>   1.468</td> \n",
       "</tr>\n",
       "<tr>\n",
       "  <th>Prob(Omnibus):</th> <td> 0.000</td>  <th>  Jarque-Bera (JB):  </th> <td>1293.459</td> \n",
       "</tr>\n",
       "<tr>\n",
       "  <th>Skew:</th>          <td> 1.443</td>  <th>  Prob(JB):          </th> <td>1.35e-281</td>\n",
       "</tr>\n",
       "<tr>\n",
       "  <th>Kurtosis:</th>      <td> 3.651</td>  <th>  Cond. No.          </th> <td>    3.45</td> \n",
       "</tr>\n",
       "</table><br/><br/>Notes:<br/>[1] R² is computed without centering (uncentered) since the model does not contain a constant.<br/>[2] Standard Errors assume that the covariance matrix of the errors is correctly specified."
      ],
      "text/plain": [
       "<class 'statsmodels.iolib.summary.Summary'>\n",
       "\"\"\"\n",
       "                                 OLS Regression Results                                \n",
       "=======================================================================================\n",
       "Dep. Variable:                  match   R-squared (uncentered):                   0.079\n",
       "Model:                            OLS   Adj. R-squared (uncentered):              0.077\n",
       "Method:                 Least Squares   F-statistic:                              50.52\n",
       "Date:                Sun, 24 Apr 2022   Prob (F-statistic):                    6.91e-60\n",
       "Time:                        11:38:32   Log-Likelihood:                         -1776.8\n",
       "No. Observations:                3547   AIC:                                      3566.\n",
       "Df Residuals:                    3541   BIC:                                      3603.\n",
       "Df Model:                           6                                                  \n",
       "Covariance Type:            nonrobust                                                  \n",
       "==============================================================================\n",
       "                 coef    std err          t      P>|t|      [0.025      0.975]\n",
       "------------------------------------------------------------------------------\n",
       "attr           0.0576      0.008      6.876      0.000       0.041       0.074\n",
       "sinc          -0.0008      0.009     -0.086      0.932      -0.019       0.017\n",
       "intel          0.0114      0.010      1.114      0.265      -0.009       0.031\n",
       "fun            0.0387      0.010      3.935      0.000       0.019       0.058\n",
       "amb           -0.0145      0.009     -1.603      0.109      -0.032       0.003\n",
       "shar           0.0469      0.009      5.421      0.000       0.030       0.064\n",
       "==============================================================================\n",
       "Omnibus:                      743.789   Durbin-Watson:                   1.468\n",
       "Prob(Omnibus):                  0.000   Jarque-Bera (JB):             1293.459\n",
       "Skew:                           1.443   Prob(JB):                    1.35e-281\n",
       "Kurtosis:                       3.651   Cond. No.                         3.45\n",
       "==============================================================================\n",
       "\n",
       "Notes:\n",
       "[1] R² is computed without centering (uncentered) since the model does not contain a constant.\n",
       "[2] Standard Errors assume that the covariance matrix of the errors is correctly specified.\n",
       "\"\"\""
      ]
     },
     "execution_count": 254,
     "metadata": {},
     "output_type": "execute_result"
    }
   ],
   "source": [
    "import statsmodels.api as ols\n",
    "#OLS MODEL\n",
    "attr = ols.OLS(after_male[\"match\"], after_male.iloc[:,0:6])\n",
    "result = attr.fit()\n",
    "result.summary()                                    "
   ]
  },
  {
   "cell_type": "code",
   "execution_count": 255,
   "id": "2bb7ad6e",
   "metadata": {
    "scrolled": true
   },
   "outputs": [
    {
     "data": {
      "text/plain": [
       "attr     0.057630\n",
       "sinc     0.000798\n",
       "intel    0.011373\n",
       "fun      0.038691\n",
       "amb      0.014525\n",
       "shar     0.046866\n",
       "dtype: float64"
      ]
     },
     "execution_count": 255,
     "metadata": {},
     "output_type": "execute_result"
    }
   ],
   "source": [
    "after_male_coef = result.params.abs()\n",
    "after_male_coef"
   ]
  },
  {
   "cell_type": "code",
   "execution_count": 256,
   "id": "f9299570",
   "metadata": {},
   "outputs": [
    {
     "data": {
      "text/html": [
       "<table class=\"simpletable\">\n",
       "<caption>OLS Regression Results</caption>\n",
       "<tr>\n",
       "  <th>Dep. Variable:</th>          <td>match</td>      <th>  R-squared (uncentered):</th>      <td>   0.096</td>\n",
       "</tr>\n",
       "<tr>\n",
       "  <th>Model:</th>                   <td>OLS</td>       <th>  Adj. R-squared (uncentered):</th> <td>   0.095</td>\n",
       "</tr>\n",
       "<tr>\n",
       "  <th>Method:</th>             <td>Least Squares</td>  <th>  F-statistic:       </th>          <td>   60.01</td>\n",
       "</tr>\n",
       "<tr>\n",
       "  <th>Date:</th>             <td>Sun, 24 Apr 2022</td> <th>  Prob (F-statistic):</th>          <td>6.80e-71</td>\n",
       "</tr>\n",
       "<tr>\n",
       "  <th>Time:</th>                 <td>11:38:36</td>     <th>  Log-Likelihood:    </th>          <td> -1648.9</td>\n",
       "</tr>\n",
       "<tr>\n",
       "  <th>No. Observations:</th>      <td>  3385</td>      <th>  AIC:               </th>          <td>   3310.</td>\n",
       "</tr>\n",
       "<tr>\n",
       "  <th>Df Residuals:</th>          <td>  3379</td>      <th>  BIC:               </th>          <td>   3347.</td>\n",
       "</tr>\n",
       "<tr>\n",
       "  <th>Df Model:</th>              <td>     6</td>      <th>                     </th>              <td> </td>   \n",
       "</tr>\n",
       "<tr>\n",
       "  <th>Covariance Type:</th>      <td>nonrobust</td>    <th>                     </th>              <td> </td>   \n",
       "</tr>\n",
       "</table>\n",
       "<table class=\"simpletable\">\n",
       "<tr>\n",
       "    <td></td>       <th>coef</th>     <th>std err</th>      <th>t</th>      <th>P>|t|</th>  <th>[0.025</th>    <th>0.975]</th>  \n",
       "</tr>\n",
       "<tr>\n",
       "  <th>attr</th>  <td>    0.0386</td> <td>    0.009</td> <td>    4.446</td> <td> 0.000</td> <td>    0.022</td> <td>    0.056</td>\n",
       "</tr>\n",
       "<tr>\n",
       "  <th>sinc</th>  <td>   -0.0024</td> <td>    0.009</td> <td>   -0.258</td> <td> 0.796</td> <td>   -0.021</td> <td>    0.016</td>\n",
       "</tr>\n",
       "<tr>\n",
       "  <th>intel</th> <td>    0.0181</td> <td>    0.010</td> <td>    1.743</td> <td> 0.081</td> <td>   -0.002</td> <td>    0.039</td>\n",
       "</tr>\n",
       "<tr>\n",
       "  <th>fun</th>   <td>    0.0566</td> <td>    0.010</td> <td>    5.554</td> <td> 0.000</td> <td>    0.037</td> <td>    0.077</td>\n",
       "</tr>\n",
       "<tr>\n",
       "  <th>amb</th>   <td>   -0.0221</td> <td>    0.009</td> <td>   -2.435</td> <td> 0.015</td> <td>   -0.040</td> <td>   -0.004</td>\n",
       "</tr>\n",
       "<tr>\n",
       "  <th>shar</th>  <td>    0.0578</td> <td>    0.009</td> <td>    6.407</td> <td> 0.000</td> <td>    0.040</td> <td>    0.075</td>\n",
       "</tr>\n",
       "</table>\n",
       "<table class=\"simpletable\">\n",
       "<tr>\n",
       "  <th>Omnibus:</th>       <td>687.857</td> <th>  Durbin-Watson:     </th> <td>   1.479</td> \n",
       "</tr>\n",
       "<tr>\n",
       "  <th>Prob(Omnibus):</th> <td> 0.000</td>  <th>  Jarque-Bera (JB):  </th> <td>1177.047</td> \n",
       "</tr>\n",
       "<tr>\n",
       "  <th>Skew:</th>          <td> 1.411</td>  <th>  Prob(JB):          </th> <td>2.56e-256</td>\n",
       "</tr>\n",
       "<tr>\n",
       "  <th>Kurtosis:</th>      <td> 3.622</td>  <th>  Cond. No.          </th> <td>    3.48</td> \n",
       "</tr>\n",
       "</table><br/><br/>Notes:<br/>[1] R² is computed without centering (uncentered) since the model does not contain a constant.<br/>[2] Standard Errors assume that the covariance matrix of the errors is correctly specified."
      ],
      "text/plain": [
       "<class 'statsmodels.iolib.summary.Summary'>\n",
       "\"\"\"\n",
       "                                 OLS Regression Results                                \n",
       "=======================================================================================\n",
       "Dep. Variable:                  match   R-squared (uncentered):                   0.096\n",
       "Model:                            OLS   Adj. R-squared (uncentered):              0.095\n",
       "Method:                 Least Squares   F-statistic:                              60.01\n",
       "Date:                Sun, 24 Apr 2022   Prob (F-statistic):                    6.80e-71\n",
       "Time:                        11:38:36   Log-Likelihood:                         -1648.9\n",
       "No. Observations:                3385   AIC:                                      3310.\n",
       "Df Residuals:                    3379   BIC:                                      3347.\n",
       "Df Model:                           6                                                  \n",
       "Covariance Type:            nonrobust                                                  \n",
       "==============================================================================\n",
       "                 coef    std err          t      P>|t|      [0.025      0.975]\n",
       "------------------------------------------------------------------------------\n",
       "attr           0.0386      0.009      4.446      0.000       0.022       0.056\n",
       "sinc          -0.0024      0.009     -0.258      0.796      -0.021       0.016\n",
       "intel          0.0181      0.010      1.743      0.081      -0.002       0.039\n",
       "fun            0.0566      0.010      5.554      0.000       0.037       0.077\n",
       "amb           -0.0221      0.009     -2.435      0.015      -0.040      -0.004\n",
       "shar           0.0578      0.009      6.407      0.000       0.040       0.075\n",
       "==============================================================================\n",
       "Omnibus:                      687.857   Durbin-Watson:                   1.479\n",
       "Prob(Omnibus):                  0.000   Jarque-Bera (JB):             1177.047\n",
       "Skew:                           1.411   Prob(JB):                    2.56e-256\n",
       "Kurtosis:                       3.622   Cond. No.                         3.48\n",
       "==============================================================================\n",
       "\n",
       "Notes:\n",
       "[1] R² is computed without centering (uncentered) since the model does not contain a constant.\n",
       "[2] Standard Errors assume that the covariance matrix of the errors is correctly specified.\n",
       "\"\"\""
      ]
     },
     "execution_count": 256,
     "metadata": {},
     "output_type": "execute_result"
    }
   ],
   "source": [
    "import statsmodels.api as ols\n",
    "#OLS MODEL\n",
    "attr = ols.OLS(after_female[\"match\"], after_female.iloc[:,0:6])\n",
    "result = attr.fit()\n",
    "result.summary()                                    "
   ]
  },
  {
   "cell_type": "code",
   "execution_count": 257,
   "id": "e5678ae8",
   "metadata": {},
   "outputs": [
    {
     "data": {
      "text/plain": [
       "attr     0.038565\n",
       "sinc     0.002442\n",
       "intel    0.018127\n",
       "fun      0.056641\n",
       "amb      0.022086\n",
       "shar     0.057752\n",
       "dtype: float64"
      ]
     },
     "execution_count": 257,
     "metadata": {},
     "output_type": "execute_result"
    }
   ],
   "source": [
    "after_female_coef = result.params.abs()\n",
    "after_female_coef"
   ]
  },
  {
   "cell_type": "markdown",
   "id": "a606ecee",
   "metadata": {},
   "source": [
    "## Result"
   ]
  },
  {
   "cell_type": "code",
   "execution_count": 258,
   "id": "de6169a7",
   "metadata": {},
   "outputs": [
    {
     "data": {
      "text/html": [
       "<th style=\"text-align:center\"><td style=\"vertical-align:top\"><h2>Male</h2><table style=\"display:inline\" border=\"1\" class=\"dataframe\">\n",
       "  <thead>\n",
       "    <tr style=\"text-align: right;\">\n",
       "      <th></th>\n",
       "      <th>0</th>\n",
       "    </tr>\n",
       "  </thead>\n",
       "  <tbody>\n",
       "    <tr>\n",
       "      <th>attr</th>\n",
       "      <td>0.057630</td>\n",
       "    </tr>\n",
       "    <tr>\n",
       "      <th>sinc</th>\n",
       "      <td>0.000798</td>\n",
       "    </tr>\n",
       "    <tr>\n",
       "      <th>intel</th>\n",
       "      <td>0.011373</td>\n",
       "    </tr>\n",
       "    <tr>\n",
       "      <th>fun</th>\n",
       "      <td>0.038691</td>\n",
       "    </tr>\n",
       "    <tr>\n",
       "      <th>amb</th>\n",
       "      <td>0.014525</td>\n",
       "    </tr>\n",
       "    <tr>\n",
       "      <th>shar</th>\n",
       "      <td>0.046866</td>\n",
       "    </tr>\n",
       "  </tbody>\n",
       "</table style=\"display:inline\"></td></th><th style=\"text-align:center\"><td style=\"vertical-align:top\"><h2>Female</h2><table style=\"display:inline\" border=\"1\" class=\"dataframe\">\n",
       "  <thead>\n",
       "    <tr style=\"text-align: right;\">\n",
       "      <th></th>\n",
       "      <th>0</th>\n",
       "    </tr>\n",
       "  </thead>\n",
       "  <tbody>\n",
       "    <tr>\n",
       "      <th>attr</th>\n",
       "      <td>0.038565</td>\n",
       "    </tr>\n",
       "    <tr>\n",
       "      <th>sinc</th>\n",
       "      <td>0.002442</td>\n",
       "    </tr>\n",
       "    <tr>\n",
       "      <th>intel</th>\n",
       "      <td>0.018127</td>\n",
       "    </tr>\n",
       "    <tr>\n",
       "      <th>fun</th>\n",
       "      <td>0.056641</td>\n",
       "    </tr>\n",
       "    <tr>\n",
       "      <th>amb</th>\n",
       "      <td>0.022086</td>\n",
       "    </tr>\n",
       "    <tr>\n",
       "      <th>shar</th>\n",
       "      <td>0.057752</td>\n",
       "    </tr>\n",
       "  </tbody>\n",
       "</table style=\"display:inline\"></td></th>"
      ]
     },
     "metadata": {},
     "output_type": "display_data"
    }
   ],
   "source": [
    "display_side_by_side(pd.DataFrame(after_male_coef),pd.DataFrame(after_female_coef), titles=['Male','Female'])"
   ]
  },
  {
   "cell_type": "code",
   "execution_count": 259,
   "id": "2bf383a6",
   "metadata": {},
   "outputs": [
    {
     "data": {
      "image/png": "[encoded data removed]",
      "text/plain": [
       "<Figure size 1440x576 with 2 Axes>"
      ]
     },
     "metadata": {
      "needs_background": "light"
     },
     "output_type": "display_data"
    }
   ],
   "source": [
    "f, ax = verticleCanvas((20, 8))\n",
    "pd.DataFrame(after_male_coef).plot(kind=\"barh\", ax = ax[0], color = \"#3B8484\")\n",
    "ax[0].set_title(\"Male\")\n",
    "pd.DataFrame(after_female_coef).plot(kind=\"barh\", ax = ax[1], color = \"#B78627\")\n",
    "ax[1].set_title(\"Female\")\n",
    "plt.show()"
   ]
  },
  {
   "cell_type": "markdown",
   "id": "69fb3f7e",
   "metadata": {},
   "source": [
    "# Comparing before and after the date"
   ]
  },
  {
   "cell_type": "code",
   "execution_count": 260,
   "id": "479281ee",
   "metadata": {
    "scrolled": true
   },
   "outputs": [
    {
     "data": {
      "application/vnd.plotly.v1+json": {
       "config": {
        "plotlyServerURL": "https://plot.ly"
       },
       "data": [
        {
         "fill": "toself",
         "name": "Before",
         "r": [
          0.047761636961838924,
          0.05086916811636312,
          0.018624503023279247,
          0.019431778150264832,
          0.016573178694568137,
          0.03910169854055553
         ],
         "theta": [
          "attr1_1",
          "sinc1_1",
          "intel1_1",
          "fun1_1",
          "amb1_1",
          "shar1_1"
         ],
         "type": "scatterpolar"
        },
        {
         "fill": "toself",
         "name": "After",
         "r": [
          0.057629683477134645,
          0.0007984955600851412,
          0.011372920625447537,
          0.038690759252048595,
          0.014525423201148094,
          0.0468657358365143
         ],
         "theta": [
          "attr1_1",
          "sinc1_1",
          "intel1_1",
          "fun1_1",
          "amb1_1",
          "shar1_1"
         ],
         "type": "scatterpolar"
        }
       ],
       "layout": {
        "polar": {
         "radialaxis": {
          "range": [
           0,
           0.08
          ],
          "visible": true
         }
        },
        "showlegend": true,
        "template": {
         "data": {
          "bar": [
           {
            "error_x": {
             "color": "#2a3f5f"
            },
            "error_y": {
             "color": "#2a3f5f"
            },
            "marker": {
             "line": {
              "color": "#E5ECF6",
              "width": 0.5
             },
             "pattern": {
              "fillmode": "overlay",
              "size": 10,
              "solidity": 0.2
             }
            },
            "type": "bar"
           }
          ],
          "barpolar": [
           {
            "marker": {
             "line": {
              "color": "#E5ECF6",
              "width": 0.5
             },
             "pattern": {
              "fillmode": "overlay",
              "size": 10,
              "solidity": 0.2
             }
            },
            "type": "barpolar"
           }
          ],
          "carpet": [
           {
            "aaxis": {
             "endlinecolor": "#2a3f5f",
             "gridcolor": "white",
             "linecolor": "white",
             "minorgridcolor": "white",
             "startlinecolor": "#2a3f5f"
            },
            "baxis": {
             "endlinecolor": "#2a3f5f",
             "gridcolor": "white",
             "linecolor": "white",
             "minorgridcolor": "white",
             "startlinecolor": "#2a3f5f"
            },
            "type": "carpet"
           }
          ],
          "choropleth": [
           {
            "colorbar": {
             "outlinewidth": 0,
             "ticks": ""
            },
            "type": "choropleth"
           }
          ],
          "contour": [
           {
            "colorbar": {
             "outlinewidth": 0,
             "ticks": ""
            },
            "colorscale": [
             [
              0,
              "#0d0887"
             ],
             [
              0.1111111111111111,
              "#46039f"
             ],
             [
              0.2222222222222222,
              "#7201a8"
             ],
             [
              0.3333333333333333,
              "#9c179e"
             ],
             [
              0.4444444444444444,
              "#bd3786"
             ],
             [
              0.5555555555555556,
              "#d8576b"
             ],
             [
              0.6666666666666666,
              "#ed7953"
             ],
             [
              0.7777777777777778,
              "#fb9f3a"
             ],
             [
              0.8888888888888888,
              "#fdca26"
             ],
             [
              1,
              "#f0f921"
             ]
            ],
            "type": "contour"
           }
          ],
          "contourcarpet": [
           {
            "colorbar": {
             "outlinewidth": 0,
             "ticks": ""
            },
            "type": "contourcarpet"
           }
          ],
          "heatmap": [
           {
            "colorbar": {
             "outlinewidth": 0,
             "ticks": ""
            },
            "colorscale": [
             [
              0,
              "#0d0887"
             ],
             [
              0.1111111111111111,
              "#46039f"
             ],
             [
              0.2222222222222222,
              "#7201a8"
             ],
             [
              0.3333333333333333,
              "#9c179e"
             ],
             [
              0.4444444444444444,
              "#bd3786"
             ],
             [
              0.5555555555555556,
              "#d8576b"
             ],
             [
              0.6666666666666666,
              "#ed7953"
             ],
             [
              0.7777777777777778,
              "#fb9f3a"
             ],
             [
              0.8888888888888888,
              "#fdca26"
             ],
             [
              1,
              "#f0f921"
             ]
            ],
            "type": "heatmap"
           }
          ],
          "heatmapgl": [
           {
            "colorbar": {
             "outlinewidth": 0,
             "ticks": ""
            },
            "colorscale": [
             [
              0,
              "#0d0887"
             ],
             [
              0.1111111111111111,
              "#46039f"
             ],
             [
              0.2222222222222222,
              "#7201a8"
             ],
             [
              0.3333333333333333,
              "#9c179e"
             ],
             [
              0.4444444444444444,
              "#bd3786"
             ],
             [
              0.5555555555555556,
              "#d8576b"
             ],
             [
              0.6666666666666666,
              "#ed7953"
             ],
             [
              0.7777777777777778,
              "#fb9f3a"
             ],
             [
              0.8888888888888888,
              "#fdca26"
             ],
             [
              1,
              "#f0f921"
             ]
            ],
            "type": "heatmapgl"
           }
          ],
          "histogram": [
           {
            "marker": {
             "pattern": {
              "fillmode": "overlay",
              "size": 10,
              "solidity": 0.2
             }
            },
            "type": "histogram"
           }
          ],
          "histogram2d": [
           {
            "colorbar": {
             "outlinewidth": 0,
             "ticks": ""
            },
            "colorscale": [
             [
              0,
              "#0d0887"
             ],
             [
              0.1111111111111111,
              "#46039f"
             ],
             [
              0.2222222222222222,
              "#7201a8"
             ],
             [
              0.3333333333333333,
              "#9c179e"
             ],
             [
              0.4444444444444444,
              "#bd3786"
             ],
             [
              0.5555555555555556,
              "#d8576b"
             ],
             [
              0.6666666666666666,
              "#ed7953"
             ],
             [
              0.7777777777777778,
              "#fb9f3a"
             ],
             [
              0.8888888888888888,
              "#fdca26"
             ],
             [
              1,
              "#f0f921"
             ]
            ],
            "type": "histogram2d"
           }
          ],
          "histogram2dcontour": [
           {
            "colorbar": {
             "outlinewidth": 0,
             "ticks": ""
            },
            "colorscale": [
             [
              0,
              "#0d0887"
             ],
             [
              0.1111111111111111,
              "#46039f"
             ],
             [
              0.2222222222222222,
              "#7201a8"
             ],
             [
              0.3333333333333333,
              "#9c179e"
             ],
             [
              0.4444444444444444,
              "#bd3786"
             ],
             [
              0.5555555555555556,
              "#d8576b"
             ],
             [
              0.6666666666666666,
              "#ed7953"
             ],
             [
              0.7777777777777778,
              "#fb9f3a"
             ],
             [
              0.8888888888888888,
              "#fdca26"
             ],
             [
              1,
              "#f0f921"
             ]
            ],
            "type": "histogram2dcontour"
           }
          ],
          "mesh3d": [
           {
            "colorbar": {
             "outlinewidth": 0,
             "ticks": ""
            },
            "type": "mesh3d"
           }
          ],
          "parcoords": [
           {
            "line": {
             "colorbar": {
              "outlinewidth": 0,
              "ticks": ""
             }
            },
            "type": "parcoords"
           }
          ],
          "pie": [
           {
            "automargin": true,
            "type": "pie"
           }
          ],
          "scatter": [
           {
            "marker": {
             "colorbar": {
              "outlinewidth": 0,
              "ticks": ""
             }
            },
            "type": "scatter"
           }
          ],
          "scatter3d": [
           {
            "line": {
             "colorbar": {
              "outlinewidth": 0,
              "ticks": ""
             }
            },
            "marker": {
             "colorbar": {
              "outlinewidth": 0,
              "ticks": ""
             }
            },
            "type": "scatter3d"
           }
          ],
          "scattercarpet": [
           {
            "marker": {
             "colorbar": {
              "outlinewidth": 0,
              "ticks": ""
             }
            },
            "type": "scattercarpet"
           }
          ],
          "scattergeo": [
           {
            "marker": {
             "colorbar": {
              "outlinewidth": 0,
              "ticks": ""
             }
            },
            "type": "scattergeo"
           }
          ],
          "scattergl": [
           {
            "marker": {
             "colorbar": {
              "outlinewidth": 0,
              "ticks": ""
             }
            },
            "type": "scattergl"
           }
          ],
          "scattermapbox": [
           {
            "marker": {
             "colorbar": {
              "outlinewidth": 0,
              "ticks": ""
             }
            },
            "type": "scattermapbox"
           }
          ],
          "scatterpolar": [
           {
            "marker": {
             "colorbar": {
              "outlinewidth": 0,
              "ticks": ""
             }
            },
            "type": "scatterpolar"
           }
          ],
          "scatterpolargl": [
           {
            "marker": {
             "colorbar": {
              "outlinewidth": 0,
              "ticks": ""
             }
            },
            "type": "scatterpolargl"
           }
          ],
          "scatterternary": [
           {
            "marker": {
             "colorbar": {
              "outlinewidth": 0,
              "ticks": ""
             }
            },
            "type": "scatterternary"
           }
          ],
          "surface": [
           {
            "colorbar": {
             "outlinewidth": 0,
             "ticks": ""
            },
            "colorscale": [
             [
              0,
              "#0d0887"
             ],
             [
              0.1111111111111111,
              "#46039f"
             ],
             [
              0.2222222222222222,
              "#7201a8"
             ],
             [
              0.3333333333333333,
              "#9c179e"
             ],
             [
              0.4444444444444444,
              "#bd3786"
             ],
             [
              0.5555555555555556,
              "#d8576b"
             ],
             [
              0.6666666666666666,
              "#ed7953"
             ],
             [
              0.7777777777777778,
              "#fb9f3a"
             ],
             [
              0.8888888888888888,
              "#fdca26"
             ],
             [
              1,
              "#f0f921"
             ]
            ],
            "type": "surface"
           }
          ],
          "table": [
           {
            "cells": {
             "fill": {
              "color": "#EBF0F8"
             },
             "line": {
              "color": "white"
             }
            },
            "header": {
             "fill": {
              "color": "#C8D4E3"
             },
             "line": {
              "color": "white"
             }
            },
            "type": "table"
           }
          ]
         },
         "layout": {
          "annotationdefaults": {
           "arrowcolor": "#2a3f5f",
           "arrowhead": 0,
           "arrowwidth": 1
          },
          "autotypenumbers": "strict",
          "coloraxis": {
           "colorbar": {
            "outlinewidth": 0,
            "ticks": ""
           }
          },
          "colorscale": {
           "diverging": [
            [
             0,
             "#8e0152"
            ],
            [
             0.1,
             "#c51b7d"
            ],
            [
             0.2,
             "#de77ae"
            ],
            [
             0.3,
             "#f1b6da"
            ],
            [
             0.4,
             "#fde0ef"
            ],
            [
             0.5,
             "#f7f7f7"
            ],
            [
             0.6,
             "#e6f5d0"
            ],
            [
             0.7,
             "#b8e186"
            ],
            [
             0.8,
             "#7fbc41"
            ],
            [
             0.9,
             "#4d9221"
            ],
            [
             1,
             "#276419"
            ]
           ],
           "sequential": [
            [
             0,
             "#0d0887"
            ],
            [
             0.1111111111111111,
             "#46039f"
            ],
            [
             0.2222222222222222,
             "#7201a8"
            ],
            [
             0.3333333333333333,
             "#9c179e"
            ],
            [
             0.4444444444444444,
             "#bd3786"
            ],
            [
             0.5555555555555556,
             "#d8576b"
            ],
            [
             0.6666666666666666,
             "#ed7953"
            ],
            [
             0.7777777777777778,
             "#fb9f3a"
            ],
            [
             0.8888888888888888,
             "#fdca26"
            ],
            [
             1,
             "#f0f921"
            ]
           ],
           "sequentialminus": [
            [
             0,
             "#0d0887"
            ],
            [
             0.1111111111111111,
             "#46039f"
            ],
            [
             0.2222222222222222,
             "#7201a8"
            ],
            [
             0.3333333333333333,
             "#9c179e"
            ],
            [
             0.4444444444444444,
             "#bd3786"
            ],
            [
             0.5555555555555556,
             "#d8576b"
            ],
            [
             0.6666666666666666,
             "#ed7953"
            ],
            [
             0.7777777777777778,
             "#fb9f3a"
            ],
            [
             0.8888888888888888,
             "#fdca26"
            ],
            [
             1,
             "#f0f921"
            ]
           ]
          },
          "colorway": [
           "#636efa",
           "#EF553B",
           "#00cc96",
           "#ab63fa",
           "#FFA15A",
           "#19d3f3",
           "#FF6692",
           "#B6E880",
           "#FF97FF",
           "#FECB52"
          ],
          "font": {
           "color": "#2a3f5f"
          },
          "geo": {
           "bgcolor": "white",
           "lakecolor": "white",
           "landcolor": "#E5ECF6",
           "showlakes": true,
           "showland": true,
           "subunitcolor": "white"
          },
          "hoverlabel": {
           "align": "left"
          },
          "hovermode": "closest",
          "mapbox": {
           "style": "light"
          },
          "paper_bgcolor": "white",
          "plot_bgcolor": "#E5ECF6",
          "polar": {
           "angularaxis": {
            "gridcolor": "white",
            "linecolor": "white",
            "ticks": ""
           },
           "bgcolor": "#E5ECF6",
           "radialaxis": {
            "gridcolor": "white",
            "linecolor": "white",
            "ticks": ""
           }
          },
          "scene": {
           "xaxis": {
            "backgroundcolor": "#E5ECF6",
            "gridcolor": "white",
            "gridwidth": 2,
            "linecolor": "white",
            "showbackground": true,
            "ticks": "",
            "zerolinecolor": "white"
           },
           "yaxis": {
            "backgroundcolor": "#E5ECF6",
            "gridcolor": "white",
            "gridwidth": 2,
            "linecolor": "white",
            "showbackground": true,
            "ticks": "",
            "zerolinecolor": "white"
           },
           "zaxis": {
            "backgroundcolor": "#E5ECF6",
            "gridcolor": "white",
            "gridwidth": 2,
            "linecolor": "white",
            "showbackground": true,
            "ticks": "",
            "zerolinecolor": "white"
           }
          },
          "shapedefaults": {
           "line": {
            "color": "#2a3f5f"
           }
          },
          "ternary": {
           "aaxis": {
            "gridcolor": "white",
            "linecolor": "white",
            "ticks": ""
           },
           "baxis": {
            "gridcolor": "white",
            "linecolor": "white",
            "ticks": ""
           },
           "bgcolor": "#E5ECF6",
           "caxis": {
            "gridcolor": "white",
            "linecolor": "white",
            "ticks": ""
           }
          },
          "title": {
           "x": 0.05
          },
          "xaxis": {
           "automargin": true,
           "gridcolor": "white",
           "linecolor": "white",
           "ticks": "",
           "title": {
            "standoff": 15
           },
           "zerolinecolor": "white",
           "zerolinewidth": 2
          },
          "yaxis": {
           "automargin": true,
           "gridcolor": "white",
           "linecolor": "white",
           "ticks": "",
           "title": {
            "standoff": 15
           },
           "zerolinecolor": "white",
           "zerolinewidth": 2
          }
         }
        },
        "title": {
         "text": "Importance of attribute variables: before and after. Partner's that male want "
        }
       }
      },
      "text/html": [
       "<div>                            <div id=\"48685e15-eb18-41c5-a654-290cd355357d\" class=\"plotly-graph-div\" style=\"height:525px; width:100%;\"></div>            <script type=\"text/javascript\">                require([\"plotly\"], function(Plotly) {                    window.PLOTLYENV=window.PLOTLYENV || {};                                    if (document.getElementById(\"48685e15-eb18-41c5-a654-290cd355357d\")) {                    Plotly.newPlot(                        \"48685e15-eb18-41c5-a654-290cd355357d\",                        [{\"fill\":\"toself\",\"name\":\"Before\",\"r\":[0.047761636961838924,0.05086916811636312,0.018624503023279247,0.019431778150264832,0.016573178694568137,0.03910169854055553],\"theta\":[\"attr1_1\",\"sinc1_1\",\"intel1_1\",\"fun1_1\",\"amb1_1\",\"shar1_1\"],\"type\":\"scatterpolar\"},{\"fill\":\"toself\",\"name\":\"After\",\"r\":[0.057629683477134645,0.0007984955600851412,0.011372920625447537,0.038690759252048595,0.014525423201148094,0.0468657358365143],\"theta\":[\"attr1_1\",\"sinc1_1\",\"intel1_1\",\"fun1_1\",\"amb1_1\",\"shar1_1\"],\"type\":\"scatterpolar\"}],                        {\"template\":{\"data\":{\"bar\":[{\"error_x\":{\"color\":\"#2a3f5f\"},\"error_y\":{\"color\":\"#2a3f5f\"},\"marker\":{\"line\":{\"color\":\"#E5ECF6\",\"width\":0.5},\"pattern\":{\"fillmode\":\"overlay\",\"size\":10,\"solidity\":0.2}},\"type\":\"bar\"}],\"barpolar\":[{\"marker\":{\"line\":{\"color\":\"#E5ECF6\",\"width\":0.5},\"pattern\":{\"fillmode\":\"overlay\",\"size\":10,\"solidity\":0.2}},\"type\":\"barpolar\"}],\"carpet\":[{\"aaxis\":{\"endlinecolor\":\"#2a3f5f\",\"gridcolor\":\"white\",\"linecolor\":\"white\",\"minorgridcolor\":\"white\",\"startlinecolor\":\"#2a3f5f\"},\"baxis\":{\"endlinecolor\":\"#2a3f5f\",\"gridcolor\":\"white\",\"linecolor\":\"white\",\"minorgridcolor\":\"white\",\"startlinecolor\":\"#2a3f5f\"},\"type\":\"carpet\"}],\"choropleth\":[{\"colorbar\":{\"outlinewidth\":0,\"ticks\":\"\"},\"type\":\"choropleth\"}],\"contour\":[{\"colorbar\":{\"outlinewidth\":0,\"ticks\":\"\"},\"colorscale\":[[0.0,\"#0d0887\"],[0.1111111111111111,\"#46039f\"],[0.2222222222222222,\"#7201a8\"],[0.3333333333333333,\"#9c179e\"],[0.4444444444444444,\"#bd3786\"],[0.5555555555555556,\"#d8576b\"],[0.6666666666666666,\"#ed7953\"],[0.7777777777777778,\"#fb9f3a\"],[0.8888888888888888,\"#fdca26\"],[1.0,\"#f0f921\"]],\"type\":\"contour\"}],\"contourcarpet\":[{\"colorbar\":{\"outlinewidth\":0,\"ticks\":\"\"},\"type\":\"contourcarpet\"}],\"heatmap\":[{\"colorbar\":{\"outlinewidth\":0,\"ticks\":\"\"},\"colorscale\":[[0.0,\"#0d0887\"],[0.1111111111111111,\"#46039f\"],[0.2222222222222222,\"#7201a8\"],[0.3333333333333333,\"#9c179e\"],[0.4444444444444444,\"#bd3786\"],[0.5555555555555556,\"#d8576b\"],[0.6666666666666666,\"#ed7953\"],[0.7777777777777778,\"#fb9f3a\"],[0.8888888888888888,\"#fdca26\"],[1.0,\"#f0f921\"]],\"type\":\"heatmap\"}],\"heatmapgl\":[{\"colorbar\":{\"outlinewidth\":0,\"ticks\":\"\"},\"colorscale\":[[0.0,\"#0d0887\"],[0.1111111111111111,\"#46039f\"],[0.2222222222222222,\"#7201a8\"],[0.3333333333333333,\"#9c179e\"],[0.4444444444444444,\"#bd3786\"],[0.5555555555555556,\"#d8576b\"],[0.6666666666666666,\"#ed7953\"],[0.7777777777777778,\"#fb9f3a\"],[0.8888888888888888,\"#fdca26\"],[1.0,\"#f0f921\"]],\"type\":\"heatmapgl\"}],\"histogram\":[{\"marker\":{\"pattern\":{\"fillmode\":\"overlay\",\"size\":10,\"solidity\":0.2}},\"type\":\"histogram\"}],\"histogram2d\":[{\"colorbar\":{\"outlinewidth\":0,\"ticks\":\"\"},\"colorscale\":[[0.0,\"#0d0887\"],[0.1111111111111111,\"#46039f\"],[0.2222222222222222,\"#7201a8\"],[0.3333333333333333,\"#9c179e\"],[0.4444444444444444,\"#bd3786\"],[0.5555555555555556,\"#d8576b\"],[0.6666666666666666,\"#ed7953\"],[0.7777777777777778,\"#fb9f3a\"],[0.8888888888888888,\"#fdca26\"],[1.0,\"#f0f921\"]],\"type\":\"histogram2d\"}],\"histogram2dcontour\":[{\"colorbar\":{\"outlinewidth\":0,\"ticks\":\"\"},\"colorscale\":[[0.0,\"#0d0887\"],[0.1111111111111111,\"#46039f\"],[0.2222222222222222,\"#7201a8\"],[0.3333333333333333,\"#9c179e\"],[0.4444444444444444,\"#bd3786\"],[0.5555555555555556,\"#d8576b\"],[0.6666666666666666,\"#ed7953\"],[0.7777777777777778,\"#fb9f3a\"],[0.8888888888888888,\"#fdca26\"],[1.0,\"#f0f921\"]],\"type\":\"histogram2dcontour\"}],\"mesh3d\":[{\"colorbar\":{\"outlinewidth\":0,\"ticks\":\"\"},\"type\":\"mesh3d\"}],\"parcoords\":[{\"line\":{\"colorbar\":{\"outlinewidth\":0,\"ticks\":\"\"}},\"type\":\"parcoords\"}],\"pie\":[{\"automargin\":true,\"type\":\"pie\"}],\"scatter\":[{\"marker\":{\"colorbar\":{\"outlinewidth\":0,\"ticks\":\"\"}},\"type\":\"scatter\"}],\"scatter3d\":[{\"line\":{\"colorbar\":{\"outlinewidth\":0,\"ticks\":\"\"}},\"marker\":{\"colorbar\":{\"outlinewidth\":0,\"ticks\":\"\"}},\"type\":\"scatter3d\"}],\"scattercarpet\":[{\"marker\":{\"colorbar\":{\"outlinewidth\":0,\"ticks\":\"\"}},\"type\":\"scattercarpet\"}],\"scattergeo\":[{\"marker\":{\"colorbar\":{\"outlinewidth\":0,\"ticks\":\"\"}},\"type\":\"scattergeo\"}],\"scattergl\":[{\"marker\":{\"colorbar\":{\"outlinewidth\":0,\"ticks\":\"\"}},\"type\":\"scattergl\"}],\"scattermapbox\":[{\"marker\":{\"colorbar\":{\"outlinewidth\":0,\"ticks\":\"\"}},\"type\":\"scattermapbox\"}],\"scatterpolar\":[{\"marker\":{\"colorbar\":{\"outlinewidth\":0,\"ticks\":\"\"}},\"type\":\"scatterpolar\"}],\"scatterpolargl\":[{\"marker\":{\"colorbar\":{\"outlinewidth\":0,\"ticks\":\"\"}},\"type\":\"scatterpolargl\"}],\"scatterternary\":[{\"marker\":{\"colorbar\":{\"outlinewidth\":0,\"ticks\":\"\"}},\"type\":\"scatterternary\"}],\"surface\":[{\"colorbar\":{\"outlinewidth\":0,\"ticks\":\"\"},\"colorscale\":[[0.0,\"#0d0887\"],[0.1111111111111111,\"#46039f\"],[0.2222222222222222,\"#7201a8\"],[0.3333333333333333,\"#9c179e\"],[0.4444444444444444,\"#bd3786\"],[0.5555555555555556,\"#d8576b\"],[0.6666666666666666,\"#ed7953\"],[0.7777777777777778,\"#fb9f3a\"],[0.8888888888888888,\"#fdca26\"],[1.0,\"#f0f921\"]],\"type\":\"surface\"}],\"table\":[{\"cells\":{\"fill\":{\"color\":\"#EBF0F8\"},\"line\":{\"color\":\"white\"}},\"header\":{\"fill\":{\"color\":\"#C8D4E3\"},\"line\":{\"color\":\"white\"}},\"type\":\"table\"}]},\"layout\":{\"annotationdefaults\":{\"arrowcolor\":\"#2a3f5f\",\"arrowhead\":0,\"arrowwidth\":1},\"autotypenumbers\":\"strict\",\"coloraxis\":{\"colorbar\":{\"outlinewidth\":0,\"ticks\":\"\"}},\"colorscale\":{\"diverging\":[[0,\"#8e0152\"],[0.1,\"#c51b7d\"],[0.2,\"#de77ae\"],[0.3,\"#f1b6da\"],[0.4,\"#fde0ef\"],[0.5,\"#f7f7f7\"],[0.6,\"#e6f5d0\"],[0.7,\"#b8e186\"],[0.8,\"#7fbc41\"],[0.9,\"#4d9221\"],[1,\"#276419\"]],\"sequential\":[[0.0,\"#0d0887\"],[0.1111111111111111,\"#46039f\"],[0.2222222222222222,\"#7201a8\"],[0.3333333333333333,\"#9c179e\"],[0.4444444444444444,\"#bd3786\"],[0.5555555555555556,\"#d8576b\"],[0.6666666666666666,\"#ed7953\"],[0.7777777777777778,\"#fb9f3a\"],[0.8888888888888888,\"#fdca26\"],[1.0,\"#f0f921\"]],\"sequentialminus\":[[0.0,\"#0d0887\"],[0.1111111111111111,\"#46039f\"],[0.2222222222222222,\"#7201a8\"],[0.3333333333333333,\"#9c179e\"],[0.4444444444444444,\"#bd3786\"],[0.5555555555555556,\"#d8576b\"],[0.6666666666666666,\"#ed7953\"],[0.7777777777777778,\"#fb9f3a\"],[0.8888888888888888,\"#fdca26\"],[1.0,\"#f0f921\"]]},\"colorway\":[\"#636efa\",\"#EF553B\",\"#00cc96\",\"#ab63fa\",\"#FFA15A\",\"#19d3f3\",\"#FF6692\",\"#B6E880\",\"#FF97FF\",\"#FECB52\"],\"font\":{\"color\":\"#2a3f5f\"},\"geo\":{\"bgcolor\":\"white\",\"lakecolor\":\"white\",\"landcolor\":\"#E5ECF6\",\"showlakes\":true,\"showland\":true,\"subunitcolor\":\"white\"},\"hoverlabel\":{\"align\":\"left\"},\"hovermode\":\"closest\",\"mapbox\":{\"style\":\"light\"},\"paper_bgcolor\":\"white\",\"plot_bgcolor\":\"#E5ECF6\",\"polar\":{\"angularaxis\":{\"gridcolor\":\"white\",\"linecolor\":\"white\",\"ticks\":\"\"},\"bgcolor\":\"#E5ECF6\",\"radialaxis\":{\"gridcolor\":\"white\",\"linecolor\":\"white\",\"ticks\":\"\"}},\"scene\":{\"xaxis\":{\"backgroundcolor\":\"#E5ECF6\",\"gridcolor\":\"white\",\"gridwidth\":2,\"linecolor\":\"white\",\"showbackground\":true,\"ticks\":\"\",\"zerolinecolor\":\"white\"},\"yaxis\":{\"backgroundcolor\":\"#E5ECF6\",\"gridcolor\":\"white\",\"gridwidth\":2,\"linecolor\":\"white\",\"showbackground\":true,\"ticks\":\"\",\"zerolinecolor\":\"white\"},\"zaxis\":{\"backgroundcolor\":\"#E5ECF6\",\"gridcolor\":\"white\",\"gridwidth\":2,\"linecolor\":\"white\",\"showbackground\":true,\"ticks\":\"\",\"zerolinecolor\":\"white\"}},\"shapedefaults\":{\"line\":{\"color\":\"#2a3f5f\"}},\"ternary\":{\"aaxis\":{\"gridcolor\":\"white\",\"linecolor\":\"white\",\"ticks\":\"\"},\"baxis\":{\"gridcolor\":\"white\",\"linecolor\":\"white\",\"ticks\":\"\"},\"bgcolor\":\"#E5ECF6\",\"caxis\":{\"gridcolor\":\"white\",\"linecolor\":\"white\",\"ticks\":\"\"}},\"title\":{\"x\":0.05},\"xaxis\":{\"automargin\":true,\"gridcolor\":\"white\",\"linecolor\":\"white\",\"ticks\":\"\",\"title\":{\"standoff\":15},\"zerolinecolor\":\"white\",\"zerolinewidth\":2},\"yaxis\":{\"automargin\":true,\"gridcolor\":\"white\",\"linecolor\":\"white\",\"ticks\":\"\",\"title\":{\"standoff\":15},\"zerolinecolor\":\"white\",\"zerolinewidth\":2}}},\"polar\":{\"radialaxis\":{\"visible\":true,\"range\":[0,0.08]}},\"title\":{\"text\":\"Importance of attribute variables: before and after. Partner's that male want \"},\"showlegend\":true},                        {\"responsive\": true}                    ).then(function(){\n",
       "                            \n",
       "var gd = document.getElementById('48685e15-eb18-41c5-a654-290cd355357d');\n",
       "var x = new MutationObserver(function (mutations, observer) {{\n",
       "        var display = window.getComputedStyle(gd).display;\n",
       "        if (!display || display === 'none') {{\n",
       "            console.log([gd, 'removed!']);\n",
       "            Plotly.purge(gd);\n",
       "            observer.disconnect();\n",
       "        }}\n",
       "}});\n",
       "\n",
       "// Listen for the removal of the full notebook cells\n",
       "var notebookContainer = gd.closest('#notebook-container');\n",
       "if (notebookContainer) {{\n",
       "    x.observe(notebookContainer, {childList: true});\n",
       "}}\n",
       "\n",
       "// Listen for the clearing of the current output cell\n",
       "var outputEl = gd.closest('.output');\n",
       "if (outputEl) {{\n",
       "    x.observe(outputEl, {childList: true});\n",
       "}}\n",
       "\n",
       "                        })                };                });            </script>        </div>"
      ]
     },
     "metadata": {},
     "output_type": "display_data"
    }
   ],
   "source": [
    "plotRadar(before_male_coef, after_male_coef, [0, 0.08] ,\"Importance of attribute variables: before and after. Partner's that male want \")"
   ]
  },
  {
   "cell_type": "code",
   "execution_count": 261,
   "id": "13085e4d",
   "metadata": {},
   "outputs": [
    {
     "data": {
      "application/vnd.plotly.v1+json": {
       "config": {
        "plotlyServerURL": "https://plot.ly"
       },
       "data": [
        {
         "fill": "toself",
         "name": "Before",
         "r": [
          0.14406894739532428,
          0.10412288486301635,
          0.10774204370305002,
          0.1032702587134808,
          0.09262577333764843,
          0.07324554618460699
         ],
         "theta": [
          "attr1_1",
          "sinc1_1",
          "intel1_1",
          "fun1_1",
          "amb1_1",
          "shar1_1"
         ],
         "type": "scatterpolar"
        },
        {
         "fill": "toself",
         "name": "After",
         "r": [
          0.03856452469508212,
          0.0024424054770529864,
          0.01812712995236332,
          0.05664136119059034,
          0.022085778783647873,
          0.05775221514835811
         ],
         "theta": [
          "attr1_1",
          "sinc1_1",
          "intel1_1",
          "fun1_1",
          "amb1_1",
          "shar1_1"
         ],
         "type": "scatterpolar"
        }
       ],
       "layout": {
        "polar": {
         "radialaxis": {
          "range": [
           0,
           0.15
          ],
          "visible": true
         }
        },
        "showlegend": true,
        "template": {
         "data": {
          "bar": [
           {
            "error_x": {
             "color": "#2a3f5f"
            },
            "error_y": {
             "color": "#2a3f5f"
            },
            "marker": {
             "line": {
              "color": "#E5ECF6",
              "width": 0.5
             },
             "pattern": {
              "fillmode": "overlay",
              "size": 10,
              "solidity": 0.2
             }
            },
            "type": "bar"
           }
          ],
          "barpolar": [
           {
            "marker": {
             "line": {
              "color": "#E5ECF6",
              "width": 0.5
             },
             "pattern": {
              "fillmode": "overlay",
              "size": 10,
              "solidity": 0.2
             }
            },
            "type": "barpolar"
           }
          ],
          "carpet": [
           {
            "aaxis": {
             "endlinecolor": "#2a3f5f",
             "gridcolor": "white",
             "linecolor": "white",
             "minorgridcolor": "white",
             "startlinecolor": "#2a3f5f"
            },
            "baxis": {
             "endlinecolor": "#2a3f5f",
             "gridcolor": "white",
             "linecolor": "white",
             "minorgridcolor": "white",
             "startlinecolor": "#2a3f5f"
            },
            "type": "carpet"
           }
          ],
          "choropleth": [
           {
            "colorbar": {
             "outlinewidth": 0,
             "ticks": ""
            },
            "type": "choropleth"
           }
          ],
          "contour": [
           {
            "colorbar": {
             "outlinewidth": 0,
             "ticks": ""
            },
            "colorscale": [
             [
              0,
              "#0d0887"
             ],
             [
              0.1111111111111111,
              "#46039f"
             ],
             [
              0.2222222222222222,
              "#7201a8"
             ],
             [
              0.3333333333333333,
              "#9c179e"
             ],
             [
              0.4444444444444444,
              "#bd3786"
             ],
             [
              0.5555555555555556,
              "#d8576b"
             ],
             [
              0.6666666666666666,
              "#ed7953"
             ],
             [
              0.7777777777777778,
              "#fb9f3a"
             ],
             [
              0.8888888888888888,
              "#fdca26"
             ],
             [
              1,
              "#f0f921"
             ]
            ],
            "type": "contour"
           }
          ],
          "contourcarpet": [
           {
            "colorbar": {
             "outlinewidth": 0,
             "ticks": ""
            },
            "type": "contourcarpet"
           }
          ],
          "heatmap": [
           {
            "colorbar": {
             "outlinewidth": 0,
             "ticks": ""
            },
            "colorscale": [
             [
              0,
              "#0d0887"
             ],
             [
              0.1111111111111111,
              "#46039f"
             ],
             [
              0.2222222222222222,
              "#7201a8"
             ],
             [
              0.3333333333333333,
              "#9c179e"
             ],
             [
              0.4444444444444444,
              "#bd3786"
             ],
             [
              0.5555555555555556,
              "#d8576b"
             ],
             [
              0.6666666666666666,
              "#ed7953"
             ],
             [
              0.7777777777777778,
              "#fb9f3a"
             ],
             [
              0.8888888888888888,
              "#fdca26"
             ],
             [
              1,
              "#f0f921"
             ]
            ],
            "type": "heatmap"
           }
          ],
          "heatmapgl": [
           {
            "colorbar": {
             "outlinewidth": 0,
             "ticks": ""
            },
            "colorscale": [
             [
              0,
              "#0d0887"
             ],
             [
              0.1111111111111111,
              "#46039f"
             ],
             [
              0.2222222222222222,
              "#7201a8"
             ],
             [
              0.3333333333333333,
              "#9c179e"
             ],
             [
              0.4444444444444444,
              "#bd3786"
             ],
             [
              0.5555555555555556,
              "#d8576b"
             ],
             [
              0.6666666666666666,
              "#ed7953"
             ],
             [
              0.7777777777777778,
              "#fb9f3a"
             ],
             [
              0.8888888888888888,
              "#fdca26"
             ],
             [
              1,
              "#f0f921"
             ]
            ],
            "type": "heatmapgl"
           }
          ],
          "histogram": [
           {
            "marker": {
             "pattern": {
              "fillmode": "overlay",
              "size": 10,
              "solidity": 0.2
             }
            },
            "type": "histogram"
           }
          ],
          "histogram2d": [
           {
            "colorbar": {
             "outlinewidth": 0,
             "ticks": ""
            },
            "colorscale": [
             [
              0,
              "#0d0887"
             ],
             [
              0.1111111111111111,
              "#46039f"
             ],
             [
              0.2222222222222222,
              "#7201a8"
             ],
             [
              0.3333333333333333,
              "#9c179e"
             ],
             [
              0.4444444444444444,
              "#bd3786"
             ],
             [
              0.5555555555555556,
              "#d8576b"
             ],
             [
              0.6666666666666666,
              "#ed7953"
             ],
             [
              0.7777777777777778,
              "#fb9f3a"
             ],
             [
              0.8888888888888888,
              "#fdca26"
             ],
             [
              1,
              "#f0f921"
             ]
            ],
            "type": "histogram2d"
           }
          ],
          "histogram2dcontour": [
           {
            "colorbar": {
             "outlinewidth": 0,
             "ticks": ""
            },
            "colorscale": [
             [
              0,
              "#0d0887"
             ],
             [
              0.1111111111111111,
              "#46039f"
             ],
             [
              0.2222222222222222,
              "#7201a8"
             ],
             [
              0.3333333333333333,
              "#9c179e"
             ],
             [
              0.4444444444444444,
              "#bd3786"
             ],
             [
              0.5555555555555556,
              "#d8576b"
             ],
             [
              0.6666666666666666,
              "#ed7953"
             ],
             [
              0.7777777777777778,
              "#fb9f3a"
             ],
             [
              0.8888888888888888,
              "#fdca26"
             ],
             [
              1,
              "#f0f921"
             ]
            ],
            "type": "histogram2dcontour"
           }
          ],
          "mesh3d": [
           {
            "colorbar": {
             "outlinewidth": 0,
             "ticks": ""
            },
            "type": "mesh3d"
           }
          ],
          "parcoords": [
           {
            "line": {
             "colorbar": {
              "outlinewidth": 0,
              "ticks": ""
             }
            },
            "type": "parcoords"
           }
          ],
          "pie": [
           {
            "automargin": true,
            "type": "pie"
           }
          ],
          "scatter": [
           {
            "marker": {
             "colorbar": {
              "outlinewidth": 0,
              "ticks": ""
             }
            },
            "type": "scatter"
           }
          ],
          "scatter3d": [
           {
            "line": {
             "colorbar": {
              "outlinewidth": 0,
              "ticks": ""
             }
            },
            "marker": {
             "colorbar": {
              "outlinewidth": 0,
              "ticks": ""
             }
            },
            "type": "scatter3d"
           }
          ],
          "scattercarpet": [
           {
            "marker": {
             "colorbar": {
              "outlinewidth": 0,
              "ticks": ""
             }
            },
            "type": "scattercarpet"
           }
          ],
          "scattergeo": [
           {
            "marker": {
             "colorbar": {
              "outlinewidth": 0,
              "ticks": ""
             }
            },
            "type": "scattergeo"
           }
          ],
          "scattergl": [
           {
            "marker": {
             "colorbar": {
              "outlinewidth": 0,
              "ticks": ""
             }
            },
            "type": "scattergl"
           }
          ],
          "scattermapbox": [
           {
            "marker": {
             "colorbar": {
              "outlinewidth": 0,
              "ticks": ""
             }
            },
            "type": "scattermapbox"
           }
          ],
          "scatterpolar": [
           {
            "marker": {
             "colorbar": {
              "outlinewidth": 0,
              "ticks": ""
             }
            },
            "type": "scatterpolar"
           }
          ],
          "scatterpolargl": [
           {
            "marker": {
             "colorbar": {
              "outlinewidth": 0,
              "ticks": ""
             }
            },
            "type": "scatterpolargl"
           }
          ],
          "scatterternary": [
           {
            "marker": {
             "colorbar": {
              "outlinewidth": 0,
              "ticks": ""
             }
            },
            "type": "scatterternary"
           }
          ],
          "surface": [
           {
            "colorbar": {
             "outlinewidth": 0,
             "ticks": ""
            },
            "colorscale": [
             [
              0,
              "#0d0887"
             ],
             [
              0.1111111111111111,
              "#46039f"
             ],
             [
              0.2222222222222222,
              "#7201a8"
             ],
             [
              0.3333333333333333,
              "#9c179e"
             ],
             [
              0.4444444444444444,
              "#bd3786"
             ],
             [
              0.5555555555555556,
              "#d8576b"
             ],
             [
              0.6666666666666666,
              "#ed7953"
             ],
             [
              0.7777777777777778,
              "#fb9f3a"
             ],
             [
              0.8888888888888888,
              "#fdca26"
             ],
             [
              1,
              "#f0f921"
             ]
            ],
            "type": "surface"
           }
          ],
          "table": [
           {
            "cells": {
             "fill": {
              "color": "#EBF0F8"
             },
             "line": {
              "color": "white"
             }
            },
            "header": {
             "fill": {
              "color": "#C8D4E3"
             },
             "line": {
              "color": "white"
             }
            },
            "type": "table"
           }
          ]
         },
         "layout": {
          "annotationdefaults": {
           "arrowcolor": "#2a3f5f",
           "arrowhead": 0,
           "arrowwidth": 1
          },
          "autotypenumbers": "strict",
          "coloraxis": {
           "colorbar": {
            "outlinewidth": 0,
            "ticks": ""
           }
          },
          "colorscale": {
           "diverging": [
            [
             0,
             "#8e0152"
            ],
            [
             0.1,
             "#c51b7d"
            ],
            [
             0.2,
             "#de77ae"
            ],
            [
             0.3,
             "#f1b6da"
            ],
            [
             0.4,
             "#fde0ef"
            ],
            [
             0.5,
             "#f7f7f7"
            ],
            [
             0.6,
             "#e6f5d0"
            ],
            [
             0.7,
             "#b8e186"
            ],
            [
             0.8,
             "#7fbc41"
            ],
            [
             0.9,
             "#4d9221"
            ],
            [
             1,
             "#276419"
            ]
           ],
           "sequential": [
            [
             0,
             "#0d0887"
            ],
            [
             0.1111111111111111,
             "#46039f"
            ],
            [
             0.2222222222222222,
             "#7201a8"
            ],
            [
             0.3333333333333333,
             "#9c179e"
            ],
            [
             0.4444444444444444,
             "#bd3786"
            ],
            [
             0.5555555555555556,
             "#d8576b"
            ],
            [
             0.6666666666666666,
             "#ed7953"
            ],
            [
             0.7777777777777778,
             "#fb9f3a"
            ],
            [
             0.8888888888888888,
             "#fdca26"
            ],
            [
             1,
             "#f0f921"
            ]
           ],
           "sequentialminus": [
            [
             0,
             "#0d0887"
            ],
            [
             0.1111111111111111,
             "#46039f"
            ],
            [
             0.2222222222222222,
             "#7201a8"
            ],
            [
             0.3333333333333333,
             "#9c179e"
            ],
            [
             0.4444444444444444,
             "#bd3786"
            ],
            [
             0.5555555555555556,
             "#d8576b"
            ],
            [
             0.6666666666666666,
             "#ed7953"
            ],
            [
             0.7777777777777778,
             "#fb9f3a"
            ],
            [
             0.8888888888888888,
             "#fdca26"
            ],
            [
             1,
             "#f0f921"
            ]
           ]
          },
          "colorway": [
           "#636efa",
           "#EF553B",
           "#00cc96",
           "#ab63fa",
           "#FFA15A",
           "#19d3f3",
           "#FF6692",
           "#B6E880",
           "#FF97FF",
           "#FECB52"
          ],
          "font": {
           "color": "#2a3f5f"
          },
          "geo": {
           "bgcolor": "white",
           "lakecolor": "white",
           "landcolor": "#E5ECF6",
           "showlakes": true,
           "showland": true,
           "subunitcolor": "white"
          },
          "hoverlabel": {
           "align": "left"
          },
          "hovermode": "closest",
          "mapbox": {
           "style": "light"
          },
          "paper_bgcolor": "white",
          "plot_bgcolor": "#E5ECF6",
          "polar": {
           "angularaxis": {
            "gridcolor": "white",
            "linecolor": "white",
            "ticks": ""
           },
           "bgcolor": "#E5ECF6",
           "radialaxis": {
            "gridcolor": "white",
            "linecolor": "white",
            "ticks": ""
           }
          },
          "scene": {
           "xaxis": {
            "backgroundcolor": "#E5ECF6",
            "gridcolor": "white",
            "gridwidth": 2,
            "linecolor": "white",
            "showbackground": true,
            "ticks": "",
            "zerolinecolor": "white"
           },
           "yaxis": {
            "backgroundcolor": "#E5ECF6",
            "gridcolor": "white",
            "gridwidth": 2,
            "linecolor": "white",
            "showbackground": true,
            "ticks": "",
            "zerolinecolor": "white"
           },
           "zaxis": {
            "backgroundcolor": "#E5ECF6",
            "gridcolor": "white",
            "gridwidth": 2,
            "linecolor": "white",
            "showbackground": true,
            "ticks": "",
            "zerolinecolor": "white"
           }
          },
          "shapedefaults": {
           "line": {
            "color": "#2a3f5f"
           }
          },
          "ternary": {
           "aaxis": {
            "gridcolor": "white",
            "linecolor": "white",
            "ticks": ""
           },
           "baxis": {
            "gridcolor": "white",
            "linecolor": "white",
            "ticks": ""
           },
           "bgcolor": "#E5ECF6",
           "caxis": {
            "gridcolor": "white",
            "linecolor": "white",
            "ticks": ""
           }
          },
          "title": {
           "x": 0.05
          },
          "xaxis": {
           "automargin": true,
           "gridcolor": "white",
           "linecolor": "white",
           "ticks": "",
           "title": {
            "standoff": 15
           },
           "zerolinecolor": "white",
           "zerolinewidth": 2
          },
          "yaxis": {
           "automargin": true,
           "gridcolor": "white",
           "linecolor": "white",
           "ticks": "",
           "title": {
            "standoff": 15
           },
           "zerolinecolor": "white",
           "zerolinewidth": 2
          }
         }
        },
        "title": {
         "text": "Importance of attribute variables: before and after. Partner's that female want "
        }
       }
      },
      "text/html": [
       "<div>                            <div id=\"9c18721b-fc37-4997-9026-6fa799298858\" class=\"plotly-graph-div\" style=\"height:525px; width:100%;\"></div>            <script type=\"text/javascript\">                require([\"plotly\"], function(Plotly) {                    window.PLOTLYENV=window.PLOTLYENV || {};                                    if (document.getElementById(\"9c18721b-fc37-4997-9026-6fa799298858\")) {                    Plotly.newPlot(                        \"9c18721b-fc37-4997-9026-6fa799298858\",                        [{\"fill\":\"toself\",\"name\":\"Before\",\"r\":[0.14406894739532428,0.10412288486301635,0.10774204370305002,0.1032702587134808,0.09262577333764843,0.07324554618460699],\"theta\":[\"attr1_1\",\"sinc1_1\",\"intel1_1\",\"fun1_1\",\"amb1_1\",\"shar1_1\"],\"type\":\"scatterpolar\"},{\"fill\":\"toself\",\"name\":\"After\",\"r\":[0.03856452469508212,0.0024424054770529864,0.01812712995236332,0.05664136119059034,0.022085778783647873,0.05775221514835811],\"theta\":[\"attr1_1\",\"sinc1_1\",\"intel1_1\",\"fun1_1\",\"amb1_1\",\"shar1_1\"],\"type\":\"scatterpolar\"}],                        {\"template\":{\"data\":{\"bar\":[{\"error_x\":{\"color\":\"#2a3f5f\"},\"error_y\":{\"color\":\"#2a3f5f\"},\"marker\":{\"line\":{\"color\":\"#E5ECF6\",\"width\":0.5},\"pattern\":{\"fillmode\":\"overlay\",\"size\":10,\"solidity\":0.2}},\"type\":\"bar\"}],\"barpolar\":[{\"marker\":{\"line\":{\"color\":\"#E5ECF6\",\"width\":0.5},\"pattern\":{\"fillmode\":\"overlay\",\"size\":10,\"solidity\":0.2}},\"type\":\"barpolar\"}],\"carpet\":[{\"aaxis\":{\"endlinecolor\":\"#2a3f5f\",\"gridcolor\":\"white\",\"linecolor\":\"white\",\"minorgridcolor\":\"white\",\"startlinecolor\":\"#2a3f5f\"},\"baxis\":{\"endlinecolor\":\"#2a3f5f\",\"gridcolor\":\"white\",\"linecolor\":\"white\",\"minorgridcolor\":\"white\",\"startlinecolor\":\"#2a3f5f\"},\"type\":\"carpet\"}],\"choropleth\":[{\"colorbar\":{\"outlinewidth\":0,\"ticks\":\"\"},\"type\":\"choropleth\"}],\"contour\":[{\"colorbar\":{\"outlinewidth\":0,\"ticks\":\"\"},\"colorscale\":[[0.0,\"#0d0887\"],[0.1111111111111111,\"#46039f\"],[0.2222222222222222,\"#7201a8\"],[0.3333333333333333,\"#9c179e\"],[0.4444444444444444,\"#bd3786\"],[0.5555555555555556,\"#d8576b\"],[0.6666666666666666,\"#ed7953\"],[0.7777777777777778,\"#fb9f3a\"],[0.8888888888888888,\"#fdca26\"],[1.0,\"#f0f921\"]],\"type\":\"contour\"}],\"contourcarpet\":[{\"colorbar\":{\"outlinewidth\":0,\"ticks\":\"\"},\"type\":\"contourcarpet\"}],\"heatmap\":[{\"colorbar\":{\"outlinewidth\":0,\"ticks\":\"\"},\"colorscale\":[[0.0,\"#0d0887\"],[0.1111111111111111,\"#46039f\"],[0.2222222222222222,\"#7201a8\"],[0.3333333333333333,\"#9c179e\"],[0.4444444444444444,\"#bd3786\"],[0.5555555555555556,\"#d8576b\"],[0.6666666666666666,\"#ed7953\"],[0.7777777777777778,\"#fb9f3a\"],[0.8888888888888888,\"#fdca26\"],[1.0,\"#f0f921\"]],\"type\":\"heatmap\"}],\"heatmapgl\":[{\"colorbar\":{\"outlinewidth\":0,\"ticks\":\"\"},\"colorscale\":[[0.0,\"#0d0887\"],[0.1111111111111111,\"#46039f\"],[0.2222222222222222,\"#7201a8\"],[0.3333333333333333,\"#9c179e\"],[0.4444444444444444,\"#bd3786\"],[0.5555555555555556,\"#d8576b\"],[0.6666666666666666,\"#ed7953\"],[0.7777777777777778,\"#fb9f3a\"],[0.8888888888888888,\"#fdca26\"],[1.0,\"#f0f921\"]],\"type\":\"heatmapgl\"}],\"histogram\":[{\"marker\":{\"pattern\":{\"fillmode\":\"overlay\",\"size\":10,\"solidity\":0.2}},\"type\":\"histogram\"}],\"histogram2d\":[{\"colorbar\":{\"outlinewidth\":0,\"ticks\":\"\"},\"colorscale\":[[0.0,\"#0d0887\"],[0.1111111111111111,\"#46039f\"],[0.2222222222222222,\"#7201a8\"],[0.3333333333333333,\"#9c179e\"],[0.4444444444444444,\"#bd3786\"],[0.5555555555555556,\"#d8576b\"],[0.6666666666666666,\"#ed7953\"],[0.7777777777777778,\"#fb9f3a\"],[0.8888888888888888,\"#fdca26\"],[1.0,\"#f0f921\"]],\"type\":\"histogram2d\"}],\"histogram2dcontour\":[{\"colorbar\":{\"outlinewidth\":0,\"ticks\":\"\"},\"colorscale\":[[0.0,\"#0d0887\"],[0.1111111111111111,\"#46039f\"],[0.2222222222222222,\"#7201a8\"],[0.3333333333333333,\"#9c179e\"],[0.4444444444444444,\"#bd3786\"],[0.5555555555555556,\"#d8576b\"],[0.6666666666666666,\"#ed7953\"],[0.7777777777777778,\"#fb9f3a\"],[0.8888888888888888,\"#fdca26\"],[1.0,\"#f0f921\"]],\"type\":\"histogram2dcontour\"}],\"mesh3d\":[{\"colorbar\":{\"outlinewidth\":0,\"ticks\":\"\"},\"type\":\"mesh3d\"}],\"parcoords\":[{\"line\":{\"colorbar\":{\"outlinewidth\":0,\"ticks\":\"\"}},\"type\":\"parcoords\"}],\"pie\":[{\"automargin\":true,\"type\":\"pie\"}],\"scatter\":[{\"marker\":{\"colorbar\":{\"outlinewidth\":0,\"ticks\":\"\"}},\"type\":\"scatter\"}],\"scatter3d\":[{\"line\":{\"colorbar\":{\"outlinewidth\":0,\"ticks\":\"\"}},\"marker\":{\"colorbar\":{\"outlinewidth\":0,\"ticks\":\"\"}},\"type\":\"scatter3d\"}],\"scattercarpet\":[{\"marker\":{\"colorbar\":{\"outlinewidth\":0,\"ticks\":\"\"}},\"type\":\"scattercarpet\"}],\"scattergeo\":[{\"marker\":{\"colorbar\":{\"outlinewidth\":0,\"ticks\":\"\"}},\"type\":\"scattergeo\"}],\"scattergl\":[{\"marker\":{\"colorbar\":{\"outlinewidth\":0,\"ticks\":\"\"}},\"type\":\"scattergl\"}],\"scattermapbox\":[{\"marker\":{\"colorbar\":{\"outlinewidth\":0,\"ticks\":\"\"}},\"type\":\"scattermapbox\"}],\"scatterpolar\":[{\"marker\":{\"colorbar\":{\"outlinewidth\":0,\"ticks\":\"\"}},\"type\":\"scatterpolar\"}],\"scatterpolargl\":[{\"marker\":{\"colorbar\":{\"outlinewidth\":0,\"ticks\":\"\"}},\"type\":\"scatterpolargl\"}],\"scatterternary\":[{\"marker\":{\"colorbar\":{\"outlinewidth\":0,\"ticks\":\"\"}},\"type\":\"scatterternary\"}],\"surface\":[{\"colorbar\":{\"outlinewidth\":0,\"ticks\":\"\"},\"colorscale\":[[0.0,\"#0d0887\"],[0.1111111111111111,\"#46039f\"],[0.2222222222222222,\"#7201a8\"],[0.3333333333333333,\"#9c179e\"],[0.4444444444444444,\"#bd3786\"],[0.5555555555555556,\"#d8576b\"],[0.6666666666666666,\"#ed7953\"],[0.7777777777777778,\"#fb9f3a\"],[0.8888888888888888,\"#fdca26\"],[1.0,\"#f0f921\"]],\"type\":\"surface\"}],\"table\":[{\"cells\":{\"fill\":{\"color\":\"#EBF0F8\"},\"line\":{\"color\":\"white\"}},\"header\":{\"fill\":{\"color\":\"#C8D4E3\"},\"line\":{\"color\":\"white\"}},\"type\":\"table\"}]},\"layout\":{\"annotationdefaults\":{\"arrowcolor\":\"#2a3f5f\",\"arrowhead\":0,\"arrowwidth\":1},\"autotypenumbers\":\"strict\",\"coloraxis\":{\"colorbar\":{\"outlinewidth\":0,\"ticks\":\"\"}},\"colorscale\":{\"diverging\":[[0,\"#8e0152\"],[0.1,\"#c51b7d\"],[0.2,\"#de77ae\"],[0.3,\"#f1b6da\"],[0.4,\"#fde0ef\"],[0.5,\"#f7f7f7\"],[0.6,\"#e6f5d0\"],[0.7,\"#b8e186\"],[0.8,\"#7fbc41\"],[0.9,\"#4d9221\"],[1,\"#276419\"]],\"sequential\":[[0.0,\"#0d0887\"],[0.1111111111111111,\"#46039f\"],[0.2222222222222222,\"#7201a8\"],[0.3333333333333333,\"#9c179e\"],[0.4444444444444444,\"#bd3786\"],[0.5555555555555556,\"#d8576b\"],[0.6666666666666666,\"#ed7953\"],[0.7777777777777778,\"#fb9f3a\"],[0.8888888888888888,\"#fdca26\"],[1.0,\"#f0f921\"]],\"sequentialminus\":[[0.0,\"#0d0887\"],[0.1111111111111111,\"#46039f\"],[0.2222222222222222,\"#7201a8\"],[0.3333333333333333,\"#9c179e\"],[0.4444444444444444,\"#bd3786\"],[0.5555555555555556,\"#d8576b\"],[0.6666666666666666,\"#ed7953\"],[0.7777777777777778,\"#fb9f3a\"],[0.8888888888888888,\"#fdca26\"],[1.0,\"#f0f921\"]]},\"colorway\":[\"#636efa\",\"#EF553B\",\"#00cc96\",\"#ab63fa\",\"#FFA15A\",\"#19d3f3\",\"#FF6692\",\"#B6E880\",\"#FF97FF\",\"#FECB52\"],\"font\":{\"color\":\"#2a3f5f\"},\"geo\":{\"bgcolor\":\"white\",\"lakecolor\":\"white\",\"landcolor\":\"#E5ECF6\",\"showlakes\":true,\"showland\":true,\"subunitcolor\":\"white\"},\"hoverlabel\":{\"align\":\"left\"},\"hovermode\":\"closest\",\"mapbox\":{\"style\":\"light\"},\"paper_bgcolor\":\"white\",\"plot_bgcolor\":\"#E5ECF6\",\"polar\":{\"angularaxis\":{\"gridcolor\":\"white\",\"linecolor\":\"white\",\"ticks\":\"\"},\"bgcolor\":\"#E5ECF6\",\"radialaxis\":{\"gridcolor\":\"white\",\"linecolor\":\"white\",\"ticks\":\"\"}},\"scene\":{\"xaxis\":{\"backgroundcolor\":\"#E5ECF6\",\"gridcolor\":\"white\",\"gridwidth\":2,\"linecolor\":\"white\",\"showbackground\":true,\"ticks\":\"\",\"zerolinecolor\":\"white\"},\"yaxis\":{\"backgroundcolor\":\"#E5ECF6\",\"gridcolor\":\"white\",\"gridwidth\":2,\"linecolor\":\"white\",\"showbackground\":true,\"ticks\":\"\",\"zerolinecolor\":\"white\"},\"zaxis\":{\"backgroundcolor\":\"#E5ECF6\",\"gridcolor\":\"white\",\"gridwidth\":2,\"linecolor\":\"white\",\"showbackground\":true,\"ticks\":\"\",\"zerolinecolor\":\"white\"}},\"shapedefaults\":{\"line\":{\"color\":\"#2a3f5f\"}},\"ternary\":{\"aaxis\":{\"gridcolor\":\"white\",\"linecolor\":\"white\",\"ticks\":\"\"},\"baxis\":{\"gridcolor\":\"white\",\"linecolor\":\"white\",\"ticks\":\"\"},\"bgcolor\":\"#E5ECF6\",\"caxis\":{\"gridcolor\":\"white\",\"linecolor\":\"white\",\"ticks\":\"\"}},\"title\":{\"x\":0.05},\"xaxis\":{\"automargin\":true,\"gridcolor\":\"white\",\"linecolor\":\"white\",\"ticks\":\"\",\"title\":{\"standoff\":15},\"zerolinecolor\":\"white\",\"zerolinewidth\":2},\"yaxis\":{\"automargin\":true,\"gridcolor\":\"white\",\"linecolor\":\"white\",\"ticks\":\"\",\"title\":{\"standoff\":15},\"zerolinecolor\":\"white\",\"zerolinewidth\":2}}},\"polar\":{\"radialaxis\":{\"visible\":true,\"range\":[0,0.15]}},\"title\":{\"text\":\"Importance of attribute variables: before and after. Partner's that female want \"},\"showlegend\":true},                        {\"responsive\": true}                    ).then(function(){\n",
       "                            \n",
       "var gd = document.getElementById('9c18721b-fc37-4997-9026-6fa799298858');\n",
       "var x = new MutationObserver(function (mutations, observer) {{\n",
       "        var display = window.getComputedStyle(gd).display;\n",
       "        if (!display || display === 'none') {{\n",
       "            console.log([gd, 'removed!']);\n",
       "            Plotly.purge(gd);\n",
       "            observer.disconnect();\n",
       "        }}\n",
       "}});\n",
       "\n",
       "// Listen for the removal of the full notebook cells\n",
       "var notebookContainer = gd.closest('#notebook-container');\n",
       "if (notebookContainer) {{\n",
       "    x.observe(notebookContainer, {childList: true});\n",
       "}}\n",
       "\n",
       "// Listen for the clearing of the current output cell\n",
       "var outputEl = gd.closest('.output');\n",
       "if (outputEl) {{\n",
       "    x.observe(outputEl, {childList: true});\n",
       "}}\n",
       "\n",
       "                        })                };                });            </script>        </div>"
      ]
     },
     "metadata": {},
     "output_type": "display_data"
    }
   ],
   "source": [
    "plotRadar(before_female_coef, after_female_coef, [0, 0.15] ,\"Importance of attribute variables: before and after. Partner's that female want \")"
   ]
  },
  {
   "cell_type": "markdown",
   "id": "3be5dc05",
   "metadata": {},
   "source": [
    "## 3.4 Which similarity will increase you chance of getting a date"
   ]
  },
  {
   "cell_type": "code",
   "execution_count": 266,
   "id": "1151fb9c",
   "metadata": {
    "scrolled": false
   },
   "outputs": [
    {
     "data": {
      "text/html": [
       "<table class=\"simpletable\">\n",
       "<caption>OLS Regression Results</caption>\n",
       "<tr>\n",
       "  <th>Dep. Variable:</th>          <td>match</td>      <th>  R-squared (uncentered):</th>       <td>   1.000</td> \n",
       "</tr>\n",
       "<tr>\n",
       "  <th>Model:</th>                   <td>OLS</td>       <th>  Adj. R-squared (uncentered):</th>  <td>   1.000</td> \n",
       "</tr>\n",
       "<tr>\n",
       "  <th>Method:</th>             <td>Least Squares</td>  <th>  F-statistic:       </th>           <td>2.331e+08</td>\n",
       "</tr>\n",
       "<tr>\n",
       "  <th>Date:</th>             <td>Sun, 24 Apr 2022</td> <th>  Prob (F-statistic):</th>            <td>  0.00</td>  \n",
       "</tr>\n",
       "<tr>\n",
       "  <th>Time:</th>                 <td>11:40:33</td>     <th>  Log-Likelihood:    </th>           <td>  18917.</td> \n",
       "</tr>\n",
       "<tr>\n",
       "  <th>No. Observations:</th>      <td>  4174</td>      <th>  AIC:               </th>          <td>-3.783e+04</td>\n",
       "</tr>\n",
       "<tr>\n",
       "  <th>Df Residuals:</th>          <td>  4172</td>      <th>  BIC:               </th>          <td>-3.782e+04</td>\n",
       "</tr>\n",
       "<tr>\n",
       "  <th>Df Model:</th>              <td>     2</td>      <th>                     </th>               <td> </td>    \n",
       "</tr>\n",
       "<tr>\n",
       "  <th>Covariance Type:</th>      <td>nonrobust</td>    <th>                     </th>               <td> </td>    \n",
       "</tr>\n",
       "</table>\n",
       "<table class=\"simpletable\">\n",
       "<tr>\n",
       "         <td></td>           <th>coef</th>     <th>std err</th>      <th>t</th>      <th>P>|t|</th>  <th>[0.025</th>    <th>0.975]</th>  \n",
       "</tr>\n",
       "<tr>\n",
       "  <th>SameField</th>      <td>    0.1846</td> <td> 7.44e+08</td> <td> 2.48e-10</td> <td> 1.000</td> <td>-1.46e+09</td> <td> 1.46e+09</td>\n",
       "</tr>\n",
       "<tr>\n",
       "  <th>SameRegion</th>     <td>    0.4141</td> <td> 1.82e+09</td> <td> 2.27e-10</td> <td> 1.000</td> <td>-3.57e+09</td> <td> 3.57e+09</td>\n",
       "</tr>\n",
       "<tr>\n",
       "  <th>SameRace</th>       <td>    0.4156</td> <td> 1.82e+09</td> <td> 2.28e-10</td> <td> 1.000</td> <td>-3.57e+09</td> <td> 3.57e+09</td>\n",
       "</tr>\n",
       "<tr>\n",
       "  <th>SharedInterest</th> <td>   -0.0113</td> <td>  2.9e+09</td> <td>-3.89e-12</td> <td> 1.000</td> <td>-5.68e+09</td> <td> 5.68e+09</td>\n",
       "</tr>\n",
       "</table>\n",
       "<table class=\"simpletable\">\n",
       "<tr>\n",
       "  <th>Omnibus:</th>       <td>755.593</td> <th>  Durbin-Watson:     </th> <td>   0.393</td> \n",
       "</tr>\n",
       "<tr>\n",
       "  <th>Prob(Omnibus):</th> <td> 0.000</td>  <th>  Jarque-Bera (JB):  </th> <td>1056.752</td> \n",
       "</tr>\n",
       "<tr>\n",
       "  <th>Skew:</th>          <td> 1.200</td>  <th>  Prob(JB):          </th> <td>3.38e-230</td>\n",
       "</tr>\n",
       "<tr>\n",
       "  <th>Kurtosis:</th>      <td> 2.441</td>  <th>  Cond. No.          </th> <td>2.55e+28</td> \n",
       "</tr>\n",
       "</table><br/><br/>Notes:<br/>[1] R² is computed without centering (uncentered) since the model does not contain a constant.<br/>[2] Standard Errors assume that the covariance matrix of the errors is correctly specified.<br/>[3] The smallest eigenvalue is 1.94e-53. This might indicate that there are<br/>strong multicollinearity problems or that the design matrix is singular."
      ],
      "text/plain": [
       "<class 'statsmodels.iolib.summary.Summary'>\n",
       "\"\"\"\n",
       "                                 OLS Regression Results                                \n",
       "=======================================================================================\n",
       "Dep. Variable:                  match   R-squared (uncentered):                   1.000\n",
       "Model:                            OLS   Adj. R-squared (uncentered):              1.000\n",
       "Method:                 Least Squares   F-statistic:                          2.331e+08\n",
       "Date:                Sun, 24 Apr 2022   Prob (F-statistic):                        0.00\n",
       "Time:                        11:40:33   Log-Likelihood:                          18917.\n",
       "No. Observations:                4174   AIC:                                 -3.783e+04\n",
       "Df Residuals:                    4172   BIC:                                 -3.782e+04\n",
       "Df Model:                           2                                                  \n",
       "Covariance Type:            nonrobust                                                  \n",
       "==================================================================================\n",
       "                     coef    std err          t      P>|t|      [0.025      0.975]\n",
       "----------------------------------------------------------------------------------\n",
       "SameField          0.1846   7.44e+08   2.48e-10      1.000   -1.46e+09    1.46e+09\n",
       "SameRegion         0.4141   1.82e+09   2.27e-10      1.000   -3.57e+09    3.57e+09\n",
       "SameRace           0.4156   1.82e+09   2.28e-10      1.000   -3.57e+09    3.57e+09\n",
       "SharedInterest    -0.0113    2.9e+09  -3.89e-12      1.000   -5.68e+09    5.68e+09\n",
       "==============================================================================\n",
       "Omnibus:                      755.593   Durbin-Watson:                   0.393\n",
       "Prob(Omnibus):                  0.000   Jarque-Bera (JB):             1056.752\n",
       "Skew:                           1.200   Prob(JB):                    3.38e-230\n",
       "Kurtosis:                       2.441   Cond. No.                     2.55e+28\n",
       "==============================================================================\n",
       "\n",
       "Notes:\n",
       "[1] R² is computed without centering (uncentered) since the model does not contain a constant.\n",
       "[2] Standard Errors assume that the covariance matrix of the errors is correctly specified.\n",
       "[3] The smallest eigenvalue is 1.94e-53. This might indicate that there are\n",
       "strong multicollinearity problems or that the design matrix is singular.\n",
       "\"\"\""
      ]
     },
     "execution_count": 266,
     "metadata": {},
     "output_type": "execute_result"
    }
   ],
   "source": [
    "import statsmodels.api as ols\n",
    "#OLS MODEL\n",
    "attr = ols.OLS(similar_male[\"match\"], similar_male.iloc[:,0:4])\n",
    "result = attr.fit()\n",
    "result.summary()                                    "
   ]
  },
  {
   "cell_type": "code",
   "execution_count": 267,
   "id": "7ad6fff5",
   "metadata": {},
   "outputs": [],
   "source": [
    "similar_male_coef = result.params.abs()"
   ]
  },
  {
   "cell_type": "code",
   "execution_count": 268,
   "id": "63dd9c28",
   "metadata": {
    "scrolled": false
   },
   "outputs": [
    {
     "data": {
      "text/html": [
       "<table class=\"simpletable\">\n",
       "<caption>OLS Regression Results</caption>\n",
       "<tr>\n",
       "  <th>Dep. Variable:</th>          <td>match</td>      <th>  R-squared (uncentered):</th>       <td>   0.999</td> \n",
       "</tr>\n",
       "<tr>\n",
       "  <th>Model:</th>                   <td>OLS</td>       <th>  Adj. R-squared (uncentered):</th>  <td>   0.999</td> \n",
       "</tr>\n",
       "<tr>\n",
       "  <th>Method:</th>             <td>Least Squares</td>  <th>  F-statistic:       </th>           <td>2.088e+06</td>\n",
       "</tr>\n",
       "<tr>\n",
       "  <th>Date:</th>             <td>Sun, 24 Apr 2022</td> <th>  Prob (F-statistic):</th>            <td>  0.00</td>  \n",
       "</tr>\n",
       "<tr>\n",
       "  <th>Time:</th>                 <td>11:40:37</td>     <th>  Log-Likelihood:    </th>           <td>  8971.4</td> \n",
       "</tr>\n",
       "<tr>\n",
       "  <th>No. Observations:</th>      <td>  4125</td>      <th>  AIC:               </th>          <td>-1.794e+04</td>\n",
       "</tr>\n",
       "<tr>\n",
       "  <th>Df Residuals:</th>          <td>  4123</td>      <th>  BIC:               </th>          <td>-1.793e+04</td>\n",
       "</tr>\n",
       "<tr>\n",
       "  <th>Df Model:</th>              <td>     2</td>      <th>                     </th>               <td> </td>    \n",
       "</tr>\n",
       "<tr>\n",
       "  <th>Covariance Type:</th>      <td>nonrobust</td>    <th>                     </th>               <td> </td>    \n",
       "</tr>\n",
       "</table>\n",
       "<table class=\"simpletable\">\n",
       "<tr>\n",
       "         <td></td>           <th>coef</th>     <th>std err</th>      <th>t</th>      <th>P>|t|</th>  <th>[0.025</th>    <th>0.975]</th>  \n",
       "</tr>\n",
       "<tr>\n",
       "  <th>SameField</th>      <td>    0.1107</td> <td> 7.39e+09</td> <td>  1.5e-11</td> <td> 1.000</td> <td>-1.45e+10</td> <td> 1.45e+10</td>\n",
       "</tr>\n",
       "<tr>\n",
       "  <th>SameRegion</th>     <td>    0.5882</td> <td> 1.82e+10</td> <td> 3.22e-11</td> <td> 1.000</td> <td>-3.58e+10</td> <td> 3.58e+10</td>\n",
       "</tr>\n",
       "<tr>\n",
       "  <th>SameRace</th>       <td>    0.5886</td> <td> 1.82e+10</td> <td> 3.23e-11</td> <td> 1.000</td> <td>-3.58e+10</td> <td> 3.58e+10</td>\n",
       "</tr>\n",
       "<tr>\n",
       "  <th>SharedInterest</th> <td>   -0.3189</td> <td> 2.91e+10</td> <td> -1.1e-11</td> <td> 1.000</td> <td>-5.71e+10</td> <td> 5.71e+10</td>\n",
       "</tr>\n",
       "</table>\n",
       "<table class=\"simpletable\">\n",
       "<tr>\n",
       "  <th>Omnibus:</th>       <td>730.789</td> <th>  Durbin-Watson:     </th> <td>   0.406</td> \n",
       "</tr>\n",
       "<tr>\n",
       "  <th>Prob(Omnibus):</th> <td> 0.000</td>  <th>  Jarque-Bera (JB):  </th> <td>1118.751</td> \n",
       "</tr>\n",
       "<tr>\n",
       "  <th>Skew:</th>          <td>-1.259</td>  <th>  Prob(JB):          </th> <td>1.17e-243</td>\n",
       "</tr>\n",
       "<tr>\n",
       "  <th>Kurtosis:</th>      <td> 2.584</td>  <th>  Cond. No.          </th> <td>2.28e+28</td> \n",
       "</tr>\n",
       "</table><br/><br/>Notes:<br/>[1] R² is computed without centering (uncentered) since the model does not contain a constant.<br/>[2] Standard Errors assume that the covariance matrix of the errors is correctly specified.<br/>[3] The smallest eigenvalue is 2.43e-53. This might indicate that there are<br/>strong multicollinearity problems or that the design matrix is singular."
      ],
      "text/plain": [
       "<class 'statsmodels.iolib.summary.Summary'>\n",
       "\"\"\"\n",
       "                                 OLS Regression Results                                \n",
       "=======================================================================================\n",
       "Dep. Variable:                  match   R-squared (uncentered):                   0.999\n",
       "Model:                            OLS   Adj. R-squared (uncentered):              0.999\n",
       "Method:                 Least Squares   F-statistic:                          2.088e+06\n",
       "Date:                Sun, 24 Apr 2022   Prob (F-statistic):                        0.00\n",
       "Time:                        11:40:37   Log-Likelihood:                          8971.4\n",
       "No. Observations:                4125   AIC:                                 -1.794e+04\n",
       "Df Residuals:                    4123   BIC:                                 -1.793e+04\n",
       "Df Model:                           2                                                  \n",
       "Covariance Type:            nonrobust                                                  \n",
       "==================================================================================\n",
       "                     coef    std err          t      P>|t|      [0.025      0.975]\n",
       "----------------------------------------------------------------------------------\n",
       "SameField          0.1107   7.39e+09    1.5e-11      1.000   -1.45e+10    1.45e+10\n",
       "SameRegion         0.5882   1.82e+10   3.22e-11      1.000   -3.58e+10    3.58e+10\n",
       "SameRace           0.5886   1.82e+10   3.23e-11      1.000   -3.58e+10    3.58e+10\n",
       "SharedInterest    -0.3189   2.91e+10   -1.1e-11      1.000   -5.71e+10    5.71e+10\n",
       "==============================================================================\n",
       "Omnibus:                      730.789   Durbin-Watson:                   0.406\n",
       "Prob(Omnibus):                  0.000   Jarque-Bera (JB):             1118.751\n",
       "Skew:                          -1.259   Prob(JB):                    1.17e-243\n",
       "Kurtosis:                       2.584   Cond. No.                     2.28e+28\n",
       "==============================================================================\n",
       "\n",
       "Notes:\n",
       "[1] R² is computed without centering (uncentered) since the model does not contain a constant.\n",
       "[2] Standard Errors assume that the covariance matrix of the errors is correctly specified.\n",
       "[3] The smallest eigenvalue is 2.43e-53. This might indicate that there are\n",
       "strong multicollinearity problems or that the design matrix is singular.\n",
       "\"\"\""
      ]
     },
     "execution_count": 268,
     "metadata": {},
     "output_type": "execute_result"
    }
   ],
   "source": [
    "import statsmodels.api as ols\n",
    "#OLS MODEL\n",
    "attr = ols.OLS(similar_female[\"match\"], similar_female.iloc[:,0:4])\n",
    "result = attr.fit()\n",
    "result.summary()                                    "
   ]
  },
  {
   "cell_type": "code",
   "execution_count": 269,
   "id": "e91f76fb",
   "metadata": {},
   "outputs": [],
   "source": [
    "similar_female_coef = result.params.abs()"
   ]
  },
  {
   "cell_type": "code",
   "execution_count": 270,
   "id": "a1b9b8c0",
   "metadata": {},
   "outputs": [
    {
     "data": {
      "text/html": [
       "<th style=\"text-align:center\"><td style=\"vertical-align:top\"><h2>Male</h2><table style=\"display:inline\" border=\"1\" class=\"dataframe\">\n",
       "  <thead>\n",
       "    <tr style=\"text-align: right;\">\n",
       "      <th></th>\n",
       "      <th>0</th>\n",
       "    </tr>\n",
       "  </thead>\n",
       "  <tbody>\n",
       "    <tr>\n",
       "      <th>SameField</th>\n",
       "      <td>0.184615</td>\n",
       "    </tr>\n",
       "    <tr>\n",
       "      <th>SameRegion</th>\n",
       "      <td>0.414075</td>\n",
       "    </tr>\n",
       "    <tr>\n",
       "      <th>SameRace</th>\n",
       "      <td>0.415562</td>\n",
       "    </tr>\n",
       "    <tr>\n",
       "      <th>SharedInterest</th>\n",
       "      <td>0.011261</td>\n",
       "    </tr>\n",
       "  </tbody>\n",
       "</table style=\"display:inline\"></td></th><th style=\"text-align:center\"><td style=\"vertical-align:top\"><h2>Female</h2><table style=\"display:inline\" border=\"1\" class=\"dataframe\">\n",
       "  <thead>\n",
       "    <tr style=\"text-align: right;\">\n",
       "      <th></th>\n",
       "      <th>0</th>\n",
       "    </tr>\n",
       "  </thead>\n",
       "  <tbody>\n",
       "    <tr>\n",
       "      <th>SameField</th>\n",
       "      <td>0.110749</td>\n",
       "    </tr>\n",
       "    <tr>\n",
       "      <th>SameRegion</th>\n",
       "      <td>0.588151</td>\n",
       "    </tr>\n",
       "    <tr>\n",
       "      <th>SameRace</th>\n",
       "      <td>0.588630</td>\n",
       "    </tr>\n",
       "    <tr>\n",
       "      <th>SharedInterest</th>\n",
       "      <td>0.318936</td>\n",
       "    </tr>\n",
       "  </tbody>\n",
       "</table style=\"display:inline\"></td></th>"
      ]
     },
     "metadata": {},
     "output_type": "display_data"
    }
   ],
   "source": [
    "display_side_by_side(pd.DataFrame(similar_male_coef),pd.DataFrame(similar_female_coef), titles=['Male','Female'])"
   ]
  },
  {
   "cell_type": "code",
   "execution_count": 271,
   "id": "83b55626",
   "metadata": {
    "scrolled": true
   },
   "outputs": [
    {
     "data": {
      "image/png": "[encoded data removed]",
      "text/plain": [
       "<Figure size 1440x576 with 2 Axes>"
      ]
     },
     "metadata": {
      "needs_background": "light"
     },
     "output_type": "display_data"
    }
   ],
   "source": [
    "f, ax = verticleCanvas((20, 8))\n",
    "pd.DataFrame(similar_male_coef ).plot(kind=\"barh\", ax = ax[0], color = \"#3B8484\")\n",
    "ax[0].set_title(\"Male\")\n",
    "pd.DataFrame(similar_female_coef ).plot(kind=\"barh\", ax = ax[1], color = \"#B78627\")\n",
    "ax[1].set_title(\"Female\")\n",
    "plt.show()"
   ]
  },
  {
   "cell_type": "markdown",
   "id": "ff850a14",
   "metadata": {},
   "source": [
    "# Comparing accuracy with XGBoost, Logistic Rgression, RandomForest"
   ]
  },
  {
   "cell_type": "code",
   "execution_count": null,
   "id": "3c49109d",
   "metadata": {},
   "outputs": [],
   "source": [
    "categories = {\n",
    "    \"similarities\": [], \n",
    "    \"attrBefore\":['attr1_1', 'sinc1_1', 'intel1_1', 'fun1_1', 'amb1_1', 'shar1_1', 'match'], \n",
    "    \"attrAfter\":['attr', 'sinc', 'intel', 'fun', 'amb', 'shar', 'match'], \n",
    "    \"satIncome\": ['log_mn_sat','log_income','match']\n",
    "}\n"
   ]
  },
  {
   "cell_type": "code",
   "execution_count": 287,
   "id": "5347a5d6",
   "metadata": {},
   "outputs": [],
   "source": [
    "X_train, X_test, y_train, y_test = split(after_male, \"match\")"
   ]
  },
  {
   "cell_type": "markdown",
   "id": "c5e75b08",
   "metadata": {},
   "source": [
    "### Random Forest Model"
   ]
  },
  {
   "cell_type": "code",
   "execution_count": 295,
   "id": "c8ad0b0d",
   "metadata": {
    "scrolled": true
   },
   "outputs": [
    {
     "name": "stdout",
     "output_type": "stream",
     "text": [
      "Training Accuracy: 0.9552344025378922\n",
      "Validation Accuracy: 0.7887323943661971\n"
     ]
    }
   ],
   "source": [
    "# RandomForest classifier\n",
    "model = RandomForestClassifier()\n",
    "rf_model = model.fit(X_train, y_train)\n",
    "predict_train_rf = rf_model.predict(X_train)\n",
    "predict_test_rf = rf_model.predict(X_test)\n",
    "print('Training Accuracy:', metrics.accuracy_score(y_train, predict_train_rf))\n",
    "print('Validation Accuracy:', metrics.accuracy_score(y_test, predict_test_rf))"
   ]
  },
  {
   "cell_type": "markdown",
   "id": "eb4d31e5",
   "metadata": {},
   "source": [
    "### XGBoost Model"
   ]
  },
  {
   "cell_type": "code",
   "execution_count": 293,
   "id": "f65ca0dc",
   "metadata": {},
   "outputs": [
    {
     "name": "stdout",
     "output_type": "stream",
     "text": [
      "Training Accuracy: 0.8466690165667959\n",
      "Validation Accuracy: 0.8126760563380282\n"
     ]
    }
   ],
   "source": [
    "# xgboost model\n",
    "model = GradientBoostingClassifier()\n",
    "xgb_model = model.fit(X_train, y_train)\n",
    "predict_train_xgb = xgb_model.predict(X_train)\n",
    "predict_test_xgb = xgb_model.predict(X_test)\n",
    "print('Training Accuracy:', metrics.accuracy_score(y_train, predict_train_xgb))\n",
    "print('Validation Accuracy:', metrics.accuracy_score(y_test, predict_test_xgb))"
   ]
  },
  {
   "cell_type": "markdown",
   "id": "cf423e51",
   "metadata": {},
   "source": [
    "### Logistic Regression Model"
   ]
  },
  {
   "cell_type": "code",
   "execution_count": 297,
   "id": "2368c175",
   "metadata": {},
   "outputs": [
    {
     "name": "stdout",
     "output_type": "stream",
     "text": [
      "Training Accuracy: 0.8234050052872753\n",
      "Validation Accuracy: 0.8112676056338028\n"
     ]
    }
   ],
   "source": [
    "# logistic regression classification model\n",
    "model = LogisticRegression(C=1, random_state=0)\n",
    "lrc = model.fit(X_train, y_train)\n",
    "predict_train_lrc = lrc.predict(X_train)\n",
    "predict_test_lrc = lrc.predict(X_test)\n",
    "print('Training Accuracy:', metrics.accuracy_score(y_train, predict_train_lrc))\n",
    "print('Validation Accuracy:', metrics.accuracy_score(y_test, predict_test_lrc))\n"
   ]
  }
 ],
 "metadata": {
  "kernelspec": {
   "display_name": "Python [conda env:Module1] *",
   "language": "python",
   "name": "conda-env-Module1-py"
  },
  "language_info": {
   "codemirror_mode": {
    "name": "ipython",
    "version": 3
   },
   "file_extension": ".py",
   "mimetype": "text/x-python",
   "name": "python",
   "nbconvert_exporter": "python",
   "pygments_lexer": "ipython3",
   "version": "3.7.0"
  }
 },
 "nbformat": 4,
 "nbformat_minor": 5
}
